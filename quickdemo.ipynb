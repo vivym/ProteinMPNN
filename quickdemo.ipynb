{
  "cells": [
    {
      "cell_type": "markdown",
      "metadata": {
        "id": "AYZebfKn8gef"
      },
      "source": [
        "#ProteinMPNN\n",
        "This notebook is intended as a quick demo, more features to come!"
      ]
    },
    {
      "cell_type": "code",
      "execution_count": 1,
      "metadata": {
        "id": "iYDU3ftml2k5"
      },
      "outputs": [],
      "source": [
        "#@title Clone github repo\n",
        "import json, time, os, sys, glob"
      ]
    },
    {
      "cell_type": "code",
      "execution_count": 2,
      "metadata": {
        "colab": {
          "base_uri": "https://localhost:8080/"
        },
        "id": "2nKSlaMlSpcf",
        "outputId": "293c6f08-8256-4e08-d8ab-3c2a02ab74b8"
      },
      "outputs": [
        {
          "name": "stderr",
          "output_type": "stream",
          "text": [
            "/Users/viv/miniforge3/envs/deep-cpi/lib/python3.9/site-packages/tqdm/auto.py:22: TqdmWarning: IProgress not found. Please update jupyter and ipywidgets. See https://ipywidgets.readthedocs.io/en/stable/user_install.html\n",
            "  from .autonotebook import tqdm as notebook_tqdm\n"
          ]
        },
        {
          "name": "stdout",
          "output_type": "stream",
          "text": [
            "Number of edges: 48\n",
            "Training noise level: 0.2A\n",
            "Model loaded\n"
          ]
        }
      ],
      "source": [
        "#@title Setup Model\n",
        "import matplotlib.pyplot as plt\n",
        "import shutil\n",
        "import warnings\n",
        "import numpy as np\n",
        "import torch\n",
        "from torch import optim\n",
        "from torch.utils.data import DataLoader\n",
        "from torch.utils.data.dataset import random_split, Subset\n",
        "import copy\n",
        "import torch.nn as nn\n",
        "import torch.nn.functional as F\n",
        "import random\n",
        "import os.path\n",
        "from protein_mpnn_utils import loss_nll, loss_smoothed, gather_edges, gather_nodes, gather_nodes_t, cat_neighbors_nodes, _scores, _S_to_seq, tied_featurize, parse_PDB\n",
        "from protein_mpnn_utils import StructureDataset, StructureDatasetPDB, ProteinMPNN\n",
        "\n",
        "device = torch.device(\"cuda:0\" if (torch.cuda.is_available()) else \"cpu\")\n",
        "#v_48_010=version with 48 edges 0.10A noise\n",
        "model_name = \"v_48_020\" #@param [\"v_48_002\", \"v_48_010\", \"v_48_020\", \"v_48_030\"]\n",
        "\n",
        "\n",
        "backbone_noise=0.00               # Standard deviation of Gaussian noise to add to backbone atoms\n",
        "\n",
        "path_to_model_weights='vanilla_model_weights'\n",
        "hidden_dim = 128\n",
        "num_layers = 3\n",
        "model_folder_path = path_to_model_weights\n",
        "if model_folder_path[-1] != '/':\n",
        "    model_folder_path = model_folder_path + '/'\n",
        "checkpoint_path = model_folder_path + f'{model_name}.pt'\n",
        "\n",
        "checkpoint = torch.load(checkpoint_path, map_location=device)\n",
        "print('Number of edges:', checkpoint['num_edges'])\n",
        "noise_level_print = checkpoint['noise_level']\n",
        "print(f'Training noise level: {noise_level_print}A')\n",
        "model = ProteinMPNN(num_letters=21, node_features=hidden_dim, edge_features=hidden_dim, hidden_dim=hidden_dim, num_encoder_layers=num_layers, num_decoder_layers=num_layers, augment_eps=backbone_noise, k_neighbors=checkpoint['num_edges'])\n",
        "model.to(device)\n",
        "model.load_state_dict(checkpoint['model_state_dict'])\n",
        "model.eval()\n",
        "print(\"Model loaded\")"
      ]
    },
    {
      "cell_type": "code",
      "execution_count": 3,
      "metadata": {
        "id": "yjnUkQuZX-de"
      },
      "outputs": [],
      "source": [
        "#@title Helper functions\n",
        "def make_tied_positions_for_homomers(pdb_dict_list):\n",
        "    my_dict = {}\n",
        "    for result in pdb_dict_list:\n",
        "        all_chain_list = sorted([item[-1:] for item in list(result) if item[:9]=='seq_chain']) #A, B, C, ...\n",
        "        tied_positions_list = []\n",
        "        chain_length = len(result[f\"seq_chain_{all_chain_list[0]}\"])\n",
        "        for i in range(1,chain_length+1):\n",
        "            temp_dict = {}\n",
        "            for j, chain in enumerate(all_chain_list):\n",
        "                temp_dict[chain] = [i] #needs to be a list\n",
        "            tied_positions_list.append(temp_dict)\n",
        "        my_dict[result['name']] = tied_positions_list\n",
        "    return my_dict"
      ]
    },
    {
      "cell_type": "markdown",
      "metadata": {
        "id": "bgRXscTaYuqM"
      },
      "source": [
        "Examples: \n",
        "\n",
        "1) pdb: 6MRR, homomer: False, designed_chain: A\n",
        "\n",
        "2) pdb: 1O91, homomer: True, designed_chain: A B C, for correct symmetric tying lenghts of homomer chains should be the same"
      ]
    },
    {
      "cell_type": "code",
      "execution_count": 16,
      "metadata": {
        "colab": {
          "base_uri": "https://localhost:8080/"
        },
        "id": "k4o6w2Y23wxO",
        "outputId": "58d89f72-5d3c-44a7-c2cb-e26c3c54d43f"
      },
      "outputs": [
        {
          "name": "stdout",
          "output_type": "stream",
          "text": [
            "{'1cy6': (['A'], [])}\n",
            "A\n",
            "Length of chain A is 43\n"
          ]
        }
      ],
      "source": [
        "import re\n",
        "import numpy as np\n",
        "\n",
        "#########################\n",
        "def get_pdb(pdb_code=\"\"):\n",
        "  if pdb_code is None or pdb_code == \"\":\n",
        "    ...\n",
        "  else:\n",
        "    os.system(f\"wget -qnc https://files.rcsb.org/view/{pdb_code}.pdb\")\n",
        "    return f\"{pdb_code}.pdb\"\n",
        "\n",
        "#@markdown ### Input Options\n",
        "\n",
        "# pdb='1cy5' #@param {type:\"string\"}\n",
        "# pdb_path = get_pdb(pdb)\n",
        "pdb_path = \"pdb/1cy6.pdb\"\n",
        "\n",
        "\n",
        "# pdb_path = \"pdb/1cy5.pdb\"\n",
        "#@markdown - pdb code (leave blank to get an upload prompt)\n",
        "\n",
        "homomer = True #@param {type:\"boolean\"}\n",
        "designed_chain = \"A\" #@param {type:\"string\"}\n",
        "fixed_chain = \"\" #@param {type:\"string\"}\n",
        "\n",
        "if designed_chain == \"\":\n",
        "  designed_chain_list = []\n",
        "else:\n",
        "  designed_chain_list = re.sub(\"[^A-Za-z]+\",\",\", designed_chain).split(\",\")\n",
        "\n",
        "if fixed_chain == \"\":\n",
        "  fixed_chain_list = []\n",
        "else:\n",
        "  fixed_chain_list = re.sub(\"[^A-Za-z]+\",\",\", fixed_chain).split(\",\")\n",
        "\n",
        "chain_list = list(set(designed_chain_list + fixed_chain_list))\n",
        "\n",
        "#@markdown - specified which chain(s) to design and which chain(s) to keep fixed. \n",
        "#@markdown   Use comma:`A,B` to specifiy more than one chain\n",
        "\n",
        "#chain = \"A\" #@param {type:\"string\"}\n",
        "#pdb_path_chains = chain\n",
        "##@markdown - Define which chain to redesign\n",
        "\n",
        "#@markdown ### Design Options\n",
        "num_seqs = 100 #@param [\"1\", \"2\", \"4\", \"8\", \"16\", \"32\", \"64\"] {type:\"raw\"}\n",
        "num_seq_per_target = num_seqs\n",
        "\n",
        "#@markdown - Sampling temperature for amino acids, T=0.0 means taking argmax, T>>1.0 means sample randomly.\n",
        "sampling_temp = \"0.1\" #@param [\"0.0001\", \"0.1\", \"0.15\", \"0.2\", \"0.25\", \"0.3\", \"0.5\"]\n",
        "\n",
        "\n",
        "\n",
        "save_score=0                      # 0 for False, 1 for True; save score=-log_prob to npy files\n",
        "save_probs=0                      # 0 for False, 1 for True; save MPNN predicted probabilites per position\n",
        "score_only=0                      # 0 for False, 1 for True; score input backbone-sequence pairs\n",
        "conditional_probs_only=0          # 0 for False, 1 for True; output conditional probabilities p(s_i given the rest of the sequence and backbone)\n",
        "conditional_probs_only_backbone=0 # 0 for False, 1 for True; if true output conditional probabilities p(s_i given backbone)\n",
        "\n",
        "batch_size=1                      # Batch size; can set higher for titan, quadro GPUs, reduce this if running out of GPU memory\n",
        "max_length=20000                  # Max sequence length\n",
        "\n",
        "out_folder='.'                    # Path to a folder to output sequences, e.g. /home/out/\n",
        "jsonl_path=''                     # Path to a folder with parsed pdb into jsonl\n",
        "omit_AAs='X'                      # Specify which amino acids should be omitted in the generated sequence, e.g. 'AC' would omit alanine and cystine.\n",
        "\n",
        "pssm_multi=0.0                    # A value between [0.0, 1.0], 0.0 means do not use pssm, 1.0 ignore MPNN predictions\n",
        "pssm_threshold=0.0                # A value between -inf + inf to restric per position AAs\n",
        "pssm_log_odds_flag=0               # 0 for False, 1 for True\n",
        "pssm_bias_flag=0                   # 0 for False, 1 for True\n",
        "\n",
        "\n",
        "##############################################################\n",
        "\n",
        "folder_for_outputs = out_folder\n",
        "\n",
        "NUM_BATCHES = num_seq_per_target//batch_size\n",
        "BATCH_COPIES = batch_size\n",
        "temperatures = [float(item) for item in sampling_temp.split()]\n",
        "omit_AAs_list = omit_AAs\n",
        "alphabet = 'ACDEFGHIKLMNPQRSTVWYX'\n",
        "\n",
        "omit_AAs_np = np.array([AA in omit_AAs_list for AA in alphabet]).astype(np.float32)\n",
        "\n",
        "chain_id_dict = None\n",
        "fixed_positions_dict = None\n",
        "pssm_dict = None\n",
        "omit_AA_dict = None\n",
        "bias_AA_dict = None\n",
        "tied_positions_dict = None\n",
        "bias_by_res_dict = None\n",
        "bias_AAs_np = np.zeros(len(alphabet))\n",
        "\n",
        "\n",
        "###############################################################\n",
        "pdb_dict_list = parse_PDB(pdb_path, input_chain_list=chain_list)\n",
        "dataset_valid = StructureDatasetPDB(pdb_dict_list, truncate=None, max_length=max_length)\n",
        "\n",
        "chain_id_dict = {}\n",
        "chain_id_dict[pdb_dict_list[0]['name']]= (designed_chain_list, fixed_chain_list)\n",
        "\n",
        "print(chain_id_dict)\n",
        "for chain in chain_list:\n",
        "  print(chain)\n",
        "  l = len(pdb_dict_list[0][f\"seq_chain_{chain}\"])\n",
        "  print(f\"Length of chain {chain} is {l}\")\n",
        "\n",
        "if homomer:\n",
        "  tied_positions_dict = make_tied_positions_for_homomers(pdb_dict_list)\n",
        "else:\n",
        "  tied_positions_dict = None"
      ]
    },
    {
      "cell_type": "code",
      "execution_count": 17,
      "metadata": {
        "cellView": "form",
        "colab": {
          "base_uri": "https://localhost:8080/"
        },
        "id": "xMVlYh8Fv2of",
        "outputId": "7b3d1839-d872-4f48-f907-775eaf035754"
      },
      "outputs": [
        {
          "name": "stdout",
          "output_type": "stream",
          "text": [
            "Generating sequences...\n",
            ">1cy6, score=1.4510, fixed_chains=[], designed_chains=['A'], model_name=v_48_020\n",
            "TTIKVNGQEYTVPLSPEQAAKAAKKRWPDYEVQIHGNTVKVTR\n",
            ">T=0.1, sample=0, score=0.7252, seq_recovery=0.5581\n",
            "TKIIVDGKEYETPLTPEEAAEWARKQYPDKEVTIEGDTVIVTK\n",
            ">T=0.1, sample=0, score=0.7220, seq_recovery=0.5814\n",
            "TTIIVDGKKYTTPLSPEEAAAWAKKQYPDKTVTVEGDTVIVTK\n",
            ">T=0.1, sample=0, score=0.7206, seq_recovery=0.5349\n",
            "TVIVVDGVEYRTPLSPEEAAAWARERYPEYTVTVEGDRVIVTR\n",
            ">T=0.1, sample=0, score=0.7259, seq_recovery=0.5581\n",
            "TTIVVDGKKYETPLTPEEAAAWAKEQWPEYTVTIDGDTVIVTK\n",
            ">T=0.1, sample=0, score=0.6962, seq_recovery=0.5349\n",
            "TKIIVDGKETETDLSPEEAAEWAKKQYPDYTVTVEGDTVIVTK\n",
            ">T=0.1, sample=0, score=0.7511, seq_recovery=0.6512\n",
            "TTIVVDGKEYTTPLSPEEAAAWAREQWPDYEVTVEGDTVIVTR\n",
            ">T=0.1, sample=0, score=0.6689, seq_recovery=0.5349\n",
            "TTIIVDGKETKTDLTPEEAAAWAKEKYPDYTVTVEGDTVKVTK\n",
            ">T=0.1, sample=0, score=0.6927, seq_recovery=0.5814\n",
            "TTIIVDGKEYKTPLSPEEAAKWAKEKYPEYKVTIEGDKVIVTK\n",
            ">T=0.1, sample=0, score=0.6629, seq_recovery=0.5349\n",
            "TKIIVDGKEYETDLTPEEAAAWAKEKYPDYTVTIDGDTVIVTK\n",
            ">T=0.1, sample=0, score=0.7168, seq_recovery=0.5116\n",
            "TKIIVDGEVFETPLSPEEAAAWAREQWPEYEVTVEGDTVIVTK\n",
            ">T=0.1, sample=0, score=0.7297, seq_recovery=0.6279\n",
            "TTILVDGKEYETPLSPEEAAAWAREQYPDYEVTIEGDTVIVTR\n",
            ">T=0.1, sample=0, score=0.7176, seq_recovery=0.5814\n",
            "TKIIVDGKVYETPLSPEEAAKWAREKWPDKEVTIEGDTVIVTK\n",
            ">T=0.1, sample=0, score=0.6946, seq_recovery=0.4884\n",
            "TKVIVDGKVYETPLTPEEAAEWAKKQYPEYKVTVEGDTVIVTK\n",
            ">T=0.1, sample=0, score=0.7236, seq_recovery=0.5581\n",
            "TKIVVDGKEYETPLSPEEAAEWARKQYPEYEVTIEGDTVIVSK\n",
            ">T=0.1, sample=0, score=0.7688, seq_recovery=0.6047\n",
            "TTVVVDGEEYETPLSPEEAAAWAREQYPDYEVTIEGDTVLVTR\n",
            ">T=0.1, sample=0, score=0.6894, seq_recovery=0.5349\n",
            "TKIIVDGKEYETDLTPEEAAAWAKKKYPDYTVTVEGDTVIVTK\n",
            ">T=0.1, sample=0, score=0.7812, seq_recovery=0.5349\n",
            "TTVIVDGEETETPLSPEEAAEWAREQYPEYEVTIDGDRVIVTR\n",
            ">T=0.1, sample=0, score=0.7166, seq_recovery=0.5581\n",
            "TEIIVDGKKYYTDLSPEEAAEWAKKKWPDYKVTVEGDTVIVTK\n",
            ">T=0.1, sample=0, score=0.6583, seq_recovery=0.6279\n",
            "TTIIVDGKEYKTDLSPEEAAKWAKEKYPDYEVTIEGDTVIVTK\n",
            ">T=0.1, sample=0, score=0.6988, seq_recovery=0.5814\n",
            "TTIIVDGKEYKTDLSPEEAAKWAKEQYPDYTVTVEGDTVIVTK\n",
            ">T=0.1, sample=0, score=0.6804, seq_recovery=0.6047\n",
            "TRIIVDGEEYETPLSPEEAAAWAREKWPEYEVRIEGDTVIVTR\n",
            ">T=0.1, sample=0, score=0.7071, seq_recovery=0.6279\n",
            "TTIIVDGKEYKTDLTPEEAAEWAKKQYPDYEVTIDGDTVKVTK\n",
            ">T=0.1, sample=0, score=0.7507, seq_recovery=0.6047\n",
            "TTIVVDGKKYETPLSPEEAAAWAKKQYPDYTVTVDGDTVKVTK\n",
            ">T=0.1, sample=0, score=0.6809, seq_recovery=0.5814\n",
            "TTIVVDGKEYKTPLSPEEAAAWAKKQYPDKTVTVEGDTVKVSK\n",
            ">T=0.1, sample=0, score=0.6817, seq_recovery=0.4884\n",
            "TKIIVDGKEEETPLTPEEAAAWAKEKYPEYTVTVEGDTVIVTK\n",
            ">T=0.1, sample=0, score=0.7343, seq_recovery=0.5581\n",
            "TTIIVDGKKTETPLTPEEAAEWAKKEYPDKTVTIEGDTVKVTK\n",
            ">T=0.1, sample=0, score=0.6935, seq_recovery=0.6047\n",
            "TKIIVDGKEYETPLTPEEAAEWAKKKWPEYEVTIEGDTVIVTK\n",
            ">T=0.1, sample=0, score=0.6903, seq_recovery=0.5581\n",
            "TTIIVDGKEYKTDLTPEEAAAWAKKQYPDYTVTVEGDTVIVTK\n",
            ">T=0.1, sample=0, score=0.7132, seq_recovery=0.5349\n",
            "TKIIVDGKETTTDLTPEEAAAWAKEKYPDKEVTIDGDTVIVTK\n",
            ">T=0.1, sample=0, score=0.6423, seq_recovery=0.6047\n",
            "TTIIVDGKEYETDLTPEEAAKWAKEKYPDYEVKIEGDTVIVTK\n",
            ">T=0.1, sample=0, score=0.7068, seq_recovery=0.5349\n",
            "TKIIVDGKEEITPLTPEEAAEYARKKYPDKEVTIEGDTVIVTK\n",
            ">T=0.1, sample=0, score=0.6650, seq_recovery=0.5581\n",
            "TKIIVDGKEYETPLTPEEAAAWAKEKYPDKEVTIEGDTVIVTK\n",
            ">T=0.1, sample=0, score=0.6887, seq_recovery=0.5814\n",
            "TKIIVDGKEYETDLSPEEAAEWAKKQYPEYEVTIEGDTVIVTK\n",
            ">T=0.1, sample=0, score=0.7322, seq_recovery=0.5814\n",
            "TKIIVDGKEYYTPLSPEEAAEWARKQWPEYKVTIEGDTVIVTK\n",
            ">T=0.1, sample=0, score=0.7114, seq_recovery=0.5116\n",
            "TKVIVDGKEYETDLTPEEAAKWAKEQYPDYKVTIEGDTVIVSK\n",
            ">T=0.1, sample=0, score=0.7344, seq_recovery=0.6279\n",
            "TTIIVDGKKYETPLSPEEAAEWARKQFPDYEVRIEGDTVIVTR\n",
            ">T=0.1, sample=0, score=0.7257, seq_recovery=0.4884\n",
            "TKIIVDGKEFETPLTPEEAAEWAKKKWPEKKVTVEGDKVIVTK\n",
            ">T=0.1, sample=0, score=0.7223, seq_recovery=0.5349\n",
            "TKVIVDGKEYETPLTPEEAAAWAKEKYPDKEVTIEGDTVIVTK\n",
            ">T=0.1, sample=0, score=0.7175, seq_recovery=0.5581\n",
            "TTIIVDGKKYETPLSPEEAAAWAKKQYPEYTVTVEGDTVIVTK\n",
            ">T=0.1, sample=0, score=0.6711, seq_recovery=0.6279\n",
            "TTIIVDGKEYKTDLTPEEAAKWAKEKWPDYEVTIEGDTVIVTK\n",
            ">T=0.1, sample=0, score=0.7079, seq_recovery=0.5349\n",
            "TKIIVDGKEYETDLTPEEAAEWAKKQWPDKKVTIEGDTVIVSK\n",
            ">T=0.1, sample=0, score=0.6695, seq_recovery=0.5581\n",
            "TTIIVDGKKYETDLTPEEAAKWAKEKYPDYTVTIEGDTVIVTK\n",
            ">T=0.1, sample=0, score=0.7442, seq_recovery=0.5349\n",
            "TIIEVDGKLYYTDLTPEEAAEWAKKQWPDYEVTVEGDKVIVTK\n",
            ">T=0.1, sample=0, score=0.6739, seq_recovery=0.5814\n",
            "TTIIVDGKEYKTDLSPEEAAAWAKEKWPDYTVTVEGDTVIVTK\n",
            ">T=0.1, sample=0, score=0.6591, seq_recovery=0.5349\n",
            "TKIIVDGKEYETDLTPEEAAEWAKKQYPEYEVKVEGDTVIVTK\n",
            ">T=0.1, sample=0, score=0.7092, seq_recovery=0.5349\n",
            "TTIIVDGKETKTTLTPEEAAAWAKKQYPDYTVTVEGDTVIVTK\n",
            ">T=0.1, sample=0, score=0.7166, seq_recovery=0.4884\n",
            "TRIVVDGEVFETPLSPEEAAAWAREQYPEYTVTVEGDTVLVTR\n",
            ">T=0.1, sample=0, score=0.6668, seq_recovery=0.5581\n",
            "TTIIVDGKEYKTDLTPEEAAEWAKKKYPEYKVEIKGDTVIVTK\n",
            ">T=0.1, sample=0, score=0.7716, seq_recovery=0.6279\n",
            "TTIIVDGKKYTTPLSPEEAAEWAKKQWPDKTVTVEGDTVKVTK\n",
            ">T=0.1, sample=0, score=0.7388, seq_recovery=0.5581\n",
            "TRVVVDGVEYETPLSPEEAAAWAREQWPDYTVTVEGDTVIVTR\n",
            ">T=0.1, sample=0, score=0.7006, seq_recovery=0.5116\n",
            "TTIVVDGKKTETPLTPEEAAAWARKQYPEYTVTIEGDTVIVTK\n",
            ">T=0.1, sample=0, score=0.7119, seq_recovery=0.5581\n",
            "TTIIVDGKEYKTSLSPEEAAAWAKEKYPDYTVTVEGDTVIVTK\n",
            ">T=0.1, sample=0, score=0.6556, seq_recovery=0.6279\n",
            "TTIIVDGKEYKTPLSPEEAAKWAKEKYPDYEVTIEGDKVIVTK\n",
            ">T=0.1, sample=0, score=0.6952, seq_recovery=0.5116\n",
            "TKVIVDGKEFETDLSPEEAAEWAKKQYPEYKVTIEGDTVIVTK\n",
            ">T=0.1, sample=0, score=0.7353, seq_recovery=0.5814\n",
            "TRIVVDGEEYETPLSPEEAAAWAREQWPEYEVTVEGDTVIVTR\n",
            ">T=0.1, sample=0, score=0.6744, seq_recovery=0.6047\n",
            "TKIIVDGKEYETPLSPEEAAKWAKEKYPEYEVTIEGDTVIVTK\n",
            ">T=0.1, sample=0, score=0.6661, seq_recovery=0.5814\n",
            "TTIIVDGKETKTPLTPEEAAAWAKEKYPDYTVTIEGDTVKVTK\n",
            ">T=0.1, sample=0, score=0.7163, seq_recovery=0.5581\n",
            "TTIIVDGKKYETPLTPEEAAAWAKEQYPDYEVTVEGDTVIVTK\n",
            ">T=0.1, sample=0, score=0.6765, seq_recovery=0.5814\n",
            "TTIIVDGKKYETPLSPEEAAKWAKEKYPDYKVTIEGDTVIVSK\n",
            ">T=0.1, sample=0, score=0.7144, seq_recovery=0.5349\n",
            "TKIIVDGKETITDLTPEEAAAWAKKQYPDYTVTIEGDTVIVTK\n",
            ">T=0.1, sample=0, score=0.7073, seq_recovery=0.5814\n",
            "TTIIVDGKEYKTPLTPEEAAEWAKKKYPDYKVTVEGDTVIVTK\n",
            ">T=0.1, sample=0, score=0.7470, seq_recovery=0.5349\n",
            "TKIIVDGKEYETPLTPEEAAAWAREKWPEYTVTVEGDTVIVTR\n",
            ">T=0.1, sample=0, score=0.7986, seq_recovery=0.5581\n",
            "TTVVVDGKEYTTPLSPEEAAAWARAQWPDKTVTVDGDTVIVTS\n",
            ">T=0.1, sample=0, score=0.7029, seq_recovery=0.5581\n",
            "TTIIVDGKEYKTDLTPEEAAEWAKQKYPDYEVTVEGDTVIVTK\n",
            ">T=0.1, sample=0, score=0.7468, seq_recovery=0.5349\n",
            "TKIIVDGKEYETPLSPEEAAAWAREKYPDKTVTIEGDTVIVTE\n",
            ">T=0.1, sample=0, score=0.7500, seq_recovery=0.5581\n",
            "TTIIVDGKEYRTDLSPEEAAEWAKKKYPEYKVTIEGDKVIVTK\n",
            ">T=0.1, sample=0, score=0.6772, seq_recovery=0.5349\n",
            "TKIIVDGKEYETDLSPEEAAEWAKKKYPEYTVTVDGDTVYVTK\n",
            ">T=0.1, sample=0, score=0.7203, seq_recovery=0.5814\n",
            "TTIVVDGKEYKTPLSPEEAAEWAKKQYPDKEVTVEGDKVIVTK\n",
            ">T=0.1, sample=0, score=0.6664, seq_recovery=0.5814\n",
            "TKIIVDGKEEETDLSPEEAAEYAKKKYPDYEVTIEGDTVIVTK\n",
            ">T=0.1, sample=0, score=0.6901, seq_recovery=0.5581\n",
            "TTIIVDGKEYETPLTPEEAAKWAKEKYPDKTVTVEGDTVIVTK\n",
            ">T=0.1, sample=0, score=0.7593, seq_recovery=0.5116\n",
            "TRIVVDGEEFETPLTPEEAAAWAREKYPDYTVTVEGDTVIVTR\n",
            ">T=0.1, sample=0, score=0.7114, seq_recovery=0.5349\n",
            "TTIIVDGEKYETDLTPEEAAAWAKEQYPDYTVTIEGDTVIVTK\n",
            ">T=0.1, sample=0, score=0.6664, seq_recovery=0.5814\n",
            "TTIIVDGKETKTDLSPEEAAAWAKKQYPDYTVTVEGDTVKVTK\n",
            ">T=0.1, sample=0, score=0.6845, seq_recovery=0.5349\n",
            "TRVIVDGEVFETPLSPEEAAAWARERYPEYEVTIEGDTVIVTR\n",
            ">T=0.1, sample=0, score=0.7300, seq_recovery=0.4651\n",
            "TKIIVDGKETETDLTPEEAAAWAKEQYPEYTVTVEGDTVIVTK\n",
            ">T=0.1, sample=0, score=0.6441, seq_recovery=0.5814\n",
            "TTIIVDGKEYKTDLSPEEAAKWAKEKWPEYKVTIEGDKVIVTK\n",
            ">T=0.1, sample=0, score=0.7498, seq_recovery=0.6279\n",
            "TTIIVDGKEYETPLSPEEAAAWAKELWPDKEVTIEGDTVIVTK\n",
            ">T=0.1, sample=0, score=0.6998, seq_recovery=0.5349\n",
            "TTIIVDGKKTETPLTPEEAAAWAKKQYPEYTVTIEGDTVIVTK\n",
            ">T=0.1, sample=0, score=0.7264, seq_recovery=0.5814\n",
            "TTIIVDGKEYKTPLTPEEAAEWARKQYPEYEVRIEGDTVIVTK\n",
            ">T=0.1, sample=0, score=0.7067, seq_recovery=0.5349\n",
            "TRIVVDGEVTETPLTPEEAAAWARERYPDYEVTVEGDTVIVTR\n",
            ">T=0.1, sample=0, score=0.6731, seq_recovery=0.5349\n",
            "TKVIVDGKEYETPLTPEEAAAWAKEKYPDYEVTVEGDTVIVTK\n",
            ">T=0.1, sample=0, score=0.7110, seq_recovery=0.5814\n",
            "TTIIVDGKEYETDLSPEEAAEWAKKKYPEYEVKIEGDKVIVTK\n",
            ">T=0.1, sample=0, score=0.7265, seq_recovery=0.5349\n",
            "TTVIVDGKEYKTPLSPEEAAAWAREKYPEYEVTVEGDTVIVTK\n",
            ">T=0.1, sample=0, score=0.7239, seq_recovery=0.6047\n",
            "TKIIVDGEEYETPLSPEEAAEWAKKQYPEYEVTIEGDTVIVTK\n",
            ">T=0.1, sample=0, score=0.6908, seq_recovery=0.5814\n",
            "TTIIVDGKEYKTDLTPEEAAEWAKKQYPEYEVTIEGDTVIVTK\n",
            ">T=0.1, sample=0, score=0.7508, seq_recovery=0.5349\n",
            "TTIIVDGKKYETPLTPEEAAEWAKKQYPDKTVTVEGDTVIVTK\n",
            ">T=0.1, sample=0, score=0.6870, seq_recovery=0.5814\n",
            "TTIIVDGKEYKTDLTPEEAAEWAKKKWPDKEVTVEGDTVIVTK\n",
            ">T=0.1, sample=0, score=0.6763, seq_recovery=0.5349\n",
            "TKIIVDGKEEETDLTPEEAAEYAKKKYPDKEVTIEGDTVIVTK\n",
            ">T=0.1, sample=0, score=0.7039, seq_recovery=0.5581\n",
            "TRIVVDGEEFETPLTPEEAAAWAREQWPEYEVRIEGDTVIVTR\n",
            ">T=0.1, sample=0, score=0.7100, seq_recovery=0.5581\n",
            "TKIIVDGKEYETPLTPEEAAEWAKKQYPEYKVTIEGDTVIVTK\n",
            ">T=0.1, sample=0, score=0.6950, seq_recovery=0.6047\n",
            "TTIIVDGKEYKTPLSPEEAAAWAKEQWPEYTVTIEGDTVIVTK\n",
            ">T=0.1, sample=0, score=0.6890, seq_recovery=0.6047\n",
            "TTIIVDGKEYKTDLTPEEAAEWAKKKWPDYTVTIEGDTVIVTK\n",
            ">T=0.1, sample=0, score=0.6640, seq_recovery=0.5581\n",
            "TTIIVDGKKYETDLTPEEAAEWAKKKYPEYEVTIEGDTVIVTK\n",
            ">T=0.1, sample=0, score=0.6671, seq_recovery=0.5349\n",
            "TKIIVDGKEYETDLTPEEAAEWAKKKYPDYTVTVEGDTVIVTK\n",
            ">T=0.1, sample=0, score=0.6931, seq_recovery=0.5581\n",
            "TTIIVDGEEYETDLTPEEAAEWAREKYPDYEVTIEGDTVIVTK\n",
            ">T=0.1, sample=0, score=0.7211, seq_recovery=0.5814\n",
            "TTIIVDGKEYTTSLTPEEAAAWAKKKYPDYTVTVDGDTVYVTK\n",
            ">T=0.1, sample=0, score=0.7082, seq_recovery=0.5581\n",
            "TTIIVDGKEEKTPLSPEEAAEYAKKKYPEYTVTVEGDTVIVTK\n",
            ">T=0.1, sample=0, score=0.7309, seq_recovery=0.5116\n",
            "TTIVVDGEETRTPLTPEEAAAWAREQYPEYEVTVEGDTVIVSR\n",
            ">T=0.1, sample=0, score=0.6873, seq_recovery=0.5814\n",
            "TTIIVDGKEYKTDLSPEEAAEWAKKKWPEYEVKIEGDKVIVSK\n",
            ">T=0.1, sample=0, score=0.7347, seq_recovery=0.5581\n",
            "TKIIVDGKEYETPLTPEEAAAWAKEKWPDKTVTIEGDTVIVTK\n"
          ]
        }
      ],
      "source": [
        "#@title RUN\n",
        "with torch.no_grad():\n",
        "  print('Generating sequences...')\n",
        "  for ix, protein in enumerate(dataset_valid):\n",
        "    score_list = []\n",
        "    all_probs_list = []\n",
        "    all_log_probs_list = []\n",
        "    S_sample_list = []\n",
        "    batch_clones = [copy.deepcopy(protein) for i in range(BATCH_COPIES)]\n",
        "    X, S, mask, lengths, chain_M, chain_encoding_all, chain_list_list, visible_list_list, masked_list_list, masked_chain_length_list_list, chain_M_pos, omit_AA_mask, residue_idx, dihedral_mask, tied_pos_list_of_lists_list, pssm_coef, pssm_bias, pssm_log_odds_all, bias_by_res_all, tied_beta = tied_featurize(batch_clones, device, chain_id_dict, fixed_positions_dict, omit_AA_dict, tied_positions_dict, pssm_dict, bias_by_res_dict)\n",
        "    pssm_log_odds_mask = (pssm_log_odds_all > pssm_threshold).float() #1.0 for true, 0.0 for false\n",
        "    name_ = batch_clones[0]['name']\n",
        "\n",
        "    randn_1 = torch.randn(chain_M.shape, device=X.device)\n",
        "    log_probs = model(X, S, mask, chain_M*chain_M_pos, residue_idx, chain_encoding_all, randn_1)\n",
        "    mask_for_loss = mask*chain_M*chain_M_pos\n",
        "    scores = _scores(S, log_probs, mask_for_loss)\n",
        "    native_score = scores.cpu().data.numpy()\n",
        "\n",
        "    for temp in temperatures:\n",
        "        for j in range(NUM_BATCHES):\n",
        "            randn_2 = torch.randn(chain_M.shape, device=X.device)\n",
        "            if tied_positions_dict == None:\n",
        "                sample_dict = model.sample(X, randn_2, S, chain_M, chain_encoding_all, residue_idx, mask=mask, temperature=temp, omit_AAs_np=omit_AAs_np, bias_AAs_np=bias_AAs_np, chain_M_pos=chain_M_pos, omit_AA_mask=omit_AA_mask, pssm_coef=pssm_coef, pssm_bias=pssm_bias, pssm_multi=pssm_multi, pssm_log_odds_flag=bool(pssm_log_odds_flag), pssm_log_odds_mask=pssm_log_odds_mask, pssm_bias_flag=bool(pssm_bias_flag), bias_by_res=bias_by_res_all)\n",
        "                S_sample = sample_dict[\"S\"] \n",
        "            else:\n",
        "                sample_dict = model.tied_sample(X, randn_2, S, chain_M, chain_encoding_all, residue_idx, mask=mask, temperature=temp, omit_AAs_np=omit_AAs_np, bias_AAs_np=bias_AAs_np, chain_M_pos=chain_M_pos, omit_AA_mask=omit_AA_mask, pssm_coef=pssm_coef, pssm_bias=pssm_bias, pssm_multi=pssm_multi, pssm_log_odds_flag=bool(pssm_log_odds_flag), pssm_log_odds_mask=pssm_log_odds_mask, pssm_bias_flag=bool(pssm_bias_flag), tied_pos=tied_pos_list_of_lists_list[0], tied_beta=tied_beta, bias_by_res=bias_by_res_all)\n",
        "            # Compute scores\n",
        "                S_sample = sample_dict[\"S\"]\n",
        "            log_probs = model(X, S_sample, mask, chain_M*chain_M_pos, residue_idx, chain_encoding_all, randn_2, use_input_decoding_order=True, decoding_order=sample_dict[\"decoding_order\"])\n",
        "            mask_for_loss = mask*chain_M*chain_M_pos\n",
        "            scores = _scores(S_sample, log_probs, mask_for_loss)\n",
        "            scores = scores.cpu().data.numpy()\n",
        "            all_probs_list.append(sample_dict[\"probs\"].cpu().data.numpy())\n",
        "            all_log_probs_list.append(log_probs.cpu().data.numpy())\n",
        "            S_sample_list.append(S_sample.cpu().data.numpy())\n",
        "            for b_ix in range(BATCH_COPIES):\n",
        "                masked_chain_length_list = masked_chain_length_list_list[b_ix]\n",
        "                masked_list = masked_list_list[b_ix]\n",
        "                seq_recovery_rate = torch.sum(torch.sum(torch.nn.functional.one_hot(S[b_ix], 21)*torch.nn.functional.one_hot(S_sample[b_ix], 21),axis=-1)*mask_for_loss[b_ix])/torch.sum(mask_for_loss[b_ix])\n",
        "                seq = _S_to_seq(S_sample[b_ix], chain_M[b_ix])\n",
        "                score = scores[b_ix]\n",
        "                score_list.append(score)\n",
        "                native_seq = _S_to_seq(S[b_ix], chain_M[b_ix])\n",
        "                if b_ix == 0 and j==0 and temp==temperatures[0]:\n",
        "                    start = 0\n",
        "                    end = 0\n",
        "                    list_of_AAs = []\n",
        "                    for mask_l in masked_chain_length_list:\n",
        "                        end += mask_l\n",
        "                        list_of_AAs.append(native_seq[start:end])\n",
        "                        start = end\n",
        "                    native_seq = \"\".join(list(np.array(list_of_AAs)[np.argsort(masked_list)]))\n",
        "                    l0 = 0\n",
        "                    for mc_length in list(np.array(masked_chain_length_list)[np.argsort(masked_list)])[:-1]:\n",
        "                        l0 += mc_length\n",
        "                        native_seq = native_seq[:l0] + '/' + native_seq[l0:]\n",
        "                        l0 += 1\n",
        "                    sorted_masked_chain_letters = np.argsort(masked_list_list[0])\n",
        "                    print_masked_chains = [masked_list_list[0][i] for i in sorted_masked_chain_letters]\n",
        "                    sorted_visible_chain_letters = np.argsort(visible_list_list[0])\n",
        "                    print_visible_chains = [visible_list_list[0][i] for i in sorted_visible_chain_letters]\n",
        "                    native_score_print = np.format_float_positional(np.float32(native_score.mean()), unique=False, precision=4)\n",
        "                    line = '>{}, score={}, fixed_chains={}, designed_chains={}, model_name={}\\n{}\\n'.format(name_, native_score_print, print_visible_chains, print_masked_chains, model_name, native_seq)\n",
        "                    print(line.rstrip())\n",
        "                start = 0\n",
        "                end = 0\n",
        "                list_of_AAs = []\n",
        "                for mask_l in masked_chain_length_list:\n",
        "                    end += mask_l\n",
        "                    list_of_AAs.append(seq[start:end])\n",
        "                    start = end\n",
        "\n",
        "                seq = \"\".join(list(np.array(list_of_AAs)[np.argsort(masked_list)]))\n",
        "                l0 = 0\n",
        "                for mc_length in list(np.array(masked_chain_length_list)[np.argsort(masked_list)])[:-1]:\n",
        "                    l0 += mc_length\n",
        "                    seq = seq[:l0] + '/' + seq[l0:]\n",
        "                    l0 += 1\n",
        "                score_print = np.format_float_positional(np.float32(score), unique=False, precision=4)\n",
        "                seq_rec_print = np.format_float_positional(np.float32(seq_recovery_rate.detach().cpu().numpy()), unique=False, precision=4)\n",
        "                line = 'sample={}, score={}, seq_recovery={}\\n{}\\n'.format(temp,j,score_print,seq_rec_print,seq)\n",
        "                print(line.rstrip())\n",
        "\n",
        "\n",
        "all_probs_concat = np.concatenate(all_probs_list)\n",
        "all_log_probs_concat = np.concatenate(all_log_probs_list)\n",
        "S_sample_concat = np.concatenate(S_sample_list)"
      ]
    },
    {
      "cell_type": "code",
      "execution_count": 14,
      "metadata": {
        "cellView": "form",
        "colab": {
          "base_uri": "https://localhost:8080/",
          "height": 542
        },
        "id": "xbsaRChNfybM",
        "outputId": "e87c30dc-d960-4878-acae-f67a3b69fc1c"
      },
      "outputs": [
        {
          "data": {
            "application/vnd.plotly.v1+json": {
              "config": {
                "plotlyServerURL": "https://plot.ly"
              },
              "data": [
                {
                  "coloraxis": "coloraxis",
                  "hovertemplate": "positions: %{x}<br>amino acids: %{y}<br>probability: %{z}<extra></extra>",
                  "name": "0",
                  "type": "heatmap",
                  "xaxis": "x",
                  "y": [
                    "A",
                    "C",
                    "D",
                    "E",
                    "F",
                    "G",
                    "H",
                    "I",
                    "K",
                    "L",
                    "M",
                    "N",
                    "P",
                    "Q",
                    "R",
                    "S",
                    "T",
                    "V",
                    "W",
                    "Y",
                    "X"
                  ],
                  "yaxis": "y",
                  "z": [
                    [
                      0.004064466804265976,
                      0.004999501630663872,
                      0.004636477679014206,
                      0.005054171197116375,
                      0.0817074105143547,
                      0.028410620987415314,
                      0.004370872396975756,
                      0.03775424510240555,
                      0.04826612025499344,
                      0.0082925446331501,
                      0.017409084364771843,
                      0.002707885345444083,
                      0.06159739941358566,
                      0.015219702385365963,
                      0.00844692811369896,
                      0.06026078760623932,
                      0.033384695649147034,
                      0.0779866948723793,
                      0.9063933491706848,
                      0.8520842790603638,
                      0.2027004361152649,
                      0.010826971381902695,
                      0.905745804309845,
                      0.033480457961559296,
                      0.14513272047042847,
                      0.07345853745937347,
                      0.003379207570105791,
                      0.0048098815605044365,
                      0.05975744500756264,
                      0.00308416411280632,
                      0.0320134200155735,
                      0.006790084298700094,
                      0.015856020152568817,
                      0.018953558057546616,
                      0.026838622987270355,
                      0.00936128105968237,
                      0.03283025696873665,
                      0.011108753271400928,
                      0.0024360371753573418,
                      0.006622252520173788,
                      0.008952233009040356,
                      0.00796449463814497,
                      0.024226006120443344
                    ],
                    [
                      0.006220719311386347,
                      0.0036223747301846743,
                      0.004665072541683912,
                      0.004372998606413603,
                      0.035284802317619324,
                      0.003781484439969063,
                      0.003952489700168371,
                      0.004321825224906206,
                      0.0074121979996562,
                      0.004246197175234556,
                      0.00449778139591217,
                      0.002447012346237898,
                      0.0048008328303694725,
                      0.003658946603536606,
                      0.003967524040490389,
                      0.0034431300591677427,
                      0.00269073573872447,
                      0.00407439423725009,
                      0.0042764837853610516,
                      0.0050851721316576,
                      0.005059336312115192,
                      0.002567932941019535,
                      0.0039274184964597225,
                      0.004678010009229183,
                      0.0031991680152714252,
                      0.003665353637188673,
                      0.0038897241465747356,
                      0.003922664560377598,
                      0.004838859662413597,
                      0.009220605716109276,
                      0.003647326026111841,
                      0.0058662607334554195,
                      0.003876113798469305,
                      0.012243179604411125,
                      0.003146366449072957,
                      0.002862853230908513,
                      0.0044874283485114574,
                      0.007252464070916176,
                      0.002523240866139531,
                      0.00658281659707427,
                      0.01190237421542406,
                      0.003721729153767228,
                      0.003980529494583607
                    ],
                    [
                      0.002388579538092017,
                      0.00552698690444231,
                      0.005755570717155933,
                      0.006775229703634977,
                      0.004648742265999317,
                      0.6664140224456787,
                      0.008978820405900478,
                      0.015249865129590034,
                      0.02072710171341896,
                      0.014205730520188808,
                      0.023832300677895546,
                      0.0025851356331259012,
                      0.2674163579940796,
                      0.010241390205919743,
                      0.014409244060516357,
                      0.002973138354718685,
                      0.045395106077194214,
                      0.13507437705993652,
                      0.003661012975499034,
                      0.001985999522730708,
                      0.06488656997680664,
                      0.0037081954069435596,
                      0.004002987872809172,
                      0.0063390485011041164,
                      0.02795024961233139,
                      0.027140038087964058,
                      0.0029368053656071424,
                      0.0037825917825102806,
                      0.22883333265781403,
                      0.0019741435535252094,
                      0.08520214259624481,
                      0.0033329722937196493,
                      0.022348303347826004,
                      0.0033685751259326935,
                      0.1561100333929062,
                      0.02313063107430935,
                      0.3943592309951782,
                      0.006344274152070284,
                      0.0034991546999663115,
                      0.0068594622425735,
                      0.003535932395607233,
                      0.03690772131085396,
                      0.011738548055291176
                    ],
                    [
                      0.0028975501190871,
                      0.007803843356668949,
                      0.005795713514089584,
                      0.00815232191234827,
                      0.01170047465711832,
                      0.0801381841301918,
                      0.007394909858703613,
                      0.18129399418830872,
                      0.20881736278533936,
                      0.36756861209869385,
                      0.12381263077259064,
                      0.0031766341999173164,
                      0.15828686952590942,
                      0.0077281189151108265,
                      0.004363648127764463,
                      0.006871155463159084,
                      0.7924510836601257,
                      0.46353578567504883,
                      0.00404472928494215,
                      0.02258165366947651,
                      0.20136195421218872,
                      0.007914898917078972,
                      0.005366106983274221,
                      0.0658513680100441,
                      0.3601943552494049,
                      0.1620328724384308,
                      0.0038763373158872128,
                      0.004089621361345053,
                      0.18333829939365387,
                      0.0032341897021979094,
                      0.22077558934688568,
                      0.0023708718363195658,
                      0.1193232461810112,
                      0.049552593380212784,
                      0.5327854752540588,
                      0.010397719219326973,
                      0.09560534358024597,
                      0.08370250463485718,
                      0.0028494640719145536,
                      0.04100227355957031,
                      0.004174758680164814,
                      0.044865597039461136,
                      0.029079845175147057
                    ],
                    [
                      0.0029170496854931116,
                      0.004913455806672573,
                      0.004174101632088423,
                      0.006023008842021227,
                      0.021283112466335297,
                      0.006219859234988689,
                      0.0036234594881534576,
                      0.005161415785551071,
                      0.009476901032030582,
                      0.09427579492330551,
                      0.05443930625915527,
                      0.0041786301881074905,
                      0.006946778856217861,
                      0.01517501287162304,
                      0.0031665575224906206,
                      0.0031926045194268227,
                      0.002466309117153287,
                      0.005122031085193157,
                      0.004902292508631945,
                      0.004701860714703798,
                      0.00645882822573185,
                      0.03145555034279823,
                      0.004021589644253254,
                      0.004929154645651579,
                      0.00423002615571022,
                      0.005087335593998432,
                      0.08631345629692078,
                      0.0037322090938687325,
                      0.009534843266010284,
                      0.020453857257962227,
                      0.005404600407928228,
                      0.003455671714618802,
                      0.008779788389801979,
                      0.004304670263081789,
                      0.004072156734764576,
                      0.0035343309864401817,
                      0.0063001844100654125,
                      0.004089707508683205,
                      0.0030412289779633284,
                      0.04955253377556801,
                      0.0034911150578409433,
                      0.003592834807932377,
                      0.003969414625316858
                    ],
                    [
                      0.002266434021294117,
                      0.0030596975702792406,
                      0.004316182341426611,
                      0.003440071130171418,
                      0.0031744688749313354,
                      0.06395662575960159,
                      0.9125385284423828,
                      0.00599521491676569,
                      0.0066819870844483376,
                      0.004433678463101387,
                      0.005141420755535364,
                      0.002735028974711895,
                      0.0532103069126606,
                      0.0034204870462417603,
                      0.009234271943569183,
                      0.0030780464876443148,
                      0.008286149241030216,
                      0.05889616534113884,
                      0.007713551167398691,
                      0.005257476586848497,
                      0.011002958752214909,
                      0.002763081109151244,
                      0.004371958319097757,
                      0.0063531226478517056,
                      0.01089545339345932,
                      0.004390989430248737,
                      0.0031744325533509254,
                      0.004140723962336779,
                      0.08320119231939316,
                      0.005895539652556181,
                      0.004553856328129768,
                      0.003312879242002964,
                      0.005674742627888918,
                      0.005453936289995909,
                      0.002919771708548069,
                      0.8799044489860535,
                      0.04299025237560272,
                      0.0036995147820562124,
                      0.0029606365133076906,
                      0.004060137551277876,
                      0.005392573308199644,
                      0.010462568141520023,
                      0.0104238111525774
                    ],
                    [
                      0.002091494156047702,
                      0.0030733724124729633,
                      0.005348342936486006,
                      0.00505843386054039,
                      0.028629576787352562,
                      0.004638151731342077,
                      0.0031239227391779423,
                      0.012379957363009453,
                      0.011850296519696712,
                      0.013365363702178001,
                      0.03332652151584625,
                      0.0025985040701925755,
                      0.006093776784837246,
                      0.005575009621679783,
                      0.0034176926128566265,
                      0.002807779237627983,
                      0.0024943805765360594,
                      0.004475243855267763,
                      0.0038481508381664753,
                      0.0034536784514784813,
                      0.010460782796144485,
                      0.00893823429942131,
                      0.003835709998384118,
                      0.006937460508197546,
                      0.003877300536260009,
                      0.005618930794298649,
                      0.01890278048813343,
                      0.004026520997285843,
                      0.030214998871088028,
                      0.016303392127156258,
                      0.006939704064279795,
                      0.002524644136428833,
                      0.0072608101181685925,
                      0.003363764612004161,
                      0.0037766965106129646,
                      0.0027851013001054525,
                      0.011818666942417622,
                      0.013429592363536358,
                      0.0026878798380494118,
                      0.03158295527100563,
                      0.003955823369324207,
                      0.0063462224788963795,
                      0.015526043251156807
                    ],
                    [
                      0.002997125731781125,
                      0.17653682827949524,
                      0.493520051240921,
                      0.39488640427589417,
                      0.04954277724027634,
                      0.0029970542527735233,
                      0.003399195382371545,
                      0.04628114402294159,
                      0.04781050235033035,
                      0.05562147498130798,
                      0.0846879705786705,
                      0.0030260661151260138,
                      0.005925953388214111,
                      0.0034411882515996695,
                      0.0030093698296695948,
                      0.002868626732379198,
                      0.0025980134960263968,
                      0.0038502782117575407,
                      0.003948439843952656,
                      0.0039439029060304165,
                      0.027699949219822884,
                      0.0028068716637790203,
                      0.004421616904437542,
                      0.009586486034095287,
                      0.0032610094640403986,
                      0.004690589848905802,
                      0.003607973689213395,
                      0.0037924328353255987,
                      0.004620291758328676,
                      0.0037471165414899588,
                      0.019107701256871223,
                      0.008027504198253155,
                      0.018008781597018242,
                      0.3107525110244751,
                      0.005005206912755966,
                      0.004187182988971472,
                      0.006307176314294338,
                      0.038636911660432816,
                      0.004673590883612633,
                      0.26134708523750305,
                      0.004615830257534981,
                      0.004648427478969097,
                      0.0046756574884057045
                    ],
                    [
                      0.004484815988689661,
                      0.06874262541532516,
                      0.005044905934482813,
                      0.08212121576070786,
                      0.009292888455092907,
                      0.016279837116599083,
                      0.0049539292231202126,
                      0.29395341873168945,
                      0.11073277145624161,
                      0.0063897352665662766,
                      0.1557094156742096,
                      0.003284087171778083,
                      0.0348806157708168,
                      0.10973329097032547,
                      0.005843339953571558,
                      0.006006709765642881,
                      0.024624625220894814,
                      0.04671124741435051,
                      0.0037357646506279707,
                      0.011580212041735649,
                      0.11367326974868774,
                      0.005548923276364803,
                      0.005000479053705931,
                      0.32483458518981934,
                      0.19083595275878906,
                      0.23896875977516174,
                      0.003275107592344284,
                      0.004934761207550764,
                      0.03890438377857208,
                      0.024839382618665695,
                      0.18468858301639557,
                      0.003327452577650547,
                      0.08090340346097946,
                      0.012905103154480457,
                      0.08294990658760071,
                      0.012590675614774227,
                      0.07419275492429733,
                      0.1426718682050705,
                      0.0027694362215697765,
                      0.029151588678359985,
                      0.00463876873254776,
                      0.025910235941410065,
                      0.4868287146091461
                    ],
                    [
                      0.0025837738066911697,
                      0.023229651153087616,
                      0.009347939863801003,
                      0.0887983962893486,
                      0.015469923615455627,
                      0.004133959300816059,
                      0.004081686493009329,
                      0.013166079297661781,
                      0.06078506261110306,
                      0.030096139758825302,
                      0.04929371178150177,
                      0.007453389000147581,
                      0.008089388720691204,
                      0.723095715045929,
                      0.0031735470984131098,
                      0.003012463916093111,
                      0.006768797058612108,
                      0.007622838485985994,
                      0.0038086306303739548,
                      0.0069312178529798985,
                      0.03709990531206131,
                      0.04087962582707405,
                      0.004479093011468649,
                      0.02934400551021099,
                      0.007572069764137268,
                      0.10836057364940643,
                      0.0031500186305493116,
                      0.003768687602132559,
                      0.01597605273127556,
                      0.0033796781208366156,
                      0.007014131639152765,
                      0.0023197184782475233,
                      0.010228066705167294,
                      0.008820075541734695,
                      0.00553931063041091,
                      0.004001260735094547,
                      0.008843541145324707,
                      0.011122995056211948,
                      0.002688397653400898,
                      0.17913389205932617,
                      0.003493909491226077,
                      0.0039855907671153545,
                      0.00687498040497303
                    ],
                    [
                      0.0026823501102626324,
                      0.006188473664224148,
                      0.004703468177467585,
                      0.005824082065373659,
                      0.0061822207644581795,
                      0.004160404670983553,
                      0.003188427072018385,
                      0.009400753304362297,
                      0.013430725783109665,
                      0.015391385182738304,
                      0.008734394796192646,
                      0.0032021761871874332,
                      0.0044656977988779545,
                      0.03539489209651947,
                      0.0035853900481015444,
                      0.003277632175013423,
                      0.002587490016594529,
                      0.006118945777416229,
                      0.0038257036358118057,
                      0.0067976778373122215,
                      0.009664341807365417,
                      0.005619557574391365,
                      0.004604175686836243,
                      0.010613596066832542,
                      0.0033717425540089607,
                      0.04360479488968849,
                      0.0029795875307172537,
                      0.0038893476594239473,
                      0.006527734454721212,
                      0.006260618567466736,
                      0.004006766714155674,
                      0.003358582966029644,
                      0.0059831403195858,
                      0.009976333007216454,
                      0.0026848874986171722,
                      0.0030857189558446407,
                      0.0072423554956912994,
                      0.011725390329957008,
                      0.0030113020911812782,
                      0.013678008690476418,
                      0.00380248436704278,
                      0.0038878086488693953,
                      0.005426628049463034
                    ],
                    [
                      0.0036262355279177427,
                      0.007320413365960121,
                      0.0047052898444235325,
                      0.009239310398697853,
                      0.008201484568417072,
                      0.0698750913143158,
                      0.00685587152838707,
                      0.027276750653982162,
                      0.014981414191424847,
                      0.007017443422228098,
                      0.04401765763759613,
                      0.003948851954191923,
                      0.04111224785447121,
                      0.004970610607415438,
                      0.017831968143582344,
                      0.003497940255329013,
                      0.011735816486179829,
                      0.020978545770049095,
                      0.0038148085586726665,
                      0.0042705233208835125,
                      0.036101195961236954,
                      0.004292228724807501,
                      0.005302750505506992,
                      0.008247895166277885,
                      0.010032984428107738,
                      0.018497314304113388,
                      0.005776962265372276,
                      0.0037121812347322702,
                      0.06112445890903473,
                      0.0096233319491148,
                      0.07118754088878632,
                      0.003875520545989275,
                      0.013446848839521408,
                      0.0031065577641129494,
                      0.02383030205965042,
                      0.010886885225772858,
                      0.13744834065437317,
                      0.0065358602441847324,
                      0.0036536918487399817,
                      0.012895654886960983,
                      0.0036725143436342478,
                      0.014216430485248566,
                      0.01818605698645115
                    ],
                    [
                      0.0029885461553931236,
                      0.003983898088335991,
                      0.004699625540524721,
                      0.003767163958400488,
                      0.004039309453219175,
                      0.0034439347218722105,
                      0.0036565763875842094,
                      0.0033099029678851366,
                      0.010701813735067844,
                      0.003981637768447399,
                      0.003876627655699849,
                      0.0032826545648276806,
                      0.14947545528411865,
                      0.005946095567196608,
                      0.004400921054184437,
                      0.8601400852203369,
                      0.0027188558597117662,
                      0.0036509749479591846,
                      0.0035898105707019567,
                      0.0032845225650817156,
                      0.004051624331623316,
                      0.003106033429503441,
                      0.004772409796714783,
                      0.004105220548808575,
                      0.004119283985346556,
                      0.004109506029635668,
                      0.00342242862097919,
                      0.9196525812149048,
                      0.00405423529446125,
                      0.0026090561877936125,
                      0.0032019976060837507,
                      0.0033344205003231764,
                      0.003831302747130394,
                      0.003865360515192151,
                      0.003463780041784048,
                      0.003205596935003996,
                      0.009759172797203064,
                      0.004467321094125509,
                      0.0027368476148694754,
                      0.0036027198657393456,
                      0.0030253937002271414,
                      0.003572900779545307,
                      0.0028746528550982475
                    ],
                    [
                      0.0024081915616989136,
                      0.004789548926055431,
                      0.00577608123421669,
                      0.005709936376661062,
                      0.0077689946629107,
                      0.007800469174981117,
                      0.003495114156976342,
                      0.09437141567468643,
                      0.04633679986000061,
                      0.01900422014296055,
                      0.033881429582834244,
                      0.0029022791422903538,
                      0.011408013291656971,
                      0.008833073079586029,
                      0.0029081779066473246,
                      0.003657048800960183,
                      0.023196615278720856,
                      0.10802368819713593,
                      0.0035433268640190363,
                      0.01070003304630518,
                      0.07732832431793213,
                      0.004576674662530422,
                      0.00400999141857028,
                      0.08657287061214447,
                      0.11860545724630356,
                      0.17305241525173187,
                      0.003470733994618058,
                      0.003558786353096366,
                      0.08008754998445511,
                      0.0028089226689189672,
                      0.03219696506857872,
                      0.004894633777439594,
                      0.018083326518535614,
                      0.026517104357481003,
                      0.03549093008041382,
                      0.0041581676341593266,
                      0.02816886082291603,
                      0.018571389839053154,
                      0.002473566448315978,
                      0.010464364662766457,
                      0.004340379033237696,
                      0.005497626960277557,
                      0.05390479788184166
                    ],
                    [
                      0.003413739614188671,
                      0.02104148641228676,
                      0.00500387093052268,
                      0.026195714250206947,
                      0.024905679747462273,
                      0.006723350379616022,
                      0.0026306367944926023,
                      0.05743313580751419,
                      0.07355399429798126,
                      0.00928922463208437,
                      0.06329435110092163,
                      0.0028658388182520866,
                      0.005138401407748461,
                      0.009564505890011787,
                      0.0025275314692407846,
                      0.0037986477836966515,
                      0.00317551800981164,
                      0.013423081487417221,
                      0.004393909126520157,
                      0.006293878890573978,
                      0.06959109008312225,
                      0.00299962074495852,
                      0.005575461778789759,
                      0.32787343859672546,
                      0.019931137561798096,
                      0.0737246498465538,
                      0.002882365370169282,
                      0.003432157216593623,
                      0.024546096101403236,
                      0.004137009847909212,
                      0.011828048154711723,
                      0.003856150433421135,
                      0.08746679872274399,
                      0.021302418783307076,
                      0.008864232338964939,
                      0.002977699739858508,
                      0.03540986031293869,
                      0.15564750134944916,
                      0.003354504704475403,
                      0.03134720027446747,
                      0.0046574329026043415,
                      0.01368364505469799,
                      0.2668142020702362
                    ],
                    [
                      0.00648165587335825,
                      0.008969859220087528,
                      0.004296957049518824,
                      0.007799040991812944,
                      0.022806456312537193,
                      0.012393754906952381,
                      0.004567406605929136,
                      0.011577877216041088,
                      0.05381982401013374,
                      0.035891108214855194,
                      0.03467947989702225,
                      0.03002297505736351,
                      0.09788945317268372,
                      0.005298001691699028,
                      0.3833116888999939,
                      0.012874260544776917,
                      0.005948259029537439,
                      0.012209389358758926,
                      0.01483809482306242,
                      0.0319179967045784,
                      0.03213416785001755,
                      0.005305608734488487,
                      0.007882481440901756,
                      0.020572857931256294,
                      0.044654469937086105,
                      0.014864061959087849,
                      0.003986109513789415,
                      0.004390631336718798,
                      0.08014481514692307,
                      0.006926724221557379,
                      0.020737381651997566,
                      0.0034788527991622686,
                      0.17848916351795197,
                      0.009447132237255573,
                      0.04775593429803848,
                      0.0046949018724262714,
                      0.04934363812208176,
                      0.012757138349115849,
                      0.0022088168188929558,
                      0.009225284680724144,
                      0.0044631329365074635,
                      0.23470202088356018,
                      0.02626977302134037
                    ],
                    [
                      0.9139136672019958,
                      0.4578976631164551,
                      0.003292015753686428,
                      0.024843646213412285,
                      0.014004276134073734,
                      0.004041746724396944,
                      0.0040622795931994915,
                      0.05005978047847748,
                      0.11458500474691391,
                      0.14121398329734802,
                      0.08610966056585312,
                      0.8914136290550232,
                      0.06225968897342682,
                      0.0032990637701004744,
                      0.5121418833732605,
                      0.003883049124851823,
                      0.011995268054306507,
                      0.009053622372448444,
                      0.004178427159786224,
                      0.004751073196530342,
                      0.04675688594579697,
                      0.0034266235306859016,
                      0.00404092762619257,
                      0.022197064012289047,
                      0.024974733591079712,
                      0.015370666049420834,
                      0.0048247938975691795,
                      0.004493864718824625,
                      0.05588514730334282,
                      0.003797858254984021,
                      0.24715687334537506,
                      0.006137697491794825,
                      0.3575291335582733,
                      0.025657005608081818,
                      0.012158541940152645,
                      0.0034588912967592478,
                      0.034325893968343735,
                      0.30845171213150024,
                      0.003059295006096363,
                      0.023751208558678627,
                      0.006293915212154388,
                      0.5579677820205688,
                      0.011806365102529526
                    ],
                    [
                      0.021793287247419357,
                      0.17417263984680176,
                      0.41213059425354004,
                      0.29563817381858826,
                      0.5987740159034729,
                      0.0036995960399508476,
                      0.003998779226094484,
                      0.11717521399259567,
                      0.11986228823661804,
                      0.020571313798427582,
                      0.08550886064767838,
                      0.01390205416828394,
                      0.006325147580355406,
                      0.0033093111123889685,
                      0.003964532166719437,
                      0.004091857001185417,
                      0.006909494753926992,
                      0.0062375664710998535,
                      0.00429541664198041,
                      0.0030732068698853254,
                      0.02678040601313114,
                      0.003855508752167225,
                      0.0049207778647542,
                      0.014044895768165588,
                      0.005101918708533049,
                      0.005959632340818644,
                      0.003930005244910717,
                      0.0036459036637097597,
                      0.0069003417156636715,
                      0.0027662699576467276,
                      0.028767744079232216,
                      0.9196724891662598,
                      0.026535071432590485,
                      0.4593569338321686,
                      0.03306297957897186,
                      0.004007028881460428,
                      0.0063157170079648495,
                      0.14462855458259583,
                      0.9393817782402039,
                      0.1727772355079651,
                      0.9049792885780334,
                      0.007152281701564789,
                      0.006293876096606255
                    ],
                    [
                      0.003171370131894946,
                      0.004546388518065214,
                      0.003524885745719075,
                      0.004666157998144627,
                      0.0067191519774496555,
                      0.0036034139338880777,
                      0.003721963381394744,
                      0.004338135942816734,
                      0.005916097201406956,
                      0.010715003125369549,
                      0.013063277117908001,
                      0.00425360444933176,
                      0.005365638993680477,
                      0.0037749249022454023,
                      0.0035465960390865803,
                      0.0026496639475226402,
                      0.003124447073787451,
                      0.003637001384049654,
                      0.0035736197605729103,
                      0.0032236953265964985,
                      0.00518797105178237,
                      0.5952970385551453,
                      0.004087401088327169,
                      0.004462575074285269,
                      0.0038035886827856302,
                      0.008015195839107037,
                      0.18006111681461334,
                      0.003933065105229616,
                      0.007963048294186592,
                      0.0034087509848177433,
                      0.0038249867502599955,
                      0.003192011034116149,
                      0.004400098230689764,
                      0.0036469504702836275,
                      0.00253938976675272,
                      0.003470828291028738,
                      0.004692614544183016,
                      0.004658070392906666,
                      0.003620067611336708,
                      0.0182576272636652,
                      0.003633579472079873,
                      0.003355903085321188,
                      0.0032664393074810505
                    ],
                    [
                      0.0036110784858465195,
                      0.005005422048270702,
                      0.004120490048080683,
                      0.005947694648057222,
                      0.04183052107691765,
                      0.003361728275194764,
                      0.003580365562811494,
                      0.0052327909506857395,
                      0.010308449156582355,
                      0.13432025909423828,
                      0.07038888335227966,
                      0.006673615891486406,
                      0.004727507010102272,
                      0.018175384029746056,
                      0.003017628099769354,
                      0.0034261627588421106,
                      0.003804044099524617,
                      0.004781696479767561,
                      0.0034128965344280005,
                      0.00397083256393671,
                      0.0077107674442231655,
                      0.25075140595436096,
                      0.004591742064803839,
                      0.004646446090191603,
                      0.003312820801511407,
                      0.004904579371213913,
                      0.6517974734306335,
                      0.0039640143513679504,
                      0.009418301284313202,
                      0.8621439337730408,
                      0.0033281156793236732,
                      0.003087329212576151,
                      0.008040337823331356,
                      0.003529280424118042,
                      0.0025195463094860315,
                      0.0033583410549908876,
                      0.005404463969171047,
                      0.006519018206745386,
                      0.0031578526832163334,
                      0.08372170478105545,
                      0.0034568978007882833,
                      0.003837078344076872,
                      0.004525887314230204
                    ],
                    [
                      0.0029978991951793432,
                      0.004575958475470543,
                      0.00514232786372304,
                      0.0056867944076657295,
                      0.004033681470900774,
                      0.003926526755094528,
                      0.0038248116616159678,
                      0.004267170559614897,
                      0.0039432295598089695,
                      0.004109131637960672,
                      0.004295113496482372,
                      0.0033398992381989956,
                      0.004584421869367361,
                      0.004145372658967972,
                      0.003731579054147005,
                      0.004189237952232361,
                      0.0036443029530346394,
                      0.00453640753403306,
                      0.004201424773782492,
                      0.004111069720238447,
                      0.004289167933166027,
                      0.0033593885600566864,
                      0.005039239302277565,
                      0.004329435992985964,
                      0.004943390376865864,
                      0.0044831871055066586,
                      0.0043624332174658775,
                      0.004327473230659962,
                      0.004128579515963793,
                      0.003385384799912572,
                      0.004416654352098703,
                      0.003784193890169263,
                      0.003935527987778187,
                      0.003876899369060993,
                      0.004485907033085823,
                      0.0039403559640049934,
                      0.0041542197577655315,
                      0.003979471977800131,
                      0.003213118528947234,
                      0.004383916035294533,
                      0.0035215895622968674,
                      0.00372117361985147,
                      0.00330786919221282
                    ]
                  ]
                }
              ],
              "layout": {
                "coloraxis": {
                  "colorbar": {
                    "title": {
                      "text": "probability"
                    }
                  },
                  "colorscale": [
                    [
                      0,
                      "#440154"
                    ],
                    [
                      0.1111111111111111,
                      "#482878"
                    ],
                    [
                      0.2222222222222222,
                      "#3e4989"
                    ],
                    [
                      0.3333333333333333,
                      "#31688e"
                    ],
                    [
                      0.4444444444444444,
                      "#26828e"
                    ],
                    [
                      0.5555555555555556,
                      "#1f9e89"
                    ],
                    [
                      0.6666666666666666,
                      "#35b779"
                    ],
                    [
                      0.7777777777777778,
                      "#6ece58"
                    ],
                    [
                      0.8888888888888888,
                      "#b5de2b"
                    ],
                    [
                      1,
                      "#fde725"
                    ]
                  ]
                },
                "margin": {
                  "t": 60
                },
                "template": {
                  "data": {
                    "bar": [
                      {
                        "error_x": {
                          "color": "rgb(36,36,36)"
                        },
                        "error_y": {
                          "color": "rgb(36,36,36)"
                        },
                        "marker": {
                          "line": {
                            "color": "white",
                            "width": 0.5
                          },
                          "pattern": {
                            "fillmode": "overlay",
                            "size": 10,
                            "solidity": 0.2
                          }
                        },
                        "type": "bar"
                      }
                    ],
                    "barpolar": [
                      {
                        "marker": {
                          "line": {
                            "color": "white",
                            "width": 0.5
                          },
                          "pattern": {
                            "fillmode": "overlay",
                            "size": 10,
                            "solidity": 0.2
                          }
                        },
                        "type": "barpolar"
                      }
                    ],
                    "carpet": [
                      {
                        "aaxis": {
                          "endlinecolor": "rgb(36,36,36)",
                          "gridcolor": "white",
                          "linecolor": "white",
                          "minorgridcolor": "white",
                          "startlinecolor": "rgb(36,36,36)"
                        },
                        "baxis": {
                          "endlinecolor": "rgb(36,36,36)",
                          "gridcolor": "white",
                          "linecolor": "white",
                          "minorgridcolor": "white",
                          "startlinecolor": "rgb(36,36,36)"
                        },
                        "type": "carpet"
                      }
                    ],
                    "choropleth": [
                      {
                        "colorbar": {
                          "outlinewidth": 1,
                          "tickcolor": "rgb(36,36,36)",
                          "ticks": "outside"
                        },
                        "type": "choropleth"
                      }
                    ],
                    "contour": [
                      {
                        "colorbar": {
                          "outlinewidth": 1,
                          "tickcolor": "rgb(36,36,36)",
                          "ticks": "outside"
                        },
                        "colorscale": [
                          [
                            0,
                            "#440154"
                          ],
                          [
                            0.1111111111111111,
                            "#482878"
                          ],
                          [
                            0.2222222222222222,
                            "#3e4989"
                          ],
                          [
                            0.3333333333333333,
                            "#31688e"
                          ],
                          [
                            0.4444444444444444,
                            "#26828e"
                          ],
                          [
                            0.5555555555555556,
                            "#1f9e89"
                          ],
                          [
                            0.6666666666666666,
                            "#35b779"
                          ],
                          [
                            0.7777777777777778,
                            "#6ece58"
                          ],
                          [
                            0.8888888888888888,
                            "#b5de2b"
                          ],
                          [
                            1,
                            "#fde725"
                          ]
                        ],
                        "type": "contour"
                      }
                    ],
                    "contourcarpet": [
                      {
                        "colorbar": {
                          "outlinewidth": 1,
                          "tickcolor": "rgb(36,36,36)",
                          "ticks": "outside"
                        },
                        "type": "contourcarpet"
                      }
                    ],
                    "heatmap": [
                      {
                        "colorbar": {
                          "outlinewidth": 1,
                          "tickcolor": "rgb(36,36,36)",
                          "ticks": "outside"
                        },
                        "colorscale": [
                          [
                            0,
                            "#440154"
                          ],
                          [
                            0.1111111111111111,
                            "#482878"
                          ],
                          [
                            0.2222222222222222,
                            "#3e4989"
                          ],
                          [
                            0.3333333333333333,
                            "#31688e"
                          ],
                          [
                            0.4444444444444444,
                            "#26828e"
                          ],
                          [
                            0.5555555555555556,
                            "#1f9e89"
                          ],
                          [
                            0.6666666666666666,
                            "#35b779"
                          ],
                          [
                            0.7777777777777778,
                            "#6ece58"
                          ],
                          [
                            0.8888888888888888,
                            "#b5de2b"
                          ],
                          [
                            1,
                            "#fde725"
                          ]
                        ],
                        "type": "heatmap"
                      }
                    ],
                    "heatmapgl": [
                      {
                        "colorbar": {
                          "outlinewidth": 1,
                          "tickcolor": "rgb(36,36,36)",
                          "ticks": "outside"
                        },
                        "colorscale": [
                          [
                            0,
                            "#440154"
                          ],
                          [
                            0.1111111111111111,
                            "#482878"
                          ],
                          [
                            0.2222222222222222,
                            "#3e4989"
                          ],
                          [
                            0.3333333333333333,
                            "#31688e"
                          ],
                          [
                            0.4444444444444444,
                            "#26828e"
                          ],
                          [
                            0.5555555555555556,
                            "#1f9e89"
                          ],
                          [
                            0.6666666666666666,
                            "#35b779"
                          ],
                          [
                            0.7777777777777778,
                            "#6ece58"
                          ],
                          [
                            0.8888888888888888,
                            "#b5de2b"
                          ],
                          [
                            1,
                            "#fde725"
                          ]
                        ],
                        "type": "heatmapgl"
                      }
                    ],
                    "histogram": [
                      {
                        "marker": {
                          "line": {
                            "color": "white",
                            "width": 0.6
                          }
                        },
                        "type": "histogram"
                      }
                    ],
                    "histogram2d": [
                      {
                        "colorbar": {
                          "outlinewidth": 1,
                          "tickcolor": "rgb(36,36,36)",
                          "ticks": "outside"
                        },
                        "colorscale": [
                          [
                            0,
                            "#440154"
                          ],
                          [
                            0.1111111111111111,
                            "#482878"
                          ],
                          [
                            0.2222222222222222,
                            "#3e4989"
                          ],
                          [
                            0.3333333333333333,
                            "#31688e"
                          ],
                          [
                            0.4444444444444444,
                            "#26828e"
                          ],
                          [
                            0.5555555555555556,
                            "#1f9e89"
                          ],
                          [
                            0.6666666666666666,
                            "#35b779"
                          ],
                          [
                            0.7777777777777778,
                            "#6ece58"
                          ],
                          [
                            0.8888888888888888,
                            "#b5de2b"
                          ],
                          [
                            1,
                            "#fde725"
                          ]
                        ],
                        "type": "histogram2d"
                      }
                    ],
                    "histogram2dcontour": [
                      {
                        "colorbar": {
                          "outlinewidth": 1,
                          "tickcolor": "rgb(36,36,36)",
                          "ticks": "outside"
                        },
                        "colorscale": [
                          [
                            0,
                            "#440154"
                          ],
                          [
                            0.1111111111111111,
                            "#482878"
                          ],
                          [
                            0.2222222222222222,
                            "#3e4989"
                          ],
                          [
                            0.3333333333333333,
                            "#31688e"
                          ],
                          [
                            0.4444444444444444,
                            "#26828e"
                          ],
                          [
                            0.5555555555555556,
                            "#1f9e89"
                          ],
                          [
                            0.6666666666666666,
                            "#35b779"
                          ],
                          [
                            0.7777777777777778,
                            "#6ece58"
                          ],
                          [
                            0.8888888888888888,
                            "#b5de2b"
                          ],
                          [
                            1,
                            "#fde725"
                          ]
                        ],
                        "type": "histogram2dcontour"
                      }
                    ],
                    "mesh3d": [
                      {
                        "colorbar": {
                          "outlinewidth": 1,
                          "tickcolor": "rgb(36,36,36)",
                          "ticks": "outside"
                        },
                        "type": "mesh3d"
                      }
                    ],
                    "parcoords": [
                      {
                        "line": {
                          "colorbar": {
                            "outlinewidth": 1,
                            "tickcolor": "rgb(36,36,36)",
                            "ticks": "outside"
                          }
                        },
                        "type": "parcoords"
                      }
                    ],
                    "pie": [
                      {
                        "automargin": true,
                        "type": "pie"
                      }
                    ],
                    "scatter": [
                      {
                        "fillpattern": {
                          "fillmode": "overlay",
                          "size": 10,
                          "solidity": 0.2
                        },
                        "type": "scatter"
                      }
                    ],
                    "scatter3d": [
                      {
                        "line": {
                          "colorbar": {
                            "outlinewidth": 1,
                            "tickcolor": "rgb(36,36,36)",
                            "ticks": "outside"
                          }
                        },
                        "marker": {
                          "colorbar": {
                            "outlinewidth": 1,
                            "tickcolor": "rgb(36,36,36)",
                            "ticks": "outside"
                          }
                        },
                        "type": "scatter3d"
                      }
                    ],
                    "scattercarpet": [
                      {
                        "marker": {
                          "colorbar": {
                            "outlinewidth": 1,
                            "tickcolor": "rgb(36,36,36)",
                            "ticks": "outside"
                          }
                        },
                        "type": "scattercarpet"
                      }
                    ],
                    "scattergeo": [
                      {
                        "marker": {
                          "colorbar": {
                            "outlinewidth": 1,
                            "tickcolor": "rgb(36,36,36)",
                            "ticks": "outside"
                          }
                        },
                        "type": "scattergeo"
                      }
                    ],
                    "scattergl": [
                      {
                        "marker": {
                          "colorbar": {
                            "outlinewidth": 1,
                            "tickcolor": "rgb(36,36,36)",
                            "ticks": "outside"
                          }
                        },
                        "type": "scattergl"
                      }
                    ],
                    "scattermapbox": [
                      {
                        "marker": {
                          "colorbar": {
                            "outlinewidth": 1,
                            "tickcolor": "rgb(36,36,36)",
                            "ticks": "outside"
                          }
                        },
                        "type": "scattermapbox"
                      }
                    ],
                    "scatterpolar": [
                      {
                        "marker": {
                          "colorbar": {
                            "outlinewidth": 1,
                            "tickcolor": "rgb(36,36,36)",
                            "ticks": "outside"
                          }
                        },
                        "type": "scatterpolar"
                      }
                    ],
                    "scatterpolargl": [
                      {
                        "marker": {
                          "colorbar": {
                            "outlinewidth": 1,
                            "tickcolor": "rgb(36,36,36)",
                            "ticks": "outside"
                          }
                        },
                        "type": "scatterpolargl"
                      }
                    ],
                    "scatterternary": [
                      {
                        "marker": {
                          "colorbar": {
                            "outlinewidth": 1,
                            "tickcolor": "rgb(36,36,36)",
                            "ticks": "outside"
                          }
                        },
                        "type": "scatterternary"
                      }
                    ],
                    "surface": [
                      {
                        "colorbar": {
                          "outlinewidth": 1,
                          "tickcolor": "rgb(36,36,36)",
                          "ticks": "outside"
                        },
                        "colorscale": [
                          [
                            0,
                            "#440154"
                          ],
                          [
                            0.1111111111111111,
                            "#482878"
                          ],
                          [
                            0.2222222222222222,
                            "#3e4989"
                          ],
                          [
                            0.3333333333333333,
                            "#31688e"
                          ],
                          [
                            0.4444444444444444,
                            "#26828e"
                          ],
                          [
                            0.5555555555555556,
                            "#1f9e89"
                          ],
                          [
                            0.6666666666666666,
                            "#35b779"
                          ],
                          [
                            0.7777777777777778,
                            "#6ece58"
                          ],
                          [
                            0.8888888888888888,
                            "#b5de2b"
                          ],
                          [
                            1,
                            "#fde725"
                          ]
                        ],
                        "type": "surface"
                      }
                    ],
                    "table": [
                      {
                        "cells": {
                          "fill": {
                            "color": "rgb(237,237,237)"
                          },
                          "line": {
                            "color": "white"
                          }
                        },
                        "header": {
                          "fill": {
                            "color": "rgb(217,217,217)"
                          },
                          "line": {
                            "color": "white"
                          }
                        },
                        "type": "table"
                      }
                    ]
                  },
                  "layout": {
                    "annotationdefaults": {
                      "arrowhead": 0,
                      "arrowwidth": 1
                    },
                    "autotypenumbers": "strict",
                    "coloraxis": {
                      "colorbar": {
                        "outlinewidth": 1,
                        "tickcolor": "rgb(36,36,36)",
                        "ticks": "outside"
                      }
                    },
                    "colorscale": {
                      "diverging": [
                        [
                          0,
                          "rgb(103,0,31)"
                        ],
                        [
                          0.1,
                          "rgb(178,24,43)"
                        ],
                        [
                          0.2,
                          "rgb(214,96,77)"
                        ],
                        [
                          0.3,
                          "rgb(244,165,130)"
                        ],
                        [
                          0.4,
                          "rgb(253,219,199)"
                        ],
                        [
                          0.5,
                          "rgb(247,247,247)"
                        ],
                        [
                          0.6,
                          "rgb(209,229,240)"
                        ],
                        [
                          0.7,
                          "rgb(146,197,222)"
                        ],
                        [
                          0.8,
                          "rgb(67,147,195)"
                        ],
                        [
                          0.9,
                          "rgb(33,102,172)"
                        ],
                        [
                          1,
                          "rgb(5,48,97)"
                        ]
                      ],
                      "sequential": [
                        [
                          0,
                          "#440154"
                        ],
                        [
                          0.1111111111111111,
                          "#482878"
                        ],
                        [
                          0.2222222222222222,
                          "#3e4989"
                        ],
                        [
                          0.3333333333333333,
                          "#31688e"
                        ],
                        [
                          0.4444444444444444,
                          "#26828e"
                        ],
                        [
                          0.5555555555555556,
                          "#1f9e89"
                        ],
                        [
                          0.6666666666666666,
                          "#35b779"
                        ],
                        [
                          0.7777777777777778,
                          "#6ece58"
                        ],
                        [
                          0.8888888888888888,
                          "#b5de2b"
                        ],
                        [
                          1,
                          "#fde725"
                        ]
                      ],
                      "sequentialminus": [
                        [
                          0,
                          "#440154"
                        ],
                        [
                          0.1111111111111111,
                          "#482878"
                        ],
                        [
                          0.2222222222222222,
                          "#3e4989"
                        ],
                        [
                          0.3333333333333333,
                          "#31688e"
                        ],
                        [
                          0.4444444444444444,
                          "#26828e"
                        ],
                        [
                          0.5555555555555556,
                          "#1f9e89"
                        ],
                        [
                          0.6666666666666666,
                          "#35b779"
                        ],
                        [
                          0.7777777777777778,
                          "#6ece58"
                        ],
                        [
                          0.8888888888888888,
                          "#b5de2b"
                        ],
                        [
                          1,
                          "#fde725"
                        ]
                      ]
                    },
                    "colorway": [
                      "#1F77B4",
                      "#FF7F0E",
                      "#2CA02C",
                      "#D62728",
                      "#9467BD",
                      "#8C564B",
                      "#E377C2",
                      "#7F7F7F",
                      "#BCBD22",
                      "#17BECF"
                    ],
                    "font": {
                      "color": "rgb(36,36,36)"
                    },
                    "geo": {
                      "bgcolor": "white",
                      "lakecolor": "white",
                      "landcolor": "white",
                      "showlakes": true,
                      "showland": true,
                      "subunitcolor": "white"
                    },
                    "hoverlabel": {
                      "align": "left"
                    },
                    "hovermode": "closest",
                    "mapbox": {
                      "style": "light"
                    },
                    "paper_bgcolor": "white",
                    "plot_bgcolor": "white",
                    "polar": {
                      "angularaxis": {
                        "gridcolor": "rgb(232,232,232)",
                        "linecolor": "rgb(36,36,36)",
                        "showgrid": false,
                        "showline": true,
                        "ticks": "outside"
                      },
                      "bgcolor": "white",
                      "radialaxis": {
                        "gridcolor": "rgb(232,232,232)",
                        "linecolor": "rgb(36,36,36)",
                        "showgrid": false,
                        "showline": true,
                        "ticks": "outside"
                      }
                    },
                    "scene": {
                      "xaxis": {
                        "backgroundcolor": "white",
                        "gridcolor": "rgb(232,232,232)",
                        "gridwidth": 2,
                        "linecolor": "rgb(36,36,36)",
                        "showbackground": true,
                        "showgrid": false,
                        "showline": true,
                        "ticks": "outside",
                        "zeroline": false,
                        "zerolinecolor": "rgb(36,36,36)"
                      },
                      "yaxis": {
                        "backgroundcolor": "white",
                        "gridcolor": "rgb(232,232,232)",
                        "gridwidth": 2,
                        "linecolor": "rgb(36,36,36)",
                        "showbackground": true,
                        "showgrid": false,
                        "showline": true,
                        "ticks": "outside",
                        "zeroline": false,
                        "zerolinecolor": "rgb(36,36,36)"
                      },
                      "zaxis": {
                        "backgroundcolor": "white",
                        "gridcolor": "rgb(232,232,232)",
                        "gridwidth": 2,
                        "linecolor": "rgb(36,36,36)",
                        "showbackground": true,
                        "showgrid": false,
                        "showline": true,
                        "ticks": "outside",
                        "zeroline": false,
                        "zerolinecolor": "rgb(36,36,36)"
                      }
                    },
                    "shapedefaults": {
                      "fillcolor": "black",
                      "line": {
                        "width": 0
                      },
                      "opacity": 0.3
                    },
                    "ternary": {
                      "aaxis": {
                        "gridcolor": "rgb(232,232,232)",
                        "linecolor": "rgb(36,36,36)",
                        "showgrid": false,
                        "showline": true,
                        "ticks": "outside"
                      },
                      "baxis": {
                        "gridcolor": "rgb(232,232,232)",
                        "linecolor": "rgb(36,36,36)",
                        "showgrid": false,
                        "showline": true,
                        "ticks": "outside"
                      },
                      "bgcolor": "white",
                      "caxis": {
                        "gridcolor": "rgb(232,232,232)",
                        "linecolor": "rgb(36,36,36)",
                        "showgrid": false,
                        "showline": true,
                        "ticks": "outside"
                      }
                    },
                    "title": {
                      "x": 0.05
                    },
                    "xaxis": {
                      "automargin": true,
                      "gridcolor": "rgb(232,232,232)",
                      "linecolor": "rgb(36,36,36)",
                      "showgrid": false,
                      "showline": true,
                      "ticks": "outside",
                      "title": {
                        "standoff": 15
                      },
                      "zeroline": false,
                      "zerolinecolor": "rgb(36,36,36)"
                    },
                    "yaxis": {
                      "automargin": true,
                      "gridcolor": "rgb(232,232,232)",
                      "linecolor": "rgb(36,36,36)",
                      "showgrid": false,
                      "showline": true,
                      "ticks": "outside",
                      "title": {
                        "standoff": 15
                      },
                      "zeroline": false,
                      "zerolinecolor": "rgb(36,36,36)"
                    }
                  }
                },
                "xaxis": {
                  "anchor": "y",
                  "constrain": "domain",
                  "domain": [
                    0,
                    1
                  ],
                  "scaleanchor": "y",
                  "side": "top",
                  "title": {
                    "text": "positions"
                  }
                },
                "yaxis": {
                  "anchor": "x",
                  "autorange": "reversed",
                  "constrain": "domain",
                  "domain": [
                    0,
                    1
                  ],
                  "title": {
                    "text": "amino acids"
                  }
                }
              }
            }
          },
          "metadata": {},
          "output_type": "display_data"
        }
      ],
      "source": [
        "#@markdown ### Amino acid probabilties\n",
        "import plotly.express as px\n",
        "fig = px.imshow(np.exp(all_log_probs_concat).mean(0).T,\n",
        "                labels=dict(x=\"positions\", y=\"amino acids\", color=\"probability\"),\n",
        "                y=list(alphabet),\n",
        "                template=\"simple_white\"\n",
        "               )\n",
        "\n",
        "fig.update_xaxes(side=\"top\")\n",
        "\n",
        "\n",
        "fig.show()"
      ]
    },
    {
      "cell_type": "code",
      "execution_count": 15,
      "metadata": {
        "cellView": "form",
        "colab": {
          "base_uri": "https://localhost:8080/",
          "height": 542
        },
        "id": "4jSKLU3L17Sf",
        "outputId": "75b5c2bd-bf41-450c-b994-2d1e37e59236"
      },
      "outputs": [
        {
          "data": {
            "application/vnd.plotly.v1+json": {
              "config": {
                "plotlyServerURL": "https://plot.ly"
              },
              "data": [
                {
                  "coloraxis": "coloraxis",
                  "hovertemplate": "positions: %{x}<br>amino acids: %{y}<br>probability: %{z}<extra></extra>",
                  "name": "0",
                  "type": "heatmap",
                  "xaxis": "x",
                  "y": [
                    "A",
                    "C",
                    "D",
                    "E",
                    "F",
                    "G",
                    "H",
                    "I",
                    "K",
                    "L",
                    "M",
                    "N",
                    "P",
                    "Q",
                    "R",
                    "S",
                    "T",
                    "V",
                    "W",
                    "Y",
                    "X"
                  ],
                  "yaxis": "y",
                  "z": [
                    [
                      3.026777054583653e-24,
                      2.4072257988523023e-20,
                      4.59766896568398e-21,
                      1.1178845792877516e-19,
                      2.238613960869884e-9,
                      1.983151293736326e-14,
                      6.355865329570628e-24,
                      1.2116423420138744e-9,
                      4.317512036777771e-7,
                      3.415394669390214e-17,
                      2.752175154441261e-10,
                      6.69148674403878e-26,
                      4.170202316799987e-7,
                      1.706502389582213e-17,
                      1.411763627104972e-18,
                      2.848842472688573e-12,
                      1.7609855630998372e-14,
                      1.8170759119584545e-8,
                      1,
                      1,
                      0.5157102942466736,
                      3.95969622149848e-18,
                      1,
                      6.450180667361138e-11,
                      0.00011258498852839693,
                      0.0000071034178290574346,
                      1.4028539091764146e-23,
                      1.5314499118688368e-23,
                      0.0000013297443501869566,
                      3.4322236046089243e-25,
                      9.647843635107733e-10,
                      4.813199598455194e-22,
                      2.9403817027691057e-14,
                      1.4020966022053587e-14,
                      1.0521212400653804e-13,
                      1.8577773777537758e-20,
                      1.5988595863936084e-11,
                      3.6635589513770404e-15,
                      1.3753877704933805e-26,
                      1.0503405084066867e-16,
                      8.972683367129846e-21,
                      3.510897799629259e-19,
                      9.28947877280005e-14
                    ],
                    [
                      2.1347497484817878e-22,
                      9.598161763035822e-22,
                      4.889194393852803e-21,
                      2.628404847361032e-20,
                      5.049466162039551e-13,
                      3.460773180882926e-23,
                      2.3238094940905943e-24,
                      4.681574984314705e-19,
                      3.1497697296380264e-15,
                      4.232209827403612e-20,
                      3.646744712099332e-16,
                      2.4298624565853824e-26,
                      3.448999874391916e-18,
                      1.1005443453809933e-23,
                      7.378556582007689e-22,
                      1.0564434117404974e-24,
                      2.0370151183891628e-25,
                      2.7529631014821378e-21,
                      5.4663335454993844e-24,
                      5.730996221428853e-23,
                      4.8394846938292675e-17,
                      2.2306152416848207e-24,
                      2.3496790041859596e-24,
                      1.8292516342772299e-19,
                      3.0492510785732845e-21,
                      6.795209632977047e-19,
                      5.728634687422983e-23,
                      1.993297285186526e-24,
                      1.6116785400621966e-17,
                      1.9579368330304433e-20,
                      3.5551046580095656e-19,
                      1.1150403744892441e-22,
                      2.2409382619221353e-20,
                      1.773408926515789e-16,
                      5.15899665004108e-23,
                      1.3293194954087587e-25,
                      3.639457370326941e-20,
                      5.153528445596455e-17,
                      1.955133359394364e-26,
                      9.894438025827778e-17,
                      1.548610061200272e-19,
                      1.7429376829878914e-22,
                      1.3322521266474697e-21
                    ],
                    [
                      1.487114048055195e-26,
                      6.563524356713128e-20,
                      3.995189947047065e-20,
                      2.0948078111254815e-18,
                      7.956537422996592e-22,
                      1,
                      8.505236655951455e-21,
                      1.400800862024626e-13,
                      9.208555445949784e-11,
                      7.433645848398465e-15,
                      6.361796422993393e-9,
                      4.207813650732823e-26,
                      0.9917677044868469,
                      3.2481524083518567e-19,
                      2.9456822761343455e-16,
                      2.434799955480088e-25,
                      3.805113234049695e-13,
                      0.000004414697286847513,
                      1.1556953270374631e-24,
                      4.7311863457152185e-27,
                      0.000005826500000694068,
                      8.794588033952586e-23,
                      2.8430087512687974e-24,
                      3.818592030296428e-18,
                      7.900954196449206e-12,
                      3.3662744813867107e-10,
                      3.448366607654334e-24,
                      1.3856518307834616e-24,
                      0.9016493558883667,
                      3.9626674977528136e-27,
                      0.000017203392417286523,
                      3.9083524368686443e-25,
                      9.097169632182878e-13,
                      4.408972629361547e-22,
                      0.000004664255811803741,
                      1.5758658877906113e-16,
                      0.9999727606773376,
                      1.3523017487715976e-17,
                      5.1430452317272645e-25,
                      1.4933973042080545e-16,
                      8.291779097574341e-25,
                      1.6032629867809844e-12,
                      6.627004461327374e-17
                    ],
                    [
                      1.026260397889432e-25,
                      2.0669756650549098e-18,
                      4.2827512090654556e-20,
                      1.332632800012128e-17,
                      8.117182080806352e-18,
                      6.323297441213072e-10,
                      1.221300973408022e-21,
                      0.007898613810539246,
                      0.9919133186340332,
                      0.9998862743377686,
                      0.09111125022172928,
                      3.3028753145749994e-25,
                      0.005235761404037476,
                      1.9444095219583603e-20,
                      1.9110414680226903e-21,
                      1.0583090322826043e-21,
                      1,
                      0.9999951124191284,
                      3.1312938275620638e-24,
                      1.7089645423063138e-16,
                      0.4826517105102539,
                      1.7260147116926957e-19,
                      5.32759736695907e-23,
                      5.588649187870942e-8,
                      0.9981329441070557,
                      0.01936762034893036,
                      5.534521893285783e-23,
                      3.02405765382813e-24,
                      0.09826062619686127,
                      5.518824054309951e-25,
                      0.23475533723831177,
                      1.296456844322174e-26,
                      0.000017128159015555866,
                      2.0918941578962347e-10,
                      0.9999953508377075,
                      5.3091211136478005e-20,
                      7.012708920228761e-7,
                      0.000002160889380320441,
                      6.595074382873964e-26,
                      8.696601661029035e-9,
                      4.364380057883395e-24,
                      1.1297067448179376e-11,
                      5.768936760588983e-13
                    ],
                    [
                      1.0974408581114794e-25,
                      2.023598979354528e-20,
                      1.6079979133311715e-21,
                      6.457063885432081e-19,
                      3.2189790976922808e-15,
                      5.015958207139421e-21,
                      9.743749577191215e-25,
                      2.7631976634140015e-18,
                      3.6767850320352374e-14,
                      0.0000012318835160840536,
                      0.000024606517399661243,
                      5.123388099868128e-24,
                      1.3879342907366056e-16,
                      1.657045757066035e-17,
                      7.738322845612101e-23,
                      4.963215513696951e-25,
                      8.526143016501616e-26,
                      2.7138865319675716e-20,
                      2.14201010870908e-23,
                      2.6174232863555834e-23,
                      5.564109667327848e-16,
                      1.6964978955067572e-13,
                      2.977953467083393e-24,
                      3.085913080414827e-19,
                      4.9802302246875953e-20,
                      1.8028073887070667e-17,
                      1.6582558659550273e-9,
                      1.2117653908130833e-24,
                      1.422291138217322e-14,
                      5.64871515621765e-17,
                      1.8144249749742515e-17,
                      5.610551814292919e-25,
                      7.967082052288602e-17,
                      5.1199757652711804e-21,
                      6.803121805367605e-22,
                      1.0932322358783187e-24,
                      1.082912908103264e-18,
                      1.6755966316409108e-19,
                      1.2649597854182367e-25,
                      5.78001291273722e-8,
                      7.298811773002905e-25,
                      1.225201581350865e-22,
                      1.2955098382033082e-21
                    ],
                    [
                      8.797835956723466e-27,
                      1.7743405316851846e-22,
                      2.2472701921863224e-21,
                      2.3854481285738914e-21,
                      1.7541907838008692e-23,
                      6.628310400547122e-11,
                      1,
                      1.2352818310027009e-17,
                      1.1165108678299804e-15,
                      6.519402025851667e-20,
                      1.389152879980129e-15,
                      7.393328279545346e-26,
                      9.649191667904233e-8,
                      5.609495628148441e-24,
                      3.4419061802538143e-18,
                      3.4439978466574137e-25,
                      1.5624580663184328e-20,
                      1.096579271830933e-9,
                      1.9923977912725133e-21,
                      7.997377824910715e-23,
                      1.1454033522432377e-13,
                      4.640067222735508e-24,
                      6.865933718986124e-24,
                      3.904203155744135e-18,
                      6.401436675797798e-16,
                      4.136823301196604e-18,
                      7.508051507478829e-24,
                      3.42391152516203e-24,
                      0.00003640370050561614,
                      2.2358335013525944e-22,
                      3.2726073310777392e-18,
                      3.6790547305861186e-25,
                      1.0137304168014727e-18,
                      5.457246543136173e-20,
                      2.4432065108811438e-23,
                      1,
                      2.3700755247269e-10,
                      6.147455739773223e-20,
                      9.67029516378011e-26,
                      7.882772743688931e-19,
                      5.6437166508752e-23,
                      5.3729955094106566e-18,
                      2.020416770301597e-17
                    ],
                    [
                      3.94011793959195e-27,
                      1.8552630193024596e-22,
                      1.9180084048098538e-20,
                      1.1273541170908645e-19,
                      6.244811390004532e-14,
                      2.6668567501102787e-22,
                      2.210513241578946e-25,
                      1.741457896127247e-14,
                      3.436358456902072e-13,
                      4.039946088302488e-15,
                      1.8189493289355596e-7,
                      4.430490287200457e-26,
                      3.744534136464249e-17,
                      7.421728099451176e-22,
                      1.6599987406791268e-22,
                      1.373863882276744e-25,
                      9.547971187069112e-26,
                      7.036161464676577e-21,
                      1.9026303459058544e-24,
                      1.1967225036038107e-24,
                      6.910390906418942e-14,
                      5.822474183936126e-19,
                      1.8552302579090657e-24,
                      9.411620477778334e-18,
                      2.0850531674296763e-20,
                      4.870631021742094e-17,
                      4.208373878243236e-16,
                      2.588577837938317e-24,
                      1.45236356274836e-9,
                      5.847467963132298e-18,
                      2.2106392606056804e-16,
                      2.4304255985011212e-26,
                      1.1921044092344742e-17,
                      4.346342374632282e-22,
                      3.203237484578895e-22,
                      1.0093745836941434e-25,
                      5.844529983032633e-16,
                      2.4427220635765343e-14,
                      3.678617713970578e-26,
                      6.39439945437914e-10,
                      2.5466867600731394e-24,
                      3.6223198682454614e-20,
                      1.0858747449189765e-15
                    ],
                    [
                      1.4387736994891412e-25,
                      0.00007254413503687829,
                      0.8584193587303162,
                      0.9475790858268738,
                      1.503739147090677e-11,
                      3.3845091062375985e-24,
                      5.1434219128095075e-25,
                      9.284562452194223e-9,
                      3.9267851548174804e-7,
                      6.294989862709599e-9,
                      0.002042366424575448,
                      2.0323870933253607e-25,
                      2.83215656779622e-17,
                      5.958415117414936e-24,
                      4.6508134015307906e-23,
                      1.7023729268234231e-25,
                      1.4344689841369633e-25,
                      1.5634610228111533e-21,
                      2.4608297029468264e-24,
                      4.5126855136344924e-24,
                      1.1712503189542645e-9,
                      5.4301555955250436e-24,
                      7.686969893948386e-24,
                      2.3891901001177427e-16,
                      3.692726913202432e-21,
                      8.004243803052037e-18,
                      2.7008202413059193e-23,
                      1.4221406905620726e-24,
                      1.0151785825793846e-17,
                      2.405311841804861e-24,
                      5.5358751437084575e-12,
                      2.5673491034627802e-21,
                      1.0502707780074907e-13,
                      0.019679496064782143,
                      5.3540561656169665e-21,
                      5.9547228539480494e-24,
                      1.0949905722271507e-18,
                      9.490125352229484e-10,
                      9.291661281018105e-24,
                      0.9626060724258423,
                      1.1915307733282796e-23,
                      1.6102521622539311e-21,
                      6.661985022118507e-21
                    ],
                    [
                      8.098399510205499e-24,
                      5.814504877577065e-9,
                      1.06951165483289e-20,
                      1.43368822591583e-7,
                      8.107267493984291e-19,
                      7.569142003201591e-17,
                      2.2232719327333446e-23,
                      0.991989254951477,
                      0.001744074048474431,
                      2.519974510074675e-18,
                      0.9017150402069092,
                      4.60648669589922e-25,
                      1.4137544468439955e-9,
                      6.4778107322638334e-9,
                      3.5431008456047433e-20,
                      2.7585329895875265e-22,
                      8.394104448223997e-16,
                      1.0799031807673387e-10,
                      1.4145810365073397e-24,
                      2.149536096704733e-19,
                      0.0015865243040025234,
                      4.950832274185075e-21,
                      2.6306012077773004e-23,
                      0.4767371714115143,
                      0.0017395059112459421,
                      0.9428759813308716,
                      1.02593537980091e-23,
                      1.9788905551327464e-23,
                      1.8190124961847687e-8,
                      3.940921636960915e-16,
                      0.03940095752477646,
                      3.8441426104501143e-25,
                      3.5166624456905993e-7,
                      3.002519510384089e-16,
                      8.368054693619342e-9,
                      3.598600916544901e-19,
                      5.554907644977902e-8,
                      0.00044733143295161426,
                      4.96025321773833e-26,
                      2.870081672323721e-10,
                      1.252089416211562e-23,
                      4.661711554970749e-14,
                      0.9975606799125671
                    ],
                    [
                      3.262100388609048e-26,
                      1.1289554631855464e-13,
                      5.102870167804421e-18,
                      3.1329025773629837e-7,
                      1.3250955633577693e-16,
                      8.43747007107031e-23,
                      3.2054479359441967e-24,
                      3.223169412033995e-14,
                      0.000004332888693170389,
                      1.3541871617117618e-11,
                      0.00000911661481950432,
                      1.6701576283076906e-21,
                      6.363422895916209e-16,
                      1,
                      7.9108170644139e-23,
                      2.7767134724397025e-25,
                      2.0672574347601706e-21,
                      1.4465548436689524e-18,
                      1.7160055772531935e-24,
                      1.2684408777233289e-21,
                      2.175648106117478e-8,
                      2.331627295751315e-12,
                      8.746575750450301e-24,
                      1.725235752869647e-11,
                      1.68255203669023e-17,
                      0.00034653881448321044,
                      6.95017223075015e-24,
                      1.3355539370984302e-24,
                      2.480538994695247e-12,
                      8.569482788115426e-25,
                      2.4594641885866957e-16,
                      1.0423902460629498e-26,
                      3.6677318062521295e-16,
                      6.677188847346476e-18,
                      1.4757823012612333e-20,
                      3.781006768850236e-24,
                      3.216065979333106e-17,
                      3.710783155768836e-15,
                      3.685711299141745e-26,
                      0.02203185483813286,
                      7.357453227506706e-25,
                      3.457502879114242e-22,
                      3.1469833080517344e-19
                    ],
                    [
                      4.7435315566587407e-26,
                      2.0327818796883458e-19,
                      5.3068289186222336e-21,
                      4.614945585973559e-19,
                      1.3766183707764704e-20,
                      8.993039563068502e-23,
                      2.7117953968397037e-25,
                      1.1100506534203903e-15,
                      1.2017094134023076e-12,
                      1.657091212295056e-14,
                      2.7813108803911857e-13,
                      3.5782314043659526e-25,
                      1.6727239109216966e-18,
                      7.896707241014309e-14,
                      2.6800131829609375e-22,
                      6.4553010494585105e-25,
                      1.3774132633121728e-25,
                      1.606697656494072e-19,
                      1.794501773272889e-24,
                      1.0441918299582588e-21,
                      3.130268871258217e-14,
                      5.618335928463041e-21,
                      1.1520177561049359e-23,
                      6.611144034087833e-16,
                      5.156667364669016e-21,
                      3.858212238583292e-8,
                      3.984980955391423e-24,
                      1.8303267079921436e-24,
                      3.217190217047239e-16,
                      4.077244880465842e-22,
                      9.100017611921699e-19,
                      4.219304395893498e-25,
                      1.7208944637009924e-18,
                      2.2886610204768256e-17,
                      1.0561549055859354e-23,
                      2.8132397045036984e-25,
                      4.363764851743896e-18,
                      6.288113408334066e-15,
                      1.145863605664274e-25,
                      1.4842317099753727e-13,
                      1.7150778768286536e-24,
                      2.6970263252227856e-22,
                      2.954480737299143e-20
                    ],
                    [
                      9.671798560102138e-25,
                      1.0904501778448472e-18,
                      5.327449061108889e-21,
                      4.659061382108181e-17,
                      2.3243222035705433e-19,
                      1.6061184326954248e-10,
                      5.729575766928476e-22,
                      4.695106803342952e-11,
                      3.5837363892426977e-12,
                      6.432127491890904e-18,
                      0.000002938940497188014,
                      2.9102733429351827e-24,
                      7.31551663690766e-9,
                      2.3558519354326226e-22,
                      2.4818175468834143e-15,
                      1.2371852501924726e-24,
                      5.074747888133996e-19,
                      3.605165347026276e-14,
                      1.7440361717984117e-24,
                      9.999701808777414e-24,
                      1.6560658622211122e-8,
                      3.7968115182002485e-22,
                      4.7310086856111966e-23,
                      5.3099820483992245e-17,
                      2.806231800956522e-16,
                      7.280018601840688e-12,
                      2.9912819946736912e-21,
                      1.1482930507333218e-24,
                      0.0000016672377114446135,
                      3.002281113829624e-20,
                      0.000002851965518857469,
                      1.765944614073436e-24,
                      5.658058961947269e-15,
                      1.9618507493723018e-22,
                      3.204564502754144e-14,
                      8.407791387059727e-20,
                      0.000026452200472704135,
                      1.8208563042368513e-17,
                      7.923308578240462e-25,
                      8.23579756909637e-14,
                      1.2112726485701596e-24,
                      1.1527575781649193e-16,
                      5.279098538928063e-15
                    ],
                    [
                      1.39812135511229e-25,
                      2.48504301692662e-21,
                      5.263685472005198e-21,
                      5.916204151719526e-21,
                      1.9518166910933802e-22,
                      1.3586190072326895e-23,
                      1.0671844432183735e-24,
                      3.2499202484172473e-20,
                      1.2398823558568833e-13,
                      2.2242450463024763e-20,
                      8.250085024389124e-17,
                      4.58638405484386e-25,
                      0.0029527288861572742,
                      1.4137443611649314e-21,
                      2.0807065918046515e-21,
                      1,
                      2.2601781985384308e-25,
                      9.188772993049387e-22,
                      9.496106417519709e-25,
                      7.242647341741498e-25,
                      5.2499325409586924e-18,
                      1.495029150507869e-23,
                      1.649362529094032e-23,
                      4.954738844654184e-20,
                      3.8198299190078106e-20,
                      2.1327669226403868e-18,
                      1.5929842179196966e-23,
                      1,
                      2.7475027384714204e-18,
                      6.442109322970952e-26,
                      9.667513789204682e-20,
                      3.925371124822656e-25,
                      1.9949307087810302e-20,
                      1.744910441096119e-21,
                      1.3488660674259525e-22,
                      4.1184228911815723e-25,
                      8.613701048522124e-17,
                      4.05247181672545e-19,
                      4.40645899557758e-26,
                      2.385482645593007e-19,
                      1.7435297724010664e-25,
                      1.1588995262065944e-22,
                      5.1408052020223215e-23
                    ],
                    [
                      1.6138437821069729e-26,
                      1.5674638014940857e-20,
                      4.1398728834705394e-20,
                      3.7862695859694004e-19,
                      1.35212778234902e-19,
                      4.8279178395830264e-20,
                      6.79366124107817e-25,
                      0.000011537972568476107,
                      2.8712310040646116e-7,
                      1.3647953210280117e-13,
                      2.1455549870097457e-7,
                      1.3384678167189936e-25,
                      1.9798529474397177e-14,
                      7.398852698299803e-20,
                      3.3035393185204466e-23,
                      1.9302907674712976e-24,
                      4.618747841600348e-16,
                      4.724510915821156e-7,
                      8.335671318340838e-25,
                      9.750453509014755e-20,
                      0.00003367019962752238,
                      7.212593374194651e-22,
                      2.893138495212877e-24,
                      8.619308005108905e-7,
                      0.000014957984603825025,
                      0.03739535063505173,
                      1.8326499428010647e-23,
                      7.529740942245041e-25,
                      0.000024860019038897008,
                      1.3476989684242767e-25,
                      1.021541740087173e-9,
                      1.8233992865099e-23,
                      1.0945727017905998e-13,
                      4.028427981819793e-13,
                      1.720479010994258e-12,
                      5.554714365876726e-24,
                      3.4574769262885052e-12,
                      6.247285674887415e-13,
                      1.602590958627907e-26,
                      1.0195435736436685e-14,
                      6.440024560813679e-24,
                      8.621571046495228e-21,
                      2.7634533550369156e-10
                    ],
                    [
                      5.287516724871375e-25,
                      4.197721136618357e-14,
                      9.856369139690769e-21,
                      1.5638711029289376e-12,
                      1.5500623313656654e-14,
                      1.0924585659097774e-20,
                      3.9636997191658073e-26,
                      8.041658361435111e-8,
                      0.00002916551056841854,
                      1.0625847667059416e-16,
                      0.00011106345482403412,
                      1.1795985027189518e-25,
                      6.804680127207743e-18,
                      1.6393694812323267e-19,
                      8.123342503167682e-24,
                      2.8222944471890515e-24,
                      1.0676412922901096e-24,
                      4.146597912515408e-16,
                      7.167090047024203e-24,
                      4.834574321107573e-22,
                      0.000011732741768355481,
                      1.0549948067387174e-23,
                      7.811686278708931e-23,
                      0.5232619047164917,
                      2.6862458655033117e-13,
                      0.0000073649252954055555,
                      2.8599185764178887e-24,
                      5.241217492267822e-25,
                      1.8183418659667439e-10,
                      6.472253473096484e-24,
                      4.57342327799936e-14,
                      1.67965802218423e-24,
                      7.671799266972812e-7,
                      4.509844307352094e-14,
                      1.6251040536352079e-18,
                      1.9699350708707927e-25,
                      3.4064841225589504e-11,
                      0.0010682402644306421,
                      3.3718833874495362e-25,
                      5.932846991463236e-10,
                      1.3033956673096883e-23,
                      7.867780012368346e-17,
                      0.002439296804368496
                    ],
                    [
                      3.2196101980034485e-22,
                      8.319694092732809e-18,
                      2.1491456900738277e-21,
                      8.556826922017061e-18,
                      6.426052723794429e-15,
                      4.9497036153198146e-18,
                      9.867046958955449e-24,
                      8.912693276279509e-15,
                      0.0000012830184914491838,
                      7.878331320654297e-11,
                      2.707987789563049e-7,
                      1.8782572322955477e-15,
                      0.00004284415263100527,
                      4.458320738366298e-22,
                      0.05227525159716606,
                      5.643260334347684e-19,
                      5.677767926512374e-22,
                      1.6073425585528671e-16,
                      1.3823227181405612e-18,
                      5.4391280501363444e-15,
                      5.170477823668307e-9,
                      3.1618908232902375e-21,
                      2.4921540236964485e-21,
                      4.94995971295209e-13,
                      8.560007147551119e-10,
                      8.173705852779212e-13,
                      7.317384773319997e-23,
                      6.152180260551205e-24,
                      0.00002503806354070548,
                      1.1206658488894583e-21,
                      1.2550104185049538e-11,
                      5.998513607480612e-25,
                      0.0009606817620806396,
                      1.3270092953357475e-17,
                      3.3476253019637525e-11,
                      1.8702770302582966e-23,
                      9.405454193256446e-10,
                      1.4614382905339847e-14,
                      5.1663563796253365e-27,
                      2.891123560512716e-15,
                      8.511544110070563e-24,
                      0.00017338171892333776,
                      2.0880363681575337e-13
                    ],
                    [
                      1,
                      0.9998640418052673,
                      1.497181636373855e-22,
                      9.205635385922672e-13,
                      4.897486598381486e-17,
                      6.733465513654334e-23,
                      3.056264478005588e-24,
                      2.035207025130603e-8,
                      0.0024551984388381243,
                      0.00007003881910350174,
                      0.002412353875115514,
                      1,
                      4.640918973564112e-7,
                      3.907955787744738e-24,
                      0.9477247595787048,
                      3.515934516338777e-24,
                      6.315079884251002e-19,
                      8.07960740148113e-18,
                      4.3347050827812434e-24,
                      2.9046044701411287e-23,
                      2.1994590326812613e-7,
                      3.99260774150919e-23,
                      3.1242780931014807e-24,
                      1.058299389962436e-12,
                      2.5635411762120475e-12,
                      1.1428042756903012e-12,
                      4.9391558201232575e-22,
                      7.761753907763338e-24,
                      6.804791610193206e-7,
                      2.7516349926170476e-24,
                      0.7258236408233643,
                      1.7528175031826242e-22,
                      0.999021053314209,
                      2.896875176804786e-13,
                      3.8307260254200295e-17,
                      8.81065827444025e-25,
                      2.4962342956569294e-11,
                      0.9979696273803711,
                      1.3421541390771881e-25,
                      3.699425488168373e-11,
                      2.6474005371793974e-22,
                      0.9998266100883484,
                      7.020064806544812e-17
                    ],
                    [
                      5.945193893113396e-17,
                      0.00006339395622489974,
                      0.14158065617084503,
                      0.052420467138290405,
                      1,
                      2.7803241676889896e-23,
                      2.6107572539342848e-24,
                      0.00010047923569800332,
                      0.0038515066262334585,
                      3.0143164982295023e-13,
                      0.00224921852350235,
                      8.511552018369584e-19,
                      5.4355086915876166e-17,
                      4.0310961861888326e-24,
                      7.323063688313374e-22,
                      5.936350283465452e-24,
                      2.5394547799057735e-21,
                      1.9468018833862285e-19,
                      5.713236359211341e-24,
                      3.7247199162371e-25,
                      8.356602076986519e-10,
                      1.2983831346773873e-22,
                      2.240163337980299e-23,
                      1.0885333060546998e-14,
                      3.244601994066414e-19,
                      8.774906638507889e-17,
                      6.350267178156727e-23,
                      9.58986549433362e-25,
                      5.604766719400462e-16,
                      1.1565062020923205e-25,
                      3.312540797217878e-10,
                      1,
                      5.065996233621917e-12,
                      0.9803205132484436,
                      8.469988490959757e-13,
                      3.835883877721936e-24,
                      1.109911566309112e-18,
                      0.0005126108299009502,
                      1,
                      0.015351053327322006,
                      1,
                      1.1975021349626583e-19,
                      1.3012479028708833e-19
                    ],
                    [
                      2.531701903444207e-25,
                      9.309412115511418e-21,
                      2.965553820053549e-22,
                      5.029133077878245e-20,
                      3.166021192967069e-20,
                      2.136445641655832e-23,
                      1.2741289868905567e-24,
                      4.861285142270679e-19,
                      3.304891214312561e-16,
                      4.430862434311747e-16,
                      1.557562065435114e-11,
                      6.120529188881475e-24,
                      1.048925897210323e-17,
                      1.5035974421160175e-23,
                      2.4037576280493946e-22,
                      7.695187753820912e-26,
                      9.078443025174313e-25,
                      8.843205973303464e-22,
                      9.076426499485341e-25,
                      6.007773848431776e-25,
                      6.220674153851116e-17,
                      0.9998242259025574,
                      3.50275817263887e-24,
                      1.1416016569072368e-19,
                      1.7208885183403397e-20,
                      1.6989823913718199e-15,
                      0.000002588588813523529,
                      2.046780871269153e-24,
                      2.3476926325427744e-15,
                      9.335820728416246e-25,
                      5.720118337950931e-19,
                      2.5370023091701936e-25,
                      7.963157897122893e-20,
                      9.753666063640822e-22,
                      6.050163979427119e-24,
                      9.119530845422749e-25,
                      5.691296651223199e-20,
                      6.156141782439883e-19,
                      7.2236796743135245e-25,
                      2.665122896677863e-12,
                      1.088819052151673e-24,
                      6.193353277777405e-23,
                      1.8446943026564154e-22
                    ],
                    [
                      9.274987719710128e-25,
                      2.435896492806501e-20,
                      1.4130174479288756e-21,
                      5.693552915590908e-19,
                      2.7688569752964964e-12,
                      1.0670269865816914e-23,
                      8.645053690683335e-25,
                      3.169986270308645e-18,
                      8.525935491464354e-14,
                      0.000042460036638658494,
                      0.00032133996137417853,
                      5.531394217568763e-22,
                      2.957034825461462e-18,
                      1.006667555820704e-16,
                      4.780034813148872e-23,
                      1.0055235249922258e-24,
                      6.497324655955765e-24,
                      1.364549773327579e-20,
                      5.728771988663537e-25,
                      4.830446574866568e-24,
                      3.272168108098641e-15,
                      0.00017580122221261263,
                      1.1212786865277319e-23,
                      1.7094933299205975e-19,
                      4.323176268771004e-21,
                      1.2504485184061057e-17,
                      0.9999974370002747,
                      2.2136555210834742e-24,
                      1.2576922230717828e-14,
                      1,
                      1.4226230868311154e-19,
                      1.8176637155263096e-25,
                      3.305251931234083e-17,
                      7.026408064175071e-22,
                      5.593587459133754e-24,
                      6.559768913060798e-25,
                      2.3366203113276754e-19,
                      1.7744726476963078e-17,
                      1.842919836964059e-25,
                      0.00001095595598599175,
                      6.61414410918155e-25,
                      2.3650388202082093e-22,
                      4.810787122967509e-21
                    ],
                    [
                      0,
                      0,
                      0,
                      0,
                      0,
                      0,
                      0,
                      0,
                      0,
                      0,
                      0,
                      0,
                      0,
                      0,
                      0,
                      0,
                      0,
                      0,
                      0,
                      0,
                      0,
                      0,
                      0,
                      0,
                      0,
                      0,
                      0,
                      0,
                      0,
                      0,
                      0,
                      0,
                      0,
                      0,
                      0,
                      0,
                      0,
                      0,
                      0,
                      0,
                      0,
                      0,
                      0
                    ]
                  ]
                }
              ],
              "layout": {
                "coloraxis": {
                  "colorbar": {
                    "title": {
                      "text": "probability"
                    }
                  },
                  "colorscale": [
                    [
                      0,
                      "#440154"
                    ],
                    [
                      0.1111111111111111,
                      "#482878"
                    ],
                    [
                      0.2222222222222222,
                      "#3e4989"
                    ],
                    [
                      0.3333333333333333,
                      "#31688e"
                    ],
                    [
                      0.4444444444444444,
                      "#26828e"
                    ],
                    [
                      0.5555555555555556,
                      "#1f9e89"
                    ],
                    [
                      0.6666666666666666,
                      "#35b779"
                    ],
                    [
                      0.7777777777777778,
                      "#6ece58"
                    ],
                    [
                      0.8888888888888888,
                      "#b5de2b"
                    ],
                    [
                      1,
                      "#fde725"
                    ]
                  ]
                },
                "margin": {
                  "t": 60
                },
                "template": {
                  "data": {
                    "bar": [
                      {
                        "error_x": {
                          "color": "rgb(36,36,36)"
                        },
                        "error_y": {
                          "color": "rgb(36,36,36)"
                        },
                        "marker": {
                          "line": {
                            "color": "white",
                            "width": 0.5
                          },
                          "pattern": {
                            "fillmode": "overlay",
                            "size": 10,
                            "solidity": 0.2
                          }
                        },
                        "type": "bar"
                      }
                    ],
                    "barpolar": [
                      {
                        "marker": {
                          "line": {
                            "color": "white",
                            "width": 0.5
                          },
                          "pattern": {
                            "fillmode": "overlay",
                            "size": 10,
                            "solidity": 0.2
                          }
                        },
                        "type": "barpolar"
                      }
                    ],
                    "carpet": [
                      {
                        "aaxis": {
                          "endlinecolor": "rgb(36,36,36)",
                          "gridcolor": "white",
                          "linecolor": "white",
                          "minorgridcolor": "white",
                          "startlinecolor": "rgb(36,36,36)"
                        },
                        "baxis": {
                          "endlinecolor": "rgb(36,36,36)",
                          "gridcolor": "white",
                          "linecolor": "white",
                          "minorgridcolor": "white",
                          "startlinecolor": "rgb(36,36,36)"
                        },
                        "type": "carpet"
                      }
                    ],
                    "choropleth": [
                      {
                        "colorbar": {
                          "outlinewidth": 1,
                          "tickcolor": "rgb(36,36,36)",
                          "ticks": "outside"
                        },
                        "type": "choropleth"
                      }
                    ],
                    "contour": [
                      {
                        "colorbar": {
                          "outlinewidth": 1,
                          "tickcolor": "rgb(36,36,36)",
                          "ticks": "outside"
                        },
                        "colorscale": [
                          [
                            0,
                            "#440154"
                          ],
                          [
                            0.1111111111111111,
                            "#482878"
                          ],
                          [
                            0.2222222222222222,
                            "#3e4989"
                          ],
                          [
                            0.3333333333333333,
                            "#31688e"
                          ],
                          [
                            0.4444444444444444,
                            "#26828e"
                          ],
                          [
                            0.5555555555555556,
                            "#1f9e89"
                          ],
                          [
                            0.6666666666666666,
                            "#35b779"
                          ],
                          [
                            0.7777777777777778,
                            "#6ece58"
                          ],
                          [
                            0.8888888888888888,
                            "#b5de2b"
                          ],
                          [
                            1,
                            "#fde725"
                          ]
                        ],
                        "type": "contour"
                      }
                    ],
                    "contourcarpet": [
                      {
                        "colorbar": {
                          "outlinewidth": 1,
                          "tickcolor": "rgb(36,36,36)",
                          "ticks": "outside"
                        },
                        "type": "contourcarpet"
                      }
                    ],
                    "heatmap": [
                      {
                        "colorbar": {
                          "outlinewidth": 1,
                          "tickcolor": "rgb(36,36,36)",
                          "ticks": "outside"
                        },
                        "colorscale": [
                          [
                            0,
                            "#440154"
                          ],
                          [
                            0.1111111111111111,
                            "#482878"
                          ],
                          [
                            0.2222222222222222,
                            "#3e4989"
                          ],
                          [
                            0.3333333333333333,
                            "#31688e"
                          ],
                          [
                            0.4444444444444444,
                            "#26828e"
                          ],
                          [
                            0.5555555555555556,
                            "#1f9e89"
                          ],
                          [
                            0.6666666666666666,
                            "#35b779"
                          ],
                          [
                            0.7777777777777778,
                            "#6ece58"
                          ],
                          [
                            0.8888888888888888,
                            "#b5de2b"
                          ],
                          [
                            1,
                            "#fde725"
                          ]
                        ],
                        "type": "heatmap"
                      }
                    ],
                    "heatmapgl": [
                      {
                        "colorbar": {
                          "outlinewidth": 1,
                          "tickcolor": "rgb(36,36,36)",
                          "ticks": "outside"
                        },
                        "colorscale": [
                          [
                            0,
                            "#440154"
                          ],
                          [
                            0.1111111111111111,
                            "#482878"
                          ],
                          [
                            0.2222222222222222,
                            "#3e4989"
                          ],
                          [
                            0.3333333333333333,
                            "#31688e"
                          ],
                          [
                            0.4444444444444444,
                            "#26828e"
                          ],
                          [
                            0.5555555555555556,
                            "#1f9e89"
                          ],
                          [
                            0.6666666666666666,
                            "#35b779"
                          ],
                          [
                            0.7777777777777778,
                            "#6ece58"
                          ],
                          [
                            0.8888888888888888,
                            "#b5de2b"
                          ],
                          [
                            1,
                            "#fde725"
                          ]
                        ],
                        "type": "heatmapgl"
                      }
                    ],
                    "histogram": [
                      {
                        "marker": {
                          "line": {
                            "color": "white",
                            "width": 0.6
                          }
                        },
                        "type": "histogram"
                      }
                    ],
                    "histogram2d": [
                      {
                        "colorbar": {
                          "outlinewidth": 1,
                          "tickcolor": "rgb(36,36,36)",
                          "ticks": "outside"
                        },
                        "colorscale": [
                          [
                            0,
                            "#440154"
                          ],
                          [
                            0.1111111111111111,
                            "#482878"
                          ],
                          [
                            0.2222222222222222,
                            "#3e4989"
                          ],
                          [
                            0.3333333333333333,
                            "#31688e"
                          ],
                          [
                            0.4444444444444444,
                            "#26828e"
                          ],
                          [
                            0.5555555555555556,
                            "#1f9e89"
                          ],
                          [
                            0.6666666666666666,
                            "#35b779"
                          ],
                          [
                            0.7777777777777778,
                            "#6ece58"
                          ],
                          [
                            0.8888888888888888,
                            "#b5de2b"
                          ],
                          [
                            1,
                            "#fde725"
                          ]
                        ],
                        "type": "histogram2d"
                      }
                    ],
                    "histogram2dcontour": [
                      {
                        "colorbar": {
                          "outlinewidth": 1,
                          "tickcolor": "rgb(36,36,36)",
                          "ticks": "outside"
                        },
                        "colorscale": [
                          [
                            0,
                            "#440154"
                          ],
                          [
                            0.1111111111111111,
                            "#482878"
                          ],
                          [
                            0.2222222222222222,
                            "#3e4989"
                          ],
                          [
                            0.3333333333333333,
                            "#31688e"
                          ],
                          [
                            0.4444444444444444,
                            "#26828e"
                          ],
                          [
                            0.5555555555555556,
                            "#1f9e89"
                          ],
                          [
                            0.6666666666666666,
                            "#35b779"
                          ],
                          [
                            0.7777777777777778,
                            "#6ece58"
                          ],
                          [
                            0.8888888888888888,
                            "#b5de2b"
                          ],
                          [
                            1,
                            "#fde725"
                          ]
                        ],
                        "type": "histogram2dcontour"
                      }
                    ],
                    "mesh3d": [
                      {
                        "colorbar": {
                          "outlinewidth": 1,
                          "tickcolor": "rgb(36,36,36)",
                          "ticks": "outside"
                        },
                        "type": "mesh3d"
                      }
                    ],
                    "parcoords": [
                      {
                        "line": {
                          "colorbar": {
                            "outlinewidth": 1,
                            "tickcolor": "rgb(36,36,36)",
                            "ticks": "outside"
                          }
                        },
                        "type": "parcoords"
                      }
                    ],
                    "pie": [
                      {
                        "automargin": true,
                        "type": "pie"
                      }
                    ],
                    "scatter": [
                      {
                        "fillpattern": {
                          "fillmode": "overlay",
                          "size": 10,
                          "solidity": 0.2
                        },
                        "type": "scatter"
                      }
                    ],
                    "scatter3d": [
                      {
                        "line": {
                          "colorbar": {
                            "outlinewidth": 1,
                            "tickcolor": "rgb(36,36,36)",
                            "ticks": "outside"
                          }
                        },
                        "marker": {
                          "colorbar": {
                            "outlinewidth": 1,
                            "tickcolor": "rgb(36,36,36)",
                            "ticks": "outside"
                          }
                        },
                        "type": "scatter3d"
                      }
                    ],
                    "scattercarpet": [
                      {
                        "marker": {
                          "colorbar": {
                            "outlinewidth": 1,
                            "tickcolor": "rgb(36,36,36)",
                            "ticks": "outside"
                          }
                        },
                        "type": "scattercarpet"
                      }
                    ],
                    "scattergeo": [
                      {
                        "marker": {
                          "colorbar": {
                            "outlinewidth": 1,
                            "tickcolor": "rgb(36,36,36)",
                            "ticks": "outside"
                          }
                        },
                        "type": "scattergeo"
                      }
                    ],
                    "scattergl": [
                      {
                        "marker": {
                          "colorbar": {
                            "outlinewidth": 1,
                            "tickcolor": "rgb(36,36,36)",
                            "ticks": "outside"
                          }
                        },
                        "type": "scattergl"
                      }
                    ],
                    "scattermapbox": [
                      {
                        "marker": {
                          "colorbar": {
                            "outlinewidth": 1,
                            "tickcolor": "rgb(36,36,36)",
                            "ticks": "outside"
                          }
                        },
                        "type": "scattermapbox"
                      }
                    ],
                    "scatterpolar": [
                      {
                        "marker": {
                          "colorbar": {
                            "outlinewidth": 1,
                            "tickcolor": "rgb(36,36,36)",
                            "ticks": "outside"
                          }
                        },
                        "type": "scatterpolar"
                      }
                    ],
                    "scatterpolargl": [
                      {
                        "marker": {
                          "colorbar": {
                            "outlinewidth": 1,
                            "tickcolor": "rgb(36,36,36)",
                            "ticks": "outside"
                          }
                        },
                        "type": "scatterpolargl"
                      }
                    ],
                    "scatterternary": [
                      {
                        "marker": {
                          "colorbar": {
                            "outlinewidth": 1,
                            "tickcolor": "rgb(36,36,36)",
                            "ticks": "outside"
                          }
                        },
                        "type": "scatterternary"
                      }
                    ],
                    "surface": [
                      {
                        "colorbar": {
                          "outlinewidth": 1,
                          "tickcolor": "rgb(36,36,36)",
                          "ticks": "outside"
                        },
                        "colorscale": [
                          [
                            0,
                            "#440154"
                          ],
                          [
                            0.1111111111111111,
                            "#482878"
                          ],
                          [
                            0.2222222222222222,
                            "#3e4989"
                          ],
                          [
                            0.3333333333333333,
                            "#31688e"
                          ],
                          [
                            0.4444444444444444,
                            "#26828e"
                          ],
                          [
                            0.5555555555555556,
                            "#1f9e89"
                          ],
                          [
                            0.6666666666666666,
                            "#35b779"
                          ],
                          [
                            0.7777777777777778,
                            "#6ece58"
                          ],
                          [
                            0.8888888888888888,
                            "#b5de2b"
                          ],
                          [
                            1,
                            "#fde725"
                          ]
                        ],
                        "type": "surface"
                      }
                    ],
                    "table": [
                      {
                        "cells": {
                          "fill": {
                            "color": "rgb(237,237,237)"
                          },
                          "line": {
                            "color": "white"
                          }
                        },
                        "header": {
                          "fill": {
                            "color": "rgb(217,217,217)"
                          },
                          "line": {
                            "color": "white"
                          }
                        },
                        "type": "table"
                      }
                    ]
                  },
                  "layout": {
                    "annotationdefaults": {
                      "arrowhead": 0,
                      "arrowwidth": 1
                    },
                    "autotypenumbers": "strict",
                    "coloraxis": {
                      "colorbar": {
                        "outlinewidth": 1,
                        "tickcolor": "rgb(36,36,36)",
                        "ticks": "outside"
                      }
                    },
                    "colorscale": {
                      "diverging": [
                        [
                          0,
                          "rgb(103,0,31)"
                        ],
                        [
                          0.1,
                          "rgb(178,24,43)"
                        ],
                        [
                          0.2,
                          "rgb(214,96,77)"
                        ],
                        [
                          0.3,
                          "rgb(244,165,130)"
                        ],
                        [
                          0.4,
                          "rgb(253,219,199)"
                        ],
                        [
                          0.5,
                          "rgb(247,247,247)"
                        ],
                        [
                          0.6,
                          "rgb(209,229,240)"
                        ],
                        [
                          0.7,
                          "rgb(146,197,222)"
                        ],
                        [
                          0.8,
                          "rgb(67,147,195)"
                        ],
                        [
                          0.9,
                          "rgb(33,102,172)"
                        ],
                        [
                          1,
                          "rgb(5,48,97)"
                        ]
                      ],
                      "sequential": [
                        [
                          0,
                          "#440154"
                        ],
                        [
                          0.1111111111111111,
                          "#482878"
                        ],
                        [
                          0.2222222222222222,
                          "#3e4989"
                        ],
                        [
                          0.3333333333333333,
                          "#31688e"
                        ],
                        [
                          0.4444444444444444,
                          "#26828e"
                        ],
                        [
                          0.5555555555555556,
                          "#1f9e89"
                        ],
                        [
                          0.6666666666666666,
                          "#35b779"
                        ],
                        [
                          0.7777777777777778,
                          "#6ece58"
                        ],
                        [
                          0.8888888888888888,
                          "#b5de2b"
                        ],
                        [
                          1,
                          "#fde725"
                        ]
                      ],
                      "sequentialminus": [
                        [
                          0,
                          "#440154"
                        ],
                        [
                          0.1111111111111111,
                          "#482878"
                        ],
                        [
                          0.2222222222222222,
                          "#3e4989"
                        ],
                        [
                          0.3333333333333333,
                          "#31688e"
                        ],
                        [
                          0.4444444444444444,
                          "#26828e"
                        ],
                        [
                          0.5555555555555556,
                          "#1f9e89"
                        ],
                        [
                          0.6666666666666666,
                          "#35b779"
                        ],
                        [
                          0.7777777777777778,
                          "#6ece58"
                        ],
                        [
                          0.8888888888888888,
                          "#b5de2b"
                        ],
                        [
                          1,
                          "#fde725"
                        ]
                      ]
                    },
                    "colorway": [
                      "#1F77B4",
                      "#FF7F0E",
                      "#2CA02C",
                      "#D62728",
                      "#9467BD",
                      "#8C564B",
                      "#E377C2",
                      "#7F7F7F",
                      "#BCBD22",
                      "#17BECF"
                    ],
                    "font": {
                      "color": "rgb(36,36,36)"
                    },
                    "geo": {
                      "bgcolor": "white",
                      "lakecolor": "white",
                      "landcolor": "white",
                      "showlakes": true,
                      "showland": true,
                      "subunitcolor": "white"
                    },
                    "hoverlabel": {
                      "align": "left"
                    },
                    "hovermode": "closest",
                    "mapbox": {
                      "style": "light"
                    },
                    "paper_bgcolor": "white",
                    "plot_bgcolor": "white",
                    "polar": {
                      "angularaxis": {
                        "gridcolor": "rgb(232,232,232)",
                        "linecolor": "rgb(36,36,36)",
                        "showgrid": false,
                        "showline": true,
                        "ticks": "outside"
                      },
                      "bgcolor": "white",
                      "radialaxis": {
                        "gridcolor": "rgb(232,232,232)",
                        "linecolor": "rgb(36,36,36)",
                        "showgrid": false,
                        "showline": true,
                        "ticks": "outside"
                      }
                    },
                    "scene": {
                      "xaxis": {
                        "backgroundcolor": "white",
                        "gridcolor": "rgb(232,232,232)",
                        "gridwidth": 2,
                        "linecolor": "rgb(36,36,36)",
                        "showbackground": true,
                        "showgrid": false,
                        "showline": true,
                        "ticks": "outside",
                        "zeroline": false,
                        "zerolinecolor": "rgb(36,36,36)"
                      },
                      "yaxis": {
                        "backgroundcolor": "white",
                        "gridcolor": "rgb(232,232,232)",
                        "gridwidth": 2,
                        "linecolor": "rgb(36,36,36)",
                        "showbackground": true,
                        "showgrid": false,
                        "showline": true,
                        "ticks": "outside",
                        "zeroline": false,
                        "zerolinecolor": "rgb(36,36,36)"
                      },
                      "zaxis": {
                        "backgroundcolor": "white",
                        "gridcolor": "rgb(232,232,232)",
                        "gridwidth": 2,
                        "linecolor": "rgb(36,36,36)",
                        "showbackground": true,
                        "showgrid": false,
                        "showline": true,
                        "ticks": "outside",
                        "zeroline": false,
                        "zerolinecolor": "rgb(36,36,36)"
                      }
                    },
                    "shapedefaults": {
                      "fillcolor": "black",
                      "line": {
                        "width": 0
                      },
                      "opacity": 0.3
                    },
                    "ternary": {
                      "aaxis": {
                        "gridcolor": "rgb(232,232,232)",
                        "linecolor": "rgb(36,36,36)",
                        "showgrid": false,
                        "showline": true,
                        "ticks": "outside"
                      },
                      "baxis": {
                        "gridcolor": "rgb(232,232,232)",
                        "linecolor": "rgb(36,36,36)",
                        "showgrid": false,
                        "showline": true,
                        "ticks": "outside"
                      },
                      "bgcolor": "white",
                      "caxis": {
                        "gridcolor": "rgb(232,232,232)",
                        "linecolor": "rgb(36,36,36)",
                        "showgrid": false,
                        "showline": true,
                        "ticks": "outside"
                      }
                    },
                    "title": {
                      "x": 0.05
                    },
                    "xaxis": {
                      "automargin": true,
                      "gridcolor": "rgb(232,232,232)",
                      "linecolor": "rgb(36,36,36)",
                      "showgrid": false,
                      "showline": true,
                      "ticks": "outside",
                      "title": {
                        "standoff": 15
                      },
                      "zeroline": false,
                      "zerolinecolor": "rgb(36,36,36)"
                    },
                    "yaxis": {
                      "automargin": true,
                      "gridcolor": "rgb(232,232,232)",
                      "linecolor": "rgb(36,36,36)",
                      "showgrid": false,
                      "showline": true,
                      "ticks": "outside",
                      "title": {
                        "standoff": 15
                      },
                      "zeroline": false,
                      "zerolinecolor": "rgb(36,36,36)"
                    }
                  }
                },
                "xaxis": {
                  "anchor": "y",
                  "constrain": "domain",
                  "domain": [
                    0,
                    1
                  ],
                  "scaleanchor": "y",
                  "side": "top",
                  "title": {
                    "text": "positions"
                  }
                },
                "yaxis": {
                  "anchor": "x",
                  "autorange": "reversed",
                  "constrain": "domain",
                  "domain": [
                    0,
                    1
                  ],
                  "title": {
                    "text": "amino acids"
                  }
                }
              }
            }
          },
          "metadata": {},
          "output_type": "display_data"
        }
      ],
      "source": [
        "#@markdown ### Sampling temperature adjusted amino acid probabilties\n",
        "import plotly.express as px\n",
        "fig = px.imshow(all_probs_concat.mean(0).T,\n",
        "                labels=dict(x=\"positions\", y=\"amino acids\", color=\"probability\"),\n",
        "                y=list(alphabet),\n",
        "                template=\"simple_white\"\n",
        "               )\n",
        "\n",
        "fig.update_xaxes(side=\"top\")\n",
        "\n",
        "\n",
        "fig.show()"
      ]
    },
    {
      "cell_type": "code",
      "execution_count": 25,
      "metadata": {
        "id": "kWGtCvOHK3GH"
      },
      "outputs": [
        {
          "name": "stdout",
          "output_type": "stream",
          "text": [
            "{'1bctA00': (['A'], [])}\n",
            "A\n",
            "Length of chain A is 69\n",
            "Generating sequences...\n",
            ">1bctA00, score=2.7801, fixed_chains=[], designed_chains=['A'], model_name=v_48_020\n",
            "MRPEVASTFKVLRNVTVVLWSAYPVVWLIGSEGAGIVPLNIETLLFMVLDVSAKVGFGLILLRSRAIFG\n",
            "sample=0, score=1.2321, seq_recovery=0.0870\n",
            "GAASAAAAAAAAAAAAAAAAAAAPVAAAAENAEAGRAAVEAKKAEEEKKKEEKAKKEKEEKEKALKALA\n",
            "sample=1, score=1.1416, seq_recovery=0.1159\n",
            "GAATAEAAAAAAEAAAAAAAALAPVLAAAAHAAAGAAPAAALAAAAAALLAALAAAAARLLELLLALLA\n",
            "sample=2, score=0.8772, seq_recovery=0.1304\n",
            "GAAGAAAAAAAAAAAAAAAAAAAPVAAAAANAAAAAAPAAAAAAAAAALAAAAAAALAEAAKAAAAAAA\n",
            "sample=3, score=0.8969, seq_recovery=0.0870\n",
            "GAATAEAAAAAAAAAAAAAAAAAPAAAAAAHAAAGAAAAAAAAAAAAAAARAAAAAAAAAAAAAAAAAA\n",
            "sample=4, score=1.3389, seq_recovery=0.1014\n",
            "GSNSAKAKKKKKLKKKKKKKKEKPIKWKKEHKEEGREPLEKEKKKLEEEKKKEEEKKKEKEKLEKEKLE\n",
            "sample=5, score=0.9172, seq_recovery=0.0870\n",
            "GAASAAAAAAAAAAAAAAAAALAPVAAAAAHAAAAAAAVAAAAAAAAAAAEAAAAALAAAAAAAAAAAA\n",
            "sample=6, score=1.0914, seq_recovery=0.1014\n",
            "GAASAAARAAAAALAAALAAALAPVLLALLGAAALAGPVAAAAAAAAEAAAAAAEAAAAAAREALAALE\n",
            "sample=7, score=1.0735, seq_recovery=0.1159\n",
            "GAASAAARAAAAAAAAAALAALAPILLAAAALLAGLGPVLAAAAAAAAEAAAAAAEAAKAAAAAAAAAA\n",
            "sample=8, score=1.0339, seq_recovery=0.1014\n",
            "GAASAAALAAAAAALAALAAALAPALAALLAALAGAAPVAALAAALAAAAAAAAAAAAAAAAAAAAAAA\n",
            "sample=9, score=1.2097, seq_recovery=0.0580\n",
            "GSSSKEAKKKKEKKKKKKKKKEKPKKLKKKNKKKLKKPKEKKKKKKEEEKKKKKEEEKKLEKKKKEELE\n",
            "sample=10, score=1.0009, seq_recovery=0.1014\n",
            "AAASAAAAAAAAAAAAAAAAAAAPAAAAAAHAAAGAAPVAKIAAAAAKAAAEKAKAAAAAAAAAAAAAA\n",
            "sample=11, score=0.8693, seq_recovery=0.0870\n",
            "GAASAAAAAAAAAAAAAAAAALAPVAAAAAGAAAAAAAAAAAAAAAAAAEAAAAAAAAAAAAAAAAAAA\n",
            "sample=12, score=1.3345, seq_recovery=0.0870\n",
            "GSLSAAALAAAAAALAALAAALAPVLLAALGKALLAGPVAALAAELAKKAEEAAKKALEELKKELEALA\n",
            "sample=13, score=0.9359, seq_recovery=0.1449\n",
            "GALSAAAAAAAAAALAAAAAAAAPIAAAIAAAAAGAAPLAAAAAAAAAAAAAAAAAAAALAAAAAAAAA\n",
            "sample=14, score=0.9776, seq_recovery=0.1014\n",
            "GAASAAAAAAAAAAAAAAAAAAAPVAAAAANAAAGAAAAAAAAAKEAEAAAKEAEAKKKEAAAAEAAAA\n",
            "sample=15, score=1.1090, seq_recovery=0.0580\n",
            "KKKSKEEKKKKKKEKKKKKKKKKPIKKKKKNKKKGKKKKKKKKKKKEEEKKKKKEEEKKKKEEEKKKLE\n",
            "sample=16, score=0.8556, seq_recovery=0.1159\n",
            "GAASAAARAAAAAAAEAAAAAAAPVAAAAAAAAAAAAPAAAAAAAAAAAAAEAAAAAAAAAAAAAAAAA\n",
            "sample=17, score=1.0343, seq_recovery=0.1014\n",
            "GALSAAAAAAAAAAAAAAAAALAPLAAAAEALLAGLAPALEAAAAAAAAAAAAAAAAAALAALAAALAA\n",
            "sample=18, score=1.0530, seq_recovery=0.1304\n",
            "GAASAAAAAAAAAAAAAAAAALAPALAAAANAEAGAAPLAAAAAAAAAREAEAARAAAEEAARAEALAA\n",
            "sample=19, score=0.8424, seq_recovery=0.1159\n",
            "GAASAAAAAAAAAAAAAAAAAAAPAAAAAAAAAAGAAPAAAAAAALAAAAAAAAAAAAAAAKAAAAAAE\n",
            "sample=20, score=1.0180, seq_recovery=0.1594\n",
            "GAASAAAAAAAAAAAAAAAAAAAPLAALAAHAAAGAAPLAALLEAAAAAAAAAAALAALAAAAAAAALA\n",
            "sample=21, score=0.8789, seq_recovery=0.1014\n",
            "GAAGAAARAAAAAAAAAAAAAAAAAAAAAAAAAAGAAPAAAAAAAAAAAAAAAAAAAAEAAAAAAAAAA\n",
            "sample=22, score=0.9403, seq_recovery=0.0580\n",
            "AALSAAAAAAAAAAAAAAAAALAAAAAAAAGAAAAAAAAAAALAAAAAEAEAAAAAAAAAAAAAAAAAA\n",
            "sample=23, score=0.8829, seq_recovery=0.1014\n",
            "GAASAAARAAAAAAAAAAAAAAAPLAAAAAGAAALAAPAAALAAAAAAAAAAAAALAAAAAAAAAAAAA\n",
            "sample=24, score=1.1373, seq_recovery=0.1159\n",
            "GALSAAALAAAAAAAAAAAAALAPLAALLAHLAAAAAPLAALAAAAAEAEAAEAAAAAARLAEELARLL\n",
            "sample=25, score=0.8012, seq_recovery=0.1014\n",
            "GAASAAAAAAAAAAAAAAAAAAAPVAAAAAGAAAAAAAAAAAAAAAAAAAAAAAEAAAAAAAAAAAAAA\n",
            "sample=26, score=1.3094, seq_recovery=0.0725\n",
            "GSDSAEAREERERRRREEEELLAPLRLLEEHREELREPLERLREEEERRRREEEERRRREEEERKREEE\n",
            "sample=27, score=1.2011, seq_recovery=0.1014\n",
            "GAASAAAAAAAAAAAAAAAAALAPLLAAAAHREAGRAPALALAEAAARARAAAEEERRRLEELAAAEAE\n",
            "sample=28, score=1.0643, seq_recovery=0.1014\n",
            "GAASAAARAAAAAALAALAALAAPLAALAEGAAAALPAVAALAAAAAAAAAAAAAAAAAAAEAAAAAAA\n",
            "sample=29, score=1.0746, seq_recovery=0.1159\n",
            "GADSAAARAAAAALAAAAAAALAPLLAAALAAEAGAAPVAALAAALAELAAAAAAALAAAAAAAAAAAA\n",
            "sample=30, score=1.3663, seq_recovery=0.1159\n",
            "GALSAAARALLAAILAAIAAALAPVLAALLAREAGAAPVAARLEEERRREEAARREAEEAERRRAEELA\n",
            "sample=31, score=1.0559, seq_recovery=0.0725\n",
            "AAASAAAAAAAAAAAAAAAAALAPLLLALLGLAALAPALAAAAAALAAAAAALAAAAAALAAAAAAALA\n",
            "sample=32, score=0.8647, seq_recovery=0.0870\n",
            "GAAGAAAAAAAAAAAAAAAAAAAPAALAAAAAAAAAAAAAAAAAAAAAAAAAAAAAAAAAAAAAAAAAA\n",
            "sample=33, score=0.9469, seq_recovery=0.1159\n",
            "GAASAAAAAAAAAAAAAAAAAAAPLAAAAAAAAAGAAPAAALAAALAAAAAAAAAAAAAAAALAAALAA\n",
            "sample=34, score=1.4101, seq_recovery=0.1449\n",
            "GSLSKEVKKKLLKALKKLLKKLKPVLWKIKNKKKGKKPIEKLKKKKKKEEEKKKKEEEELEKEKKKLEE\n",
            "sample=35, score=0.9423, seq_recovery=0.0725\n",
            "GAASAEAAAAAAAAAAAAAAAAAAAAAAAAHAEAAAAPVAAAAEAAAAAAAAAAERAAAEAAAAAAAAA\n",
            "sample=36, score=0.9613, seq_recovery=0.1159\n",
            "GALSAAALAAAAAAAAAAAAALAPVAAAAAHAAAGAAPAAALAAAAAAAAAAAAAEAAAAAAAAAAAAA\n",
            "sample=37, score=0.9377, seq_recovery=0.1304\n",
            "GAASAAARAAAAAAAAAAAAAAAPALAAAAAAAAGAAPLAAAAAAAAAAAEAAAAAAAAAAAAAAAALA\n",
            "sample=38, score=0.9967, seq_recovery=0.0725\n",
            "GALSAEAAAAAAALAAAAAAAAAGIAAAAAHAAAAAAPAAAAAAAAAAAAAAAAAAAEEAARALEALAA\n",
            "sample=39, score=0.9144, seq_recovery=0.0870\n",
            "GAATAAARAAAAAAAAAAAAAAAPVAAAAAAAAAAAAAAAAAAAAAAAAAAARAAAAAAAAAAAAAAAA\n",
            "sample=40, score=1.1411, seq_recovery=0.0725\n",
            "GAASAAAAAAAAAAAAAAAAALAPLLLAALGRGALAPAAAALAAALAAAAAELAKALAEAAKAAAAAAA\n",
            "sample=41, score=1.3569, seq_recovery=0.1304\n",
            "GAASAAARALLAAAIAALLAALAPLLLALLALLLGAGPLLKLLAALLAEAAAAAAAEALLAAAALAALL\n",
            "sample=42, score=1.0732, seq_recovery=0.0870\n",
            "GAASAAALAAAAAAAAALAAALAPVAAAAAHAEAAAAPAAEAAAAAAAAAAEAEAAAAKAAAEAAKKAA\n",
            "sample=43, score=0.9458, seq_recovery=0.0870\n",
            "GAASAAARAAAAAAAAAAAAALAPLLAAAAARAAGAAAAAAAAAAAAAAAAAAAAAAAAAAAAAAAAAA\n",
            "sample=44, score=0.8829, seq_recovery=0.1159\n",
            "GAASAAAAAAAAAALAALAAALAPVLAAAAGAAAGAAPAAAAAAAAAAAAAAAAAAAAAAAAAAAAAAA\n",
            "sample=45, score=0.9600, seq_recovery=0.1159\n",
            "GAASAAARAAAAAAAAAAAAALAPVVAAAAGAAAAAAPAAAAAAAAAEAAAAAAAAAAAAAAEELAKAR\n",
            "sample=46, score=0.8515, seq_recovery=0.0870\n",
            "AAASAEAAAAAAAAAAAAAAAAAAAALAAAAAAAGAAALAAAAAAAAAAAAAAAAAAAAAAAAAAAAAA\n",
            "sample=47, score=0.8453, seq_recovery=0.1304\n",
            "GAAGAAAAAAAAAAAAAAAAAAAPVAAAAAAAAAGAAPAAAAAAAAAAAKAAAAAAAAAAAEAAAAAAA\n",
            "sample=48, score=1.2110, seq_recovery=0.0725\n",
            "KALTKKAKEKKKKKKEEKKKKKKPKEKKKKNKKKGKKPEKKKKKKEKKKKKEEKKKKEKEEEEKKKKLE\n",
            "sample=49, score=1.2124, seq_recovery=0.1014\n",
            "GAATAEAAAAAAAAAAAAAAAAAPVAAAAANAEAGAAPVAERAKKEAEKAKKAAEEEEKKKEEEKKKAE\n",
            "sample=50, score=1.1434, seq_recovery=0.1159\n",
            "GALSAAALAAAAAALAALAAALAPVLAALAHLEAGRAPLLAAAAAAAAAAAALAAAAAELAAALAAALA\n",
            "sample=51, score=0.9237, seq_recovery=0.1014\n",
            "GAAGAAARAAAAAAAAAAAAAAAAAAAAAAGRAAGAAPVAAAAAAAAAAAAAAAAAAAAAAEAAAAAAA\n",
            "sample=52, score=1.0334, seq_recovery=0.1014\n",
            "GAASAAARAAAAAAAAAAAAAAAAAAAAAANAAAGLAPALAAAAALAALAALLAAAAAALAAAALALLA\n",
            "sample=53, score=0.8367, seq_recovery=0.1304\n",
            "GAAGAAARAAAAAAAAAAAAAAAPLAAAAAAAAAGAAPAAAAAAAAAAAAAAAAAAAAAAAAAAAAAAG\n",
            "sample=54, score=1.1222, seq_recovery=0.1304\n",
            "GAASAAAAAAAAALAAALAALLAPILALLAARLAGLAPLLALLAALAAAAAAAAAAAAAAAAAAAAAAA\n",
            "sample=55, score=0.9422, seq_recovery=0.1304\n",
            "GADSAAARAAAAAAAAAAAAAAAPAAAAAAHAEAGAAPLAALAEAAAAAAAAAAAALAAAAAAAAAAAA\n",
            "sample=56, score=1.1152, seq_recovery=0.1159\n",
            "GAATAEARAAAAKAAAAAAAAAAPLAAAAAAAAAGAAPAAAAREAAARAAERAAAAAAAAAAAARAAAE\n",
            "sample=57, score=1.1016, seq_recovery=0.1014\n",
            "GAASAAAAAAAAAAAAAAAAALAPLAAAAAAAEAGAAPLEALEAARAAAEEERRAAEAAAAAALAAALA\n",
            "sample=58, score=1.0416, seq_recovery=0.1159\n",
            "GALSAAAAAALAAAAAAAAAALAPLAAAAAHAAAGAAALAALAAAAAAAAAAAAAAAAALLKALLAALA\n",
            "sample=59, score=0.8867, seq_recovery=0.1159\n",
            "GAASAAAAAAAAAAAAAAAAALAPVAAAAAAAEAGAAPAAAAAAAAAAAAAAAARAAAEAAAAAAAAAA\n",
            "sample=60, score=0.9977, seq_recovery=0.1304\n",
            "GAASAAARAAAAAAAAAAAAALAPVLAALAHAAAGAAPLAAAAAAAEEAAAAAAAAAEAAAAAAAAALA\n",
            "sample=61, score=1.1119, seq_recovery=0.1304\n",
            "GALSAAAAALAAAAAAAAAAAAAPLALAAANALAGAAPVAAALAALAALAAALAAALALLAALAAALLA\n",
            "sample=62, score=0.8425, seq_recovery=0.1014\n",
            "AAASAAAAAAAAAAAAAAAAAAAAAAAAAAAAAAGAAALAAAAAAAAAAAAAAAAAAAAAAAAAAAAAA\n",
            "sample=63, score=0.9312, seq_recovery=0.1304\n",
            "GAASAAARAAAAAAAAAAAAAAAPLALAAANAAAGAAPLAAAAAAAAAAAEAAAAAAAAAAAAAAAALA\n",
            "sample=64, score=0.9538, seq_recovery=0.1014\n",
            "GSASAEAAAAAAAAAAALAAALAPLLAAAAHALAGLAPLLAAAAAAAAAAAAAAAAAAAAAAAAAAAAA\n",
            "sample=65, score=1.2517, seq_recovery=0.1159\n",
            "GSLSLAALALAALALAALAALLAPLLALLAHLLGGLPPVLALLAALAALAAAAAALAAAAAAELLALLA\n",
            "sample=66, score=0.8601, seq_recovery=0.0870\n",
            "GAASAEAAAAAAAAAAAAAAAAAPAAAAAAAAAAGAAAVAAAAAAAAAAAAAAAEAAAAAAAAAAAAAA\n",
            "sample=67, score=1.1108, seq_recovery=0.1304\n",
            "GAASAAAAAAAAALAAAAAAALAPLALLAAGRLALAGPLLALAAALAAALAAAAAALAAALAAALAALA\n",
            "sample=68, score=1.2527, seq_recovery=0.1449\n",
            "GAWSAAARALLALLLAAAAAALAPILAALLAAAAGAAPVEAALAALAELLAAAAAAAALAEALARALAE\n",
            "sample=69, score=0.8211, seq_recovery=0.1014\n",
            "GAASAAAAAAAAAAAAAAAAAAAPAALAAAAAAAAAAPVAAAAAAAAAAAAAAAAAAAAAAAAAAAAAE\n",
            "sample=70, score=1.2104, seq_recovery=0.0870\n",
            "GKLSAAALAAAAAAAAAAAAALAPLLLAAAGREALAAPAAAAAAKRAAEEAAAAAAAAARAAEELARLR\n",
            "sample=71, score=0.8272, seq_recovery=0.0870\n",
            "GAATAAAAAAAAAAAAAAAAAAAAAAAAAAHAAAAAAPAAAAAAAAAAAAAAAAAAAAAAAAAAAAAAA\n",
            "sample=72, score=0.9093, seq_recovery=0.1014\n",
            "GAASAAAAAAAAAAAAAAAAAAAPAALAAAARAAGAAAGAAAAAAAAAAAAAAAAAAAAAAAAAAAAAA\n",
            "sample=73, score=0.9908, seq_recovery=0.1304\n",
            "GAASAAARAAAAAAAAAAAAAAAPLAALAAHLAAGLAPVLAALAALAAAAAAAAAAAAAAAAAAAAAAA\n",
            "sample=74, score=0.9546, seq_recovery=0.1304\n",
            "GALSAAAAAAAAAAAAAALAAAAPALAAAAHLVAGAAPAAALAAAAAAAAAAAAAAAAAAAAAAAAAAA\n",
            "sample=75, score=1.1495, seq_recovery=0.1304\n",
            "GAASAAALAAAAALLAALAALLAPLLALLLHLLAGLGPLLALLAALAAAAAAAAAALAALAAALAALLA\n",
            "sample=76, score=1.3102, seq_recovery=0.0725\n",
            "GSASAAARAAAAAALAAAAAALAPIAAALANKEAGRAPVLEAEARKKEEEAKKAKEAEEAAKKLEELLK\n",
            "sample=77, score=1.1267, seq_recovery=0.0870\n",
            "GAASAAAAAAAAAAAAAAAAAAAPLALAAAGAEALAAPVAAAEAAAAKEAEKKAKAEEAERKKREALEA\n",
            "sample=78, score=1.2331, seq_recovery=0.1159\n",
            "GAASAAAKAAAAAAAAAAAAALAPLALAAAAKEAGAAPVEKLKKAAEEEKKKAKAAEEEKKAKEKAAAA\n",
            "sample=79, score=1.2055, seq_recovery=0.0580\n",
            "KKKSAEAKKEAEKKKKEEEKKKKPEKLAEENKEKGKKPVEEKKKEEEKKKEEEKKKEEEKKKEEEKKKK\n",
            "sample=80, score=0.8892, seq_recovery=0.1159\n",
            "GSASAAARAAAAAAAAAAAAAAAAAAAAAAGAAAGAAPLAALAAAAAAAAAAAAAAAAAAAAAAAAAAA\n",
            "sample=81, score=0.9294, seq_recovery=0.0580\n",
            "AALSAEAAAAAAAAAAAAAAAAAGAALAAAAAAAGAAAAAALAAAAAAAAAALAAAAAAAAAALLAALA\n",
            "sample=82, score=1.0418, seq_recovery=0.1159\n",
            "GAATAEARAAAAAAAALAAALAAPALAALLGLAAGLAPLLAAAAAAAAAAAAAAAAAAAAAAAAAAAAA\n",
            "sample=83, score=0.9767, seq_recovery=0.1014\n",
            "GAASAAAAAAAAAAAAAAAAALAPLLAAAAHAAAGAAPVAAAAAAAAAAEAAAAAAAAALAAAALAALA\n",
            "sample=84, score=0.8365, seq_recovery=0.1159\n",
            "GAASAAAAAAAAAAAAAAAAAAAPVAAAAAAAAAGAAAVAAAAAAAAAAAAAAAAAALAAAAAALAAAA\n",
            "sample=85, score=0.8779, seq_recovery=0.0725\n",
            "GAASAAAAAAAAAAAAAAAAAAAAAAAAAAAAAAAAAAAAAAAAAAAAAAEAAAAAAAAAAALALAAAA\n",
            "sample=86, score=0.9494, seq_recovery=0.0870\n",
            "GALSAEALAAAAAAAAAAAAAAAPAAAAAAHAAAALAPVLAAAAAALAALAAAAAAAAAAAAALAAAAA\n",
            "sample=87, score=0.9657, seq_recovery=0.1014\n",
            "GAATAAARAAAAAAAAAAAAAAAPAAAAAAAREAGAAAAAAAAEALAAAAAAAAAAAAAAAAAAAAAAA\n",
            "sample=88, score=0.9995, seq_recovery=0.0870\n",
            "GAASAAARAAAAAAAAAAAAAAAAAAAAAAAAEAGRAAAAAAAAEAAAREEEAAAAAAAAAAEAEAAAA\n",
            "sample=89, score=0.8603, seq_recovery=0.0870\n",
            "GAASAEAAAAAAAAAAAAAAAAAPLAAAAAHAAAGAAAAAAAAAAAAAAAAAAAAAAAAAAAAAAAALA\n",
            "sample=90, score=1.1080, seq_recovery=0.1159\n",
            "GAASAAAAAAAAAAAAAAAAAAAPVAAAAAARDAARAAAEKAAAAAAKAAAEAKKKAAEAAAALKAALA\n",
            "sample=91, score=0.9608, seq_recovery=0.0725\n",
            "AAASAAAAAAAAAAAAAAAAALAPAAAAAAGAAAALAPALAAAAALAAAAAALAAAAAAAAAAALAAAA\n",
            "sample=92, score=0.8526, seq_recovery=0.1159\n",
            "GAATAAAAAAAAAAAAAAAAAAAPAAAAAAHAAAGAAPAAAAAAAAAAAAAAAAAAAAALAAAAAAAAK\n",
            "sample=93, score=0.9052, seq_recovery=0.1159\n",
            "GAASAAAAAAAAAAAAAAAAALAPVAAAAAHAAAGLAPVLAAAAAAAAAAAAAAAAAAAAAAAAAAAAA\n",
            "sample=94, score=1.1360, seq_recovery=0.1014\n",
            "GAASAAAAAAAAAALAALAAALAPALLAALGAAALAAPLAAAAAAAREAEEAARAAEERRRAEEAAAAA\n",
            "sample=95, score=1.2920, seq_recovery=0.0870\n",
            "GSKSKEFKKKLKKKIKKKLKKLKPIIKKIKNKKKGKKKKEEEKKKKEEEKKKKEEEEKKKKEELKKLLE\n",
            "sample=96, score=1.2500, seq_recovery=0.1449\n",
            "GAASAAARAAAAAAAAALAAALAPLLAALLNREAGRAPAEALAAALAEREEEARRAEELEAERRRAELE\n",
            "sample=97, score=0.8947, seq_recovery=0.1014\n",
            "GAASAAAAAAAAAAAAAAAAALAPVAAAAEAAEAGAAAAAAAAAAAAAAAAAAAAAAAAAAAAAAAAAA\n",
            "sample=98, score=0.9003, seq_recovery=0.0870\n",
            "AAASAAALAAAAAAAAAAAAAAAAAAAAAAAAEAGAAAAAAAAAAAAAAAAAAAAAAAEAAAAAAAAAE\n",
            "sample=99, score=1.2456, seq_recovery=0.0870\n",
            "GSASAEARAEEARRREAEAAALEPEREAEENEEEGRAEREEEEEEERRREEEERRRREEEERRREEERR\n",
            "{'1cy5': (['A'], [])}\n",
            "A\n",
            "Length of chain A is 93\n",
            "Generating sequences...\n",
            ">1cy5, score=1.6550, fixed_chains=[], designed_chains=['A'], model_name=v_48_020\n",
            "MDAKARNCLLQHREALEKDIKTSYIMDHMISDGFLTISEEEKVRNEPTQQQRAAMLIKMILKKDNDSYVSFYNALLHEGYKDLAALLHDGIPV\n",
            "sample=0, score=0.8387, seq_recovery=0.4674\n",
            "MSEKAKNTILKHREKLVKEIKVEKVMDYMIERGVLSEEEKEEVLKEKSEKEKAEKLVDIILKKDDEAFKGFVEALEATGYKDLAALLKPGLPV\n",
            "sample=1, score=0.8379, seq_recovery=0.4348\n",
            "MSAKARATLEAHRDEIVARLEVDAVLAHMIAKGTFTPEEAAKVLAQPSREAKAAALVDIILKKDDAAFVGFYEALQATGYADLAALLAPGLPV\n",
            "sample=2, score=0.8402, seq_recovery=0.4239\n",
            "MSEKALKTLEKHREEIIEKLKTEKVMEYMIKKGTLTEEEKEKVLKKKSRKEKAEKLVEIILKKDDKAFIGFYEALKATGYKDLAKKLEPGLPV\n",
            "sample=3, score=0.7670, seq_recovery=0.3696\n",
            "MSPRALAALRRHRDELVARLETDAVIAAMIAAGHFTPEEAAAVAAQPSRRARAAALVDILLGKDDAAFRAFVAALEATGYADLAALLAPGLPV\n",
            "sample=4, score=0.7760, seq_recovery=0.3913\n",
            "MSPRARATLERHRERLVAELEVDAVIAAMIAAGTLSPEEAAAVLAQPSRRARAAALVDIILTKDDAAFLAFLEALRATGYEDLAALLEPGRPV\n",
            "sample=5, score=0.8736, seq_recovery=0.4022\n",
            "MSPKALATLQKHRDEIVARLETEEVLDYMIEKGYFTEEEKAEVLAQPSQKAKAQKLVDIILKKDDAQFVAFVEALKAKGYADLAALLEPGLPV\n",
            "sample=6, score=0.8825, seq_recovery=0.3913\n",
            "MSPRARATLERYREQLVAEIEVEEVMDYMIEKGTLSEEEKAEVLAQPSREEKARKLIDIILGKDDAAFEAFVEALKAKGYEHLAALLEPGLPV\n",
            "sample=7, score=0.8173, seq_recovery=0.3804\n",
            "MSPKAKATLEKHRAEIIAKLEVEKVIAYMIEKGVLTEEEAAEVLAQPSREAKAAKLVEIILTKDDAAFLGFYEALKAQGYEDLAALLEPGLPV\n",
            "sample=8, score=0.8638, seq_recovery=0.3913\n",
            "MSPRARATLEAHRELLVARLRVERVIAYMIERGYLTPEEAARVLAQPSRRARAAALVDILLRKDDAAFRAFVEALEATGYADLAALLRPGLPV\n",
            "sample=9, score=0.8511, seq_recovery=0.4348\n",
            "MSAKAKAAIEKHREKLVAELKVDAVMDYMIAAGKLSAEEKAEVLAQPSDKAKAAKLVDIILKKDDAAFKAFYDALKAKGYADLAALLEPGLPV\n",
            "sample=10, score=0.8778, seq_recovery=0.4565\n",
            "MSPKARETLLKHREKLIEEIKTEEVIKYMIEKGYFTEEEAKIVFSKPSRKEKAEKLIDIILKKDDAAFVAFVEALEAKGYKDLAELLKPGLPV\n",
            "sample=11, score=0.8776, seq_recovery=0.4348\n",
            "MSPKARATLLAHRDEIVARLKTEKVMDYMIEKGTLTEEERAKVLAKPSRRAKAEELVDIILTKDDAAFLAFVDALEATGYPDLAALLAPGRPV\n",
            "sample=12, score=0.8570, seq_recovery=0.4348\n",
            "MSEKALATLKKHREEIVKKLKTEKVMDYMIKKGYLTEEEKAEVAAEKSQEEKAKKLVDIILKKNDAAFKAFVDALKAEGYEDLAKLLEPGLPV\n",
            "sample=13, score=0.8156, seq_recovery=0.4022\n",
            "MSPRARAALLRHRDELVARLETDEVCAYMIARGTLTEEERAEIAAQPSRRARAAALVDIILGKDDAAFLAFLDALEATGYPDLAALLAPGRPV\n",
            "sample=14, score=0.8797, seq_recovery=0.3913\n",
            "MSPKARATLLKHREEIVEKLKVDEVLDYMIEKGYFSEEERAKVLAKKSEKEKAEALVDIILTKDDAAFVAFVEALEAKGYPELAALLLPGLPV\n",
            "sample=15, score=0.8578, seq_recovery=0.4130\n",
            "MSPKALATLLAHRDEIVERLEVDAVCDYMIAKGHLTEEERAEVLAQPSRRARAAKLVDIILKKDDAAFLAFVDALRATGYADLAALLEPGRPV\n",
            "sample=16, score=0.8049, seq_recovery=0.4239\n",
            "MSPRARATLLAHRERLVAELEVEAVMDHMVAAGHLTEEERARVLAKPSRRERAAALVDILLGKDDAAFLAFLDALRATGYEDLAALLAPGRPV\n",
            "sample=17, score=0.8103, seq_recovery=0.3804\n",
            "MSPRALAAIEAHRDALVARLRVDAVVAHMIAAGTFTPEEAAAVFAKPSPRARAAALVDIILGKDDAAFRAFVDALAATGYADLAALLAPGLPV\n",
            "sample=18, score=0.7960, seq_recovery=0.4239\n",
            "MSPRARNTLLAHRAELVARLEVDAVIEYMIAAGTLTPEEAAAVRAQPSREARAAALVDIILGKDDAAFRAFVAALEATGYPDLAALLRPGLPV\n",
            "sample=19, score=0.9276, seq_recovery=0.3261\n",
            "MSEKALETIKKHREEIVEKLEVEKVIAYMIKKGTLSKEEAAEVFAQPSRKAKAKKLVDIILKGNDEQFLGFLEALKETGYEDLAKLLEPGRPV\n",
            "sample=20, score=0.7796, seq_recovery=0.3804\n",
            "MSPRARAALLAHRDELVARLEVDAVVAAMIAAGHLSAAEAAAVAAQPSPRARAAALVDILLTKDDAAFLAFVDALRATGYADLAALLAPGRPV\n",
            "sample=21, score=0.8588, seq_recovery=0.3804\n",
            "MSEKARQTILKYREELIKEIEVEEVIKYMIEKGYLTEEEAEEVLKEKSREEKAKKLVDIILGKDDKAFIAFVEALKEKGYEHLAEKLLPGLPV\n",
            "sample=22, score=0.8375, seq_recovery=0.4022\n",
            "MSPRARATLERHRERLVAELEVDEVIAYMIAKGHFTEEEAARVRAQPSRRARAEALVDIILEKDDAAFVAFYEALKATGYPALAALLEPGLPV\n",
            "sample=23, score=0.8461, seq_recovery=0.4022\n",
            "MSPRARATLLAHRDRIVAELETEEVIKYMIEKGEFTEEEAAKVAAKPSREEKAKALVDIILKKDDKAFLAFYEALKATGYEDLAALLEPGLPV\n",
            "sample=24, score=0.8730, seq_recovery=0.4239\n",
            "MSPKARATLLKYRDEIIAKLEVDKVCDYMIEKGELTEEEKEKVLAKPSREAKAAELVDIILKKDDAAFKAFVEALEATGYKDLAAKLKPGLPV\n",
            "sample=25, score=0.8180, seq_recovery=0.4022\n",
            "MSPRARATLLAHRDRLVAELETDAVLDYMVARGELSPEEAARVRAQPSRRAKAAALVDIILTKDDAAFLAFVEALRATGYEDLAALLEPGRPV\n",
            "sample=26, score=0.8208, seq_recovery=0.4022\n",
            "MSPRARATILRHRERLVAEIEVEAVLDAMIAAGTLTEEERAEVMAKPSREEKARALVDIILGKDDAAFRGFVEALKATGYADLAALLEPGLPV\n",
            "sample=27, score=0.8570, seq_recovery=0.4022\n",
            "MSKKSKETLLKYREEIVKKLEVEKVMDYMIEKGTLTEEEKAEVLAQPSKEEKAKKLVEIILKKDDESFLAFVEALKETGYEDLAEKLLPGIPV\n",
            "sample=28, score=0.8264, seq_recovery=0.4130\n",
            "MSEKARATLLAHRDEIVARLEVDAVLDYMVAKGTFTEEERAKVLAQPSRRARAAALVDIILKKDDAAFKAFVDALEATGYADLAALLKPGLPV\n",
            "sample=29, score=0.8579, seq_recovery=0.4130\n",
            "MSEKARATLLKHRARLVAEIEVDAVLDAMRAAGTLSAEEAAEVRAQPSREAKAAALVDIILGKDDAAFLAFVDALRATGYEDLAALLEPGLPV\n",
            "sample=30, score=0.7460, seq_recovery=0.4022\n",
            "MSPRARAALLRHRAELVARLETDAVVAAMIAAGTLTPAEAAAVAAQPSPAARAAALVDILLGKDDAAFRAFVAALEATGYADLAALLRPGLPV\n",
            "sample=31, score=0.8407, seq_recovery=0.3804\n",
            "MSPRALATLERHRDRLVAELETDAVIAHMIAKGTLTEEEAAEVAAKPSRRAKAEALVDIILGKDDEAFRGFVEALEATGYADLAALLRPGLPV\n",
            "sample=32, score=0.8549, seq_recovery=0.3913\n",
            "MSPRALATLERHREVLVERLEVDKVMDYMIAKGTLSEEERAEVLAQPSRRAKAEKLVDIILGKDDAAFVGFVEALKATGYEDLAALLEPGLPV\n",
            "sample=33, score=0.8415, seq_recovery=0.4348\n",
            "MSPKALAALLRHRDRLVAEIEVDAVCDYMIAAGTLTQAERDAVLAQPSRRARAEALVDIILKKDDAAFVAFVEALEATGYPDLAALLRPGLPV\n",
            "sample=34, score=0.8095, seq_recovery=0.3913\n",
            "MSPRALATLRAHREELVARLETEAVVAAMRAAGHLSEAEAAEVAAQPSPRARAAALVDIILRKDDAAFVAFVEALRATGYEDLAALLEPGLPV\n",
            "sample=35, score=0.7982, seq_recovery=0.3804\n",
            "MSPRARAALLAHRDEIVARLEVEAVCAAMIAAGHLTEEERAAVLAKPSRRERAAALVDILLKKDDAAFRAFVAALEATGYPALAALLRPGLPV\n",
            "sample=36, score=0.8701, seq_recovery=0.3913\n",
            "MSPKAKATIEKHRDELIARIEVEKVLDYMIEKGYFTEEERAKVLAQKSRREKAKALIDIILKKDDAAFKAFVDALKAKGYEDLAALLEPGLPV\n",
            "sample=37, score=0.9135, seq_recovery=0.3804\n",
            "MSPKARETILAHREEIVERLEVEKVVEYMIKKGTLSEEEAAKVFAKPSRKAKAAALVDIILEGDDKRFEAFVEALKATGYEDLAALLEPGLPV\n",
            "sample=38, score=0.8935, seq_recovery=0.4022\n",
            "MSEKARAAIEKYRDRLVAELEVEAVIAHMIAAGVLTPEEAAKVFAKPSREERAKALVDIILKKDDAAFLGFVDALEATGYADLAALLKPGRPV\n",
            "sample=39, score=0.8438, seq_recovery=0.4130\n",
            "MSPKARQTLLAHRELLVERLEVEAVLAHMIAAGHLTPEEAAAVLAKPSRREKAEALVDIILKGDDARFEAFVEALRATGYEDLAALLEPGLPV\n",
            "sample=40, score=0.8671, seq_recovery=0.4022\n",
            "MSPKARATIEKHREELIEKIEVDEVLDYMIEKGELTEEEREEVLAKPSRREKAEKLVDIILGKDDAAFLAFVEALKAKGYEDLAELLEPGLPV\n",
            "sample=41, score=0.8429, seq_recovery=0.4457\n",
            "MSPKALATLEKHREILVEKIKTDEILDYMIAKGEFTEEEKAEVAAKPSQKAKAEKLVDIILKKDDAAFKAFVDALKAKGYEDLAALLEPGLPV\n",
            "sample=42, score=0.8819, seq_recovery=0.4130\n",
            "MSPKARATLLKHREEIVEKLETDKVMDYMIAAGTLTEEERAKVAAKKSRKEKAEALVDIILGKDDAAFVTFVDALKATGYPELAAKLAPGLPV\n",
            "sample=43, score=0.7874, seq_recovery=0.3913\n",
            "MSPKALATLLRHRAELVARLETEAVLAHMQAAGHFTAEEAAAVAAQPSPEARAAALVDIILGKDDAAFLAFVDALRATGYPELAALLEPGLPV\n",
            "sample=44, score=0.8538, seq_recovery=0.4130\n",
            "MSQKALDTLKKHREELVKKIEVEEVLDYMIAKGTFSEEEKAKVLAKPSKEEKAKALIDIILKKDDAAFLAFVDALKATGYEDLAKLLEPGRPV\n",
            "sample=45, score=0.8366, seq_recovery=0.4022\n",
            "MSPRARATLLAHRDELVARLETDAVIAHMQAAGTLTAAEAAAVAAQPSRRAKAAALVDIILKKGDAAFRAFVDALRATGYADLAALLEPGLPV\n",
            "sample=46, score=0.8785, seq_recovery=0.4130\n",
            "MSKRAKDTLLKHREELVEKIEVEKVIKYMIEKGYLTEEEAAEVFAQPSRKEKAEKLIDIILKKDDKAFIAFYEALKATGYEDLAKLLEPGLPV\n",
            "sample=47, score=0.7858, seq_recovery=0.4239\n",
            "MSPRARATLLRHRDLLVARLRTDAVIAHMIAAGTLTPAEAARVAAQPSRRARAAALVDIILGKDDAAFRAFVDALRAQGYADLAALLEPGLPV\n",
            "sample=48, score=0.8043, seq_recovery=0.3696\n",
            "MSPRARATILAHRERLVAELEVEAVCDYMVAAGHLTEEERAEVLAKPSRREKAEALVDILLGKDDAAFRAFVAALEATGYPDLAALLRPGLPV\n",
            "sample=49, score=0.8033, seq_recovery=0.3913\n",
            "MSPRARAALERHRAELVARLETDAVIAAMREAGTLTEAEAAEVAAQPSRRARAARLVDIILGKDDAAFRGFVAALAATGYPDLAALLAPGLPV\n",
            "sample=50, score=0.8442, seq_recovery=0.4130\n",
            "MSEKAKETILKYREELVAKIETEKVLDYMIEKGEFTEEEKAKVAAQPSKEAKAKALVDIILKKDDKAFLAFVDALKATGYEDLAELLEPGIPV\n",
            "sample=51, score=0.8623, seq_recovery=0.3587\n",
            "MSKKAKETIEKYREEIIEKLKTEKVIDYMIKKGTFSEEEKAKVAAKKSDKEKAKALVDIILKKNDEAFKGFVDALKETGYKDLAELLKPGLPV\n",
            "sample=52, score=0.8335, seq_recovery=0.4130\n",
            "MSPKARAAIEAHRDEIVARLETDAVCDHMIAAGTLTAAERAEVAAQPSREAKAAKLVDIILKKDDAAFLGFVDALRATGYEDLAALLEPGLPV\n",
            "sample=53, score=0.8707, seq_recovery=0.3913\n",
            "MSAKAKATLEKYREELVEKLETEKVCDYMIAKGYLSEEERAEVAAKPSKKEKAEKLVEIILKKDDAAFLAFVDALKATGYEDLAAKLEPGLPV\n",
            "sample=54, score=0.8352, seq_recovery=0.3804\n",
            "MSPRARATILRHRAELVARLEVEKVLDYMIARGTFTEEERAKVLAQPSPEAKARALVDIILQGDDERFVGFVEALRATGYADLAALLEPGLPV\n",
            "sample=55, score=0.9024, seq_recovery=0.4239\n",
            "MSAKALATLEKYREEIVATLETDKVMDYMIAKGTLTEEEKAKVAAQPSRKARAAALVDIILTKDDAAFKSFVDALKATGYEDLAKKLEPGLPV\n",
            "sample=56, score=0.8229, seq_recovery=0.4022\n",
            "MSPRALAALRAHRERLVAELRTDAVLDHMLAAGTLSPEEAAAVRAQPSPRARAAALVALVLQGDDARFVGFVDALRATGYADLAALLAPGLPV\n",
            "sample=57, score=0.9002, seq_recovery=0.3804\n",
            "MSPKARATLEKHREEIVAKLKVDKVMKYMIEKGTLSEEEAAEVLAQKSDKAKAEKLVDIILKKDDKQFLGFVEALKATGYEDLAAKLEPGLPV\n",
            "sample=58, score=0.8745, seq_recovery=0.3913\n",
            "MSPKALATIKAHREELVAKIEVEKILDYMIAKGTFTEEERAEVLAQPSREEKARKLVDIILKKDDEAFKGFVEALKATGYEDLAAKLEPGLPV\n",
            "sample=59, score=0.8021, seq_recovery=0.4130\n",
            "MSPKARAALLAHRETLVARLETDAVIAYMIAAGTLTAAEAAEVAAKPSPEAKAKALVDIILKGDDARFRAFVAALEATGYPDLAALLRPGLPV\n",
            "sample=60, score=0.8621, seq_recovery=0.3913\n",
            "MSQKALDTLLKHRDEIVEKLKVEEVCEYMIEKGVLTEEEYEKIKKKKSEKEKAKALVDIILKKDDKAFVGFVDALKEKGYEDLAAKLEPGLPV\n",
            "sample=61, score=0.8664, seq_recovery=0.4130\n",
            "MSEKARATILAHRDRLVAELETDAVCDAMIARGELTPEERARVAAKPSRRERAAALVDILLGKDDAAFLAFVEALRETGYADLAALLEPGRPV\n",
            "sample=62, score=0.8044, seq_recovery=0.3804\n",
            "MSPRALATLERHRAELVARLETDAVIAAMQAAGTLTAAEAARVAAQPSRRARAAALVDIILGKDDAAFLGFLDALEATGYPDLAALLRPGRPV\n",
            "sample=63, score=0.8740, seq_recovery=0.4783\n",
            "MSPKALETLLKHREKLVKEIETEEVMDYMIAKGTLTEEEKAKVLAKKSREEKAAELIDIILKKDDKAFLGFLEALKAKGYEDLAALLEPGRPV\n",
            "sample=64, score=0.8466, seq_recovery=0.4457\n",
            "MSPKARATLLAHRDRIVAELETDAVIDHMIARGVLSPEEAAAVAAKPSRRARAAALVDIILKKDDEAFLGFYEALKATGYEDLAALLEPGLPV\n",
            "sample=65, score=0.7950, seq_recovery=0.3587\n",
            "MSPRARAALERHRDRLVAELEVEAVLDHMVAAGTLTEEERARVLAQPSRRAKAAALVDILLGKGDAAFRAFVAALEATGYPALAALLAPGLPV\n",
            "sample=66, score=0.8546, seq_recovery=0.4022\n",
            "MSEKALKTIEKYREELVEKIEVEEIMKYMIEKGTLTEEEKAKVLAKKSRKEKAEELIDIILKKDDKAFLGFYEALKAKGYEDLAKKLEEGLPV\n",
            "sample=67, score=0.8548, seq_recovery=0.3804\n",
            "MSPKAKETILKYREKIVKEIEVEKVLDYMIKKGTFTEEEKAKVLAKKSREEKAKALVDIILKKNDEAFLGFYEALKATGYEDLAKLLEPGKPV\n",
            "sample=68, score=0.8344, seq_recovery=0.4239\n",
            "MSPRALATLLRHRDELVARLEVEAVLDYMIAAGTLTEEERAAVLAKPSRRERAAALVDIILKKDDAAFVGFVDALKATGYEDLAALLEPGLPV\n",
            "sample=69, score=0.8461, seq_recovery=0.4457\n",
            "MSPRARATLLRHRDELVARLRVEAVMDHMIEAGTLTPEERAEVLAEPSPRARAERLVDIILRKDDAAFVGFVEALRATGYADLAALLAPGLPV\n",
            "sample=70, score=0.7711, seq_recovery=0.3804\n",
            "MSPRARAALLAHRDELVARLRVDEVLAAMRAAGHLTDEEAAAVLAQPSPRARAAALVDILLGKDDAAFRAFVDALRATGYPDLAALLAPGLPV\n",
            "sample=71, score=0.8826, seq_recovery=0.4239\n",
            "MSPRALATLLAHRDELVARIETDKVMDYMIEKGTLTEEEKAKVAAQPSREAKAAALVDIILGKGDEQFVGFVEALRATGYPELAALLEPGLPV\n",
            "sample=72, score=0.8535, seq_recovery=0.3804\n",
            "MSPRARATIEKHRAELVARIEVEEVCKYMIEKGYLTEEEYKEIMAQPSREEKAAKLVDIILKKDDAAFKAFVDALKATGYADLAALLEPGLPV\n",
            "sample=73, score=0.9021, seq_recovery=0.4022\n",
            "MSPKALATILRHRERLVAELEVEEVLAYMIEKGTLSEEEKAKVLAQPSREAKAAALVDIILKKDDEAFLTFVDALKATGYADLAALLEPGRPV\n",
            "sample=74, score=0.8244, seq_recovery=0.4348\n",
            "MSPKARAALLAHRDRLVAELEVDAVVAHMIAAGHLTAEEAAAVAAKPSRRAKAAALVDIILKKDDAAFVAFVDALKATGYPDLAALLEPGLPV\n",
            "sample=75, score=0.7914, seq_recovery=0.3913\n",
            "MSPRARAAILRHRDRLVAELEVEAVMDYMVAAGTLTEAERAEVLAQPSRRARAARLVDILLGKDDAAFLAFLDALRATGYEDLAALLAPGRPV\n",
            "sample=76, score=0.9068, seq_recovery=0.4239\n",
            "MSKKALETLEKHREKLIAELEVEEVMDYMIEKGYLTEEEREEVLAQPSREAKAAKLVDIILTKDDAAFLAFYEALKAKGYEHLAALLEPGLPV\n",
            "sample=77, score=0.8507, seq_recovery=0.4022\n",
            "MSKKAKETLLKYREKIVKELEVEKVMKYMIEKGYLSEEEKKEVLAEKSREEKAKKLVDIILKKDDAAFKAFVEALEAQGYKDLAALLKPGLPV\n",
            "sample=78, score=0.8163, seq_recovery=0.4130\n",
            "MSPRARAAILRHRDALVARLRTDAVIAHMIAAGYLTAAEAAEVAAQPSPRARAAKLVDILLGKDDAAFRAFVAALEATGYADLAALLRPGLPV\n",
            "sample=79, score=0.8677, seq_recovery=0.4348\n",
            "MSPKAKETILKHRERLIKEIEVEKVIKYMIEKGVFTEEEAAEVFAQPSREAKAAKLIDIILKKDDEAFVGFYEALKATGYEDLAKLLEPGLPV\n",
            "sample=80, score=0.8565, seq_recovery=0.3696\n",
            "MSEKAKKTIEKYREKLIEEIEVDEVLKYMIEKGYFTEEEAKKVLAKKSKKEKAKELIDIILKKDDKAFLAFVEALKEKGYEDLAELLLPGLPV\n",
            "sample=81, score=0.9012, seq_recovery=0.4130\n",
            "MSPKALATLLKYRDELVEKIKTKKVIEYMIKKGKFTKEEADKVFAEKSQKEKAEKLVDIILKKDDEAFLAFVEALKETGYEDLAKLLEPGLPV\n",
            "sample=82, score=0.7792, seq_recovery=0.4130\n",
            "MSPRARATIERHREELVARLRTDAVIAHMIAAGHLTPAEAAEVAAQPSPRARAAALVDIILTKDDAAFLAFVDALEATGYADLAALLAPGRPV\n",
            "sample=83, score=0.8533, seq_recovery=0.3913\n",
            "MSARARATILAHREEIVERLEVEAVLDYMIAKGVFTEEERAEVLAQPSRREKAAKLVDIILTKDDEAFLGFVDALKATGYEDLAALLEPGRPV\n",
            "sample=84, score=0.8152, seq_recovery=0.3913\n",
            "MSEKALETIKKHREELVKKIKVEEVIKYMIEKGVFTEEEAKEVFAKPSEKEKAEKLVEIILKKDDEAFKGFVDALEAKGYKDLAEKLKPGLPV\n",
            "sample=85, score=0.8136, seq_recovery=0.4022\n",
            "MSPKALAALRAHRDELVARLEVDAVIAHMIAAGTLTPEEAARVLAQPSRRERAAALVDIIEGKDDAAFVGFVEALRATGYPDLAALLEPGLPV\n",
            "sample=86, score=0.8837, seq_recovery=0.4457\n",
            "MSPKAREALLAHRDRLVAELETDAVCDYMIARGTLSEEERAKVAAQPSRRARAAALVDIILKKDDAAFLAFVDALKATGYADLAALLEPGLPV\n",
            "sample=87, score=0.8612, seq_recovery=0.4130\n",
            "MSPRAREALLRHREELVARLETDAVIAYMIAQGYLTPEEAAAVAAQPSREARAAALVDIILGKDDAAFLAFVRALEATGYPELAALLAPGLPV\n",
            "sample=88, score=0.8256, seq_recovery=0.4130\n",
            "MSPKALATLEKHRARLVAELETDEVCDYMIEAGHLTPEERAAVAAQPSREARAAALVDIILGKDDAAFLAFVDALEAKGYADLAALLAPGRPV\n",
            "sample=89, score=0.8020, seq_recovery=0.4457\n",
            "MSPRARATLLAHRDELVARLRTDAVCDHMIAKGTLTAEERAAVAAQPSPRARAAALVDIILGKDDAAFVGFVEALEATGYADLAALLRPGLPV\n",
            "sample=90, score=0.8503, seq_recovery=0.4348\n",
            "MSPRALATLEAHRDELVARIETDAVCDYMIERGTLTEAERAKVAAQPSRRARAAALVDIILKKDDAAFLGFVEALEATGYADLAALLRPGLPV\n",
            "sample=91, score=0.8333, seq_recovery=0.4130\n",
            "MSPKALATLEKHRDELVAKLEVEKVMDYMIKKGYLTEEEKAEVLAQPSKEAKAKKLVDIILKKDDAAFKAFVEALEATGYKDLAALLKPGLPV\n",
            "sample=92, score=0.8311, seq_recovery=0.4348\n",
            "MSARARAAILAHRDELVARLETDEVCDAMIAAGHLTEEERAKVAAKPSRRERAAALVDIILGKDDAAFLAFVAALEATGYPDLAALLRPGLPV\n",
            "sample=93, score=0.8587, seq_recovery=0.4022\n",
            "MSEKAKKTLEKHREKIIAELETDEVIAYMIEKGTLTEEEAAKVAAKPSREEKAKELVDIILKKDDAAFKAFVEALEAKGYKHLAALLKPGLPV\n",
            "sample=94, score=0.8356, seq_recovery=0.3913\n",
            "MSKKALDTILKHRDELVAKIKVEKVIKYMIEKGTFTEEEAKEVFAQKSEKAKAEKLVDIILKKDDKAFLGFVDALKATGYKDLAALLEPGRPV\n",
            "sample=95, score=0.8368, seq_recovery=0.4022\n",
            "MSPKARATLEAHREEIVARLEVEAVLAYMIEKGYFTEEEAAAVLAKPSRRERAAALVDIILGKDDAAFVAFVDALKATGYEDLAALLEPGLPV\n",
            "sample=96, score=0.8529, seq_recovery=0.3587\n",
            "MSPRALATIERHRERLVAELETDAVCDYMEARGVLSAEERAEIAAKPSRRAKAAALVDIILQKDDAAFRGFVEALRATGYEDLAALLEPGLPV\n",
            "sample=97, score=0.8091, seq_recovery=0.4239\n",
            "MSPKARATLERHRERLVAELETDEVIAAMIAAGTLSEEEAARVRAQPSRRARAAALVDIILGKDDAAFLAFVEALRATGYEDLAALLEPGRPV\n",
            "sample=98, score=0.8572, seq_recovery=0.3913\n",
            "MSPKALATLKKHRAELVAKIEVEEVLDYMIEKGTFSEEEKAAVLAKPSKEAKAAALVDIILKKDDAAFLAFVDALKAKGYEDLAALLEPGRPV\n",
            "sample=99, score=0.8842, seq_recovery=0.3478\n",
            "MSPKAKATLEKYRDEIVEKLKTEKVIKYMIEKGTLTEEEAAEVFAQPSERAKAEKLVEIILTKDDKAFLAFVEALKETGYEDLAEKLLPGLPV\n",
            "{'1cy6': (['A'], [])}\n",
            "A\n",
            "Length of chain A is 43\n",
            "Generating sequences...\n",
            ">1cy6, score=1.4505, fixed_chains=[], designed_chains=['A'], model_name=v_48_020\n",
            "TTIKVNGQEYTVPLSPEQAAKAAKKRWPDYEVQIHGNTVKVTR\n",
            "sample=0, score=0.6320, seq_recovery=0.6279\n",
            "TTIIVDGKEYKTDLSPEEAAKWAKEKYPDYEVKIEGDTVIVTK\n",
            "sample=1, score=0.7438, seq_recovery=0.4884\n",
            "TTVVVDGERFETPLTPEEAAAWAREQYPDYTVTVEGDTVIVTR\n",
            "sample=2, score=0.7498, seq_recovery=0.5349\n",
            "TTVIVDGEEFETPLTPEEAAAWAREQWPEYEVRVEGDTVVVTR\n",
            "sample=3, score=0.6900, seq_recovery=0.5349\n",
            "TKIIVDGKEYETDLSPEEAAEWAKKKYPEYKVTVEGDTVIVTK\n",
            "sample=4, score=0.6930, seq_recovery=0.5814\n",
            "TTIIVDGEKYETPLTPEEAAKWAKEKYPEYEVTIEGDTVIVTK\n",
            "sample=5, score=0.7246, seq_recovery=0.5581\n",
            "TTIIVDGEKYETDLSPEEAAAWAKEKWPDYTVTVEGDTVIVTK\n",
            "sample=6, score=0.7161, seq_recovery=0.5349\n",
            "TKIIVDGKVYETDLSPEEAAEWARKKWPEYEVTVEGDTVIVTK\n",
            "sample=7, score=0.7694, seq_recovery=0.5116\n",
            "TVIVVDGKKYYTPLTPEEAAAWAKQQYPDYTVTVEGDTVIVTK\n",
            "sample=8, score=0.6999, seq_recovery=0.5581\n",
            "TTIIVDGKEYKTDLTPEEAAAWAKKQYPDYTVTIEGDKVIVTK\n",
            "sample=9, score=0.6929, seq_recovery=0.5814\n",
            "TKIIVDGKEYETPLSPEEAAAWAKEQYPDYTVTIEGDTVIVTK\n",
            "sample=10, score=0.7030, seq_recovery=0.5349\n",
            "TKIVVDGKEYETDLTPEEAAAWAKKQYPEYEVTVEGDTVIVTK\n",
            "sample=11, score=0.7360, seq_recovery=0.5581\n",
            "TTIVVDGERFETPLTPEEAAAWARERYPEYEVTIEGDTVIVTR\n",
            "sample=12, score=0.7418, seq_recovery=0.5349\n",
            "TTIVVDGETFETPLSPEEAAAWAREQYPDYTVTVEGDTVIVTR\n",
            "sample=13, score=0.6762, seq_recovery=0.5814\n",
            "TTIVVDGKETKTPLTPEEAAAWAKKQYPDYKVTIEGDTVIVTK\n",
            "sample=14, score=0.7193, seq_recovery=0.5581\n",
            "TVIIVDGKEYYTDLSPEEAAKWAKEKYPDKTVTIEGDTVIVTK\n",
            "sample=15, score=0.7116, seq_recovery=0.6279\n",
            "TTIIVDGKEYTTDLSPEEAAEWAKKQYPDYTVTIEGDTVIVTK\n",
            "sample=16, score=0.7005, seq_recovery=0.5116\n",
            "TTIIVDGKEYKTDLTPEEAAAWAKEQYPDYTVTVEGDKVIVTK\n",
            "sample=17, score=0.7003, seq_recovery=0.5349\n",
            "TKIIVDGKETTTDLTPEEAAAWAKKQYPDKTVTIEGDTVIVTK\n",
            "sample=18, score=0.6869, seq_recovery=0.5349\n",
            "TTIIVDGEKTETDLTPEEAAEWAKKKYPDYTVTIEGDTVIVTK\n",
            "sample=19, score=0.6701, seq_recovery=0.5814\n",
            "TKIIVDGKEYETDLSPEEAAEWAKKKYPEYEVKIEGDTVIVTK\n",
            "sample=20, score=0.6852, seq_recovery=0.5814\n",
            "TTIIVDGKEYKTPLTPEEAAAWAKEKWPDKTVTIEGDTVIVTK\n",
            "sample=21, score=0.6910, seq_recovery=0.5349\n",
            "TKVIVDGKEYETDLTPEEAAAWAKKQYPDYEVTVEGDTVIVTK\n",
            "sample=22, score=0.7094, seq_recovery=0.5349\n",
            "TTIIVDGEEFETDLSPEEAAAWAKEQYPDKEVTVEGDTVIVTK\n",
            "sample=23, score=0.7032, seq_recovery=0.5116\n",
            "TKIIVDGKEYETPLTPEEAAAWAKEKYPDKTVTVEGDTVIVTK\n",
            "sample=24, score=0.7757, seq_recovery=0.5116\n",
            "TTVVVDGVRYETPLTPEEAAAWAREQYPDKEVRIEGDTVLVSR\n",
            "sample=25, score=0.7352, seq_recovery=0.5581\n",
            "TTIVVDGERYETPLTPEEAAAWAREKYPEYEVTIEGDTVIVTR\n",
            "sample=26, score=0.6677, seq_recovery=0.5814\n",
            "TTIIVDGKEYETDLTPEEAAEWAKKQYPEYEVTIEGDTVIVTK\n",
            "sample=27, score=0.7275, seq_recovery=0.5349\n",
            "TVIIVDGKEYITDLSPEEAAEWAKKQYPDYEVKVEGDKVIVSK\n",
            "sample=28, score=0.7221, seq_recovery=0.5349\n",
            "TTIIVDGKEYKTDLTPEEAAEWAKKQYPEKEVTVEGDTVKVSK\n",
            "sample=29, score=0.6678, seq_recovery=0.5349\n",
            "TKIIVDGKEYETDLTPEEAAEWAKKKWPDKKVTIEGDTVIVSK\n",
            "sample=30, score=0.7033, seq_recovery=0.5581\n",
            "TKIIVDGKVYETDLTPEEAAEWAKKQWPDYEVKIEGDTVIVSK\n",
            "sample=31, score=0.6771, seq_recovery=0.5814\n",
            "TTIIVDGKEYKTDLSPEEAAKWAKEKYPDYTVTVEGDTVIVTK\n",
            "sample=32, score=0.6608, seq_recovery=0.6047\n",
            "TTIIVDGKEEETDLSPEEAAEYAKKKYPDYEVTIEGDTVIVTK\n",
            "sample=33, score=0.7106, seq_recovery=0.5349\n",
            "TKIIVDGKEYETDLTPEEAAKWAKEKWPDKTVTVEGDTVIVTK\n",
            "sample=34, score=0.6540, seq_recovery=0.5581\n",
            "TTIVVDGEKYETDLTPEEAAKWAKEKYPDYTVTIEGDTVIVTK\n",
            "sample=35, score=0.6991, seq_recovery=0.5349\n",
            "TTVIVDGKEYKTDLTPEEAAEWAKKQYPEYTVTIEGDTVIVTK\n",
            "sample=36, score=0.7088, seq_recovery=0.5116\n",
            "TKIIVDGKEYETDLSPEEAAKWAREKYPEYEVTVEGDKVIVTK\n",
            "sample=37, score=0.6942, seq_recovery=0.5814\n",
            "TKIIVDGKEYETDLSPEEAAEWAKKKYPEYEVKIEGDTVIVTK\n",
            "sample=38, score=0.6958, seq_recovery=0.6512\n",
            "TKIIVDGKEYETPLSPEEAAEWAKKKWPDYKVTIEGDTVKVTK\n",
            "sample=39, score=0.7178, seq_recovery=0.4884\n",
            "TTVVVDGKTTTTDLTPEEAAAWAKKQYPDKTVTVDGDTVIVTK\n",
            "sample=40, score=0.6890, seq_recovery=0.5581\n",
            "TTIIVDGKEEKTDLTPEEAAEYAKKKYPDYTVTIEGDTVIVTK\n",
            "sample=41, score=0.6769, seq_recovery=0.5349\n",
            "TKIIVDGEEYETDLSPEEAAAWAKEKYPDYTVTVEGDTVIVTK\n",
            "sample=42, score=0.7264, seq_recovery=0.6047\n",
            "TTIVVDGKTYTTPLTPEEAAAWAKKQWPDYTVTVEGDTVIVTK\n",
            "sample=43, score=0.6953, seq_recovery=0.5116\n",
            "TKIIVDGKVYETDLTPEEAAAWAKEQYPDYTVTIEGDTVIVTK\n",
            "sample=44, score=0.6977, seq_recovery=0.6047\n",
            "TKIIVDGKEYITPLSPEEAAEWAKEKYPDYEVTIEGDTVIVTK\n",
            "sample=45, score=0.6440, seq_recovery=0.6047\n",
            "TTIIVDGKKYETDLSPEEAAKWAKEKWPEYEVTIEGDTVIVTK\n",
            "sample=46, score=0.6547, seq_recovery=0.5581\n",
            "TKIIVDGKEYETDLTPEEAAEWAKKKYPEYEVKIEGDTVIVTK\n",
            "sample=47, score=0.7067, seq_recovery=0.6047\n",
            "TIIIVDGKEYETPLSPEEAAEWAKKKWPEYEVTIEGDKVIVTK\n",
            "sample=48, score=0.7201, seq_recovery=0.5349\n",
            "TKIIVDGKEYYTDLTPEEAAEWAKEKYPEYEVTIEGDTVIVTK\n",
            "sample=49, score=0.6854, seq_recovery=0.5814\n",
            "TTIIVDGKEYKTDLSPEEAAKWAKEKYPDYTVTVEGDTVIVTK\n",
            "sample=50, score=0.6659, seq_recovery=0.5581\n",
            "TTIIVDGKEEKTDLSPEEAAKYAKEKYPEYEVTIEGDTVIVSK\n",
            "sample=51, score=0.6719, seq_recovery=0.5116\n",
            "TKIIVDGKVEETDLTPEEAAKYAKKKYPEYKVTIEGDTVIVTK\n",
            "sample=52, score=0.7391, seq_recovery=0.6279\n",
            "TTIIVDGKEYETPLSPEEAAKWAKEQWPEYTVTIEGDTVIVTK\n",
            "sample=53, score=0.7264, seq_recovery=0.6279\n",
            "TTIIVDGKEYKTPLSPEEAAAWAKKQWPDKTVTIDGDTVIVTK\n",
            "sample=54, score=0.7354, seq_recovery=0.5349\n",
            "TTIVVDGETFETPLSPEEAAAWAREKYPEYTVTIEGDTVIVTR\n",
            "sample=55, score=0.6887, seq_recovery=0.5116\n",
            "TKIIVDGKVYETDLTPEEAAEWAKKQYPEYEVTIEGDTVIVSK\n",
            "sample=56, score=0.6782, seq_recovery=0.6047\n",
            "TKIIVDGKEYETPLSPEEAAEWAKKQYPDKEVTIEGDTVIVTK\n",
            "sample=57, score=0.6923, seq_recovery=0.5814\n",
            "TKIIVDGKEYETDLSPEEAAAWAKEKWPEYEVTIEGDTVIVTK\n",
            "sample=58, score=0.6928, seq_recovery=0.5581\n",
            "TTIIVDGKKYETKLTPEEAAKWAKKKYPEYKVTIEGDTVIVTK\n",
            "sample=59, score=0.7109, seq_recovery=0.5349\n",
            "TRVVVDGEETETPLSPEEAAAWAREQYPDYEVTVEGDTVIVTR\n",
            "sample=60, score=0.7635, seq_recovery=0.4884\n",
            "TKIVVDGKTTETPLSPEEAAAWAREQYPDYTVTIDGDTVLVSK\n",
            "sample=61, score=0.7192, seq_recovery=0.5349\n",
            "TTVVVDGEEFETPLTPEEAAAWARERYPDYEVRVEGDRVVVTR\n",
            "sample=62, score=0.6668, seq_recovery=0.6047\n",
            "TTIIVDGKEYKTDLSPEEAAKWAKEKWPEYTVTIEGDTVIVTK\n",
            "sample=63, score=0.7147, seq_recovery=0.6047\n",
            "TTIIVDGKEYRTPLSPEEAAAWAREKWPEYEVTVEGDTVIVTR\n",
            "sample=64, score=0.6838, seq_recovery=0.5814\n",
            "TKIIVDGKEYETDLSPEEAAKWAKEKYPEYEVTIEGDTVIVTK\n",
            "sample=65, score=0.6993, seq_recovery=0.4651\n",
            "TKIIVDGKVTETPLTPEEAAAWAKEQYPEYTVTVEGDTVIVTK\n",
            "sample=66, score=0.6856, seq_recovery=0.5349\n",
            "TTIIVDGKEYKTDLTPEEAAAWAKEKYPDKEVTVEGDTVIVTK\n",
            "sample=67, score=0.6726, seq_recovery=0.6047\n",
            "TTIIVDGKEYKTPLSPEEAAAWAKEKYPEYEVTIEGDTVIVTK\n",
            "sample=68, score=0.7111, seq_recovery=0.5349\n",
            "TTVIVDGEEFETPLSPEEAAAWAREQYPEYEVTVEGDTVIVTR\n",
            "sample=69, score=0.7079, seq_recovery=0.5581\n",
            "TTIIVDGKETTTPLTPEEAAAWAKEKYPDYTVTVEGDTVIVTK\n",
            "sample=70, score=0.7892, seq_recovery=0.6047\n",
            "TTIIVDGKEYETPLSPEEAAELAKKLWPDKTVTIEGDKVIVTK\n",
            "sample=71, score=0.6291, seq_recovery=0.5814\n",
            "TKIIVDGKEYETDLTPEEAAKWAKEKYPDYEVTIEGDTVIVTK\n",
            "sample=72, score=0.6886, seq_recovery=0.5349\n",
            "TTIIVDGKEYKTDLTPEEAAEWAKKKYPEYKVTIEGDKVIVTK\n",
            "sample=73, score=0.6881, seq_recovery=0.5116\n",
            "TKIIVDGKEYETDLSPEEAAEWAKKQYPEYTVTVEGDKVIVTK\n",
            "sample=74, score=0.7310, seq_recovery=0.5349\n",
            "TTIIVDGKEFKTDLTPEEAAKWAKEKYPDKEVTIEGDKVIVTK\n",
            "sample=75, score=0.6541, seq_recovery=0.5349\n",
            "TKIIVDGKEYETDLTPEEAAEWAKKKYPDYKVTIEGDTVIVSK\n",
            "sample=76, score=0.6898, seq_recovery=0.5116\n",
            "TTIIVDGKEEKTDLTPEEAAEYAKKKYPDYKVTIEGDKVIVSK\n",
            "sample=77, score=0.7184, seq_recovery=0.5116\n",
            "TKIIVDGKETETDLTPEEAAAWAKKQYPDYTVTIEGDTVIVSK\n",
            "sample=78, score=0.7387, seq_recovery=0.5814\n",
            "TRIVVDGVEYETPLSPEEAAAWARAQYPDYEVTVDGDTVLVTR\n",
            "sample=79, score=0.7026, seq_recovery=0.5349\n",
            "TTIIVDGKEEKTDLTPEEAAEWAKEKYPDYEVTIEGDTVIVSK\n",
            "sample=80, score=0.7617, seq_recovery=0.5349\n",
            "TTIIVDGKETTTDLTPEEAAAWARKQYPDKTVTIDGDTVIVTK\n",
            "sample=81, score=0.7368, seq_recovery=0.5116\n",
            "TTIIVDGKEYKTDLTPEEAAAWAKKQFPEYTVTVEGDTVIVSK\n",
            "sample=82, score=0.7496, seq_recovery=0.5349\n",
            "TRVIVDGVEYETPLSPEEAAAWAREQWPEYTVTVEGDTVIVTR\n",
            "sample=83, score=0.6910, seq_recovery=0.5814\n",
            "TTIIVDGKEYKTPLTPEEAAAWAKKQYPDYTVTVEGDTVIVTK\n",
            "sample=84, score=0.7180, seq_recovery=0.6047\n",
            "TTIIVDGKEYETPLSPEEAAKWAREKWPEYEVRVEGDTVIVTK\n",
            "sample=85, score=0.6730, seq_recovery=0.5814\n",
            "TTIIVDGKEYKTDLTPEEAAEWAKKQYPDYEVKIEGDKVIVTK\n",
            "sample=86, score=0.7533, seq_recovery=0.5581\n",
            "TTIVVDGVEYETPLTPEEAAEWARQQWPEYEVTVEGDTVLVSR\n",
            "sample=87, score=0.6397, seq_recovery=0.6047\n",
            "TKIIVDGKEYETDLSPEEAAKWAKEKYPDYEVTIEGDTVIVTK\n",
            "sample=88, score=0.7325, seq_recovery=0.5116\n",
            "TKIIVDGKETITDLSPEEAAAWAREQYPDYTVTIEGDTVIVTK\n",
            "sample=89, score=0.7069, seq_recovery=0.6047\n",
            "TTVIVDGKEYKTPLSPEEAAAWAKEQWPDYTVTIEGDTVIVTK\n",
            "sample=90, score=0.7013, seq_recovery=0.5814\n",
            "TKIIVDGKEYETDLSPEEAAEWAKEKWPDKEVTIEGDTVIVTK\n",
            "sample=91, score=0.7143, seq_recovery=0.6279\n",
            "TTIVVDGVEYRTPLSPEEAAAWARERWPDYEVRVEGDRVIVTR\n",
            "sample=92, score=0.6907, seq_recovery=0.5116\n",
            "TTIIVDGKEEKTDLTPEEAAAYAKEKYPDYTVTVEGDTVIVTK\n",
            "sample=93, score=0.7154, seq_recovery=0.6047\n",
            "TTIVVDGKEYTTDLTPEEAAAWAKKQWPDYTVTVEGDTVIVTK\n",
            "sample=94, score=0.7319, seq_recovery=0.5814\n",
            "TTIIVDGKEYKTPLSPEEAAAWAKKQWPDKTVTVEGDKVIVTK\n",
            "sample=95, score=0.6685, seq_recovery=0.5581\n",
            "TKIIVDGKEYETDLTPEEAAKWAKEKYPEYEVTIEGDTVIVTK\n",
            "sample=96, score=0.6808, seq_recovery=0.5349\n",
            "TTIIVDGKETKTDLTPEEAAEWAKKQYPDYTVTVEGDTVIVTK\n",
            "sample=97, score=0.7348, seq_recovery=0.6512\n",
            "TKIIVDGKEYETPLSPEEAAKWAKEKWPEYEVRIEGDTVIVTR\n",
            "sample=98, score=0.7315, seq_recovery=0.5349\n",
            "TTVVVDGETYETPLSPEEAAAWAREQWPEYTVTVDGDTVRVTR\n",
            "sample=99, score=0.7330, seq_recovery=0.5349\n",
            "TKIIVDGKEYETPLSPEEAAEWAKKQYPEKTVTVEGDTVIVTE\n"
          ]
        }
      ],
      "source": [
        "import re\n",
        "import numpy as np\n",
        "\n",
        "\n",
        "def inference(pdb_path):\n",
        "    homomer = True #@param {type:\"boolean\"}\n",
        "    designed_chain = \"A\" #@param {type:\"string\"}\n",
        "    fixed_chain = \"\" #@param {type:\"string\"}\n",
        "\n",
        "    if designed_chain == \"\":\n",
        "        designed_chain_list = []\n",
        "    else:\n",
        "        designed_chain_list = re.sub(\"[^A-Za-z]+\",\",\", designed_chain).split(\",\")\n",
        "\n",
        "    if fixed_chain == \"\":\n",
        "        fixed_chain_list = []\n",
        "    else:\n",
        "        fixed_chain_list = re.sub(\"[^A-Za-z]+\",\",\", fixed_chain).split(\",\")\n",
        "\n",
        "    chain_list = list(set(designed_chain_list + fixed_chain_list))\n",
        "\n",
        "    #@markdown - specified which chain(s) to design and which chain(s) to keep fixed. \n",
        "    #@markdown   Use comma:`A,B` to specifiy more than one chain\n",
        "\n",
        "    #chain = \"A\" #@param {type:\"string\"}\n",
        "    #pdb_path_chains = chain\n",
        "    ##@markdown - Define which chain to redesign\n",
        "\n",
        "    #@markdown ### Design Options\n",
        "    num_seqs = 100 #@param [\"1\", \"2\", \"4\", \"8\", \"16\", \"32\", \"64\"] {type:\"raw\"}\n",
        "    num_seq_per_target = num_seqs\n",
        "\n",
        "    #@markdown - Sampling temperature for amino acids, T=0.0 means taking argmax, T>>1.0 means sample randomly.\n",
        "    sampling_temp = \"0.1\" #@param [\"0.0001\", \"0.1\", \"0.15\", \"0.2\", \"0.25\", \"0.3\", \"0.5\"]\n",
        "\n",
        "\n",
        "\n",
        "    save_score=0                      # 0 for False, 1 for True; save score=-log_prob to npy files\n",
        "    save_probs=0                      # 0 for False, 1 for True; save MPNN predicted probabilites per position\n",
        "    score_only=0                      # 0 for False, 1 for True; score input backbone-sequence pairs\n",
        "    conditional_probs_only=0          # 0 for False, 1 for True; output conditional probabilities p(s_i given the rest of the sequence and backbone)\n",
        "    conditional_probs_only_backbone=0 # 0 for False, 1 for True; if true output conditional probabilities p(s_i given backbone)\n",
        "\n",
        "    batch_size=1                      # Batch size; can set higher for titan, quadro GPUs, reduce this if running out of GPU memory\n",
        "    max_length=20000                  # Max sequence length\n",
        "\n",
        "    out_folder='.'                    # Path to a folder to output sequences, e.g. /home/out/\n",
        "    jsonl_path=''                     # Path to a folder with parsed pdb into jsonl\n",
        "    omit_AAs='X'                      # Specify which amino acids should be omitted in the generated sequence, e.g. 'AC' would omit alanine and cystine.\n",
        "\n",
        "    pssm_multi=0.0                    # A value between [0.0, 1.0], 0.0 means do not use pssm, 1.0 ignore MPNN predictions\n",
        "    pssm_threshold=0.0                # A value between -inf + inf to restric per position AAs\n",
        "    pssm_log_odds_flag=0               # 0 for False, 1 for True\n",
        "    pssm_bias_flag=0                   # 0 for False, 1 for True\n",
        "\n",
        "\n",
        "    ##############################################################\n",
        "\n",
        "    folder_for_outputs = out_folder\n",
        "\n",
        "    NUM_BATCHES = num_seq_per_target//batch_size\n",
        "    BATCH_COPIES = batch_size\n",
        "    temperatures = [float(item) for item in sampling_temp.split()]\n",
        "    omit_AAs_list = omit_AAs\n",
        "    alphabet = 'ACDEFGHIKLMNPQRSTVWYX'\n",
        "\n",
        "    omit_AAs_np = np.array([AA in omit_AAs_list for AA in alphabet]).astype(np.float32)\n",
        "\n",
        "    chain_id_dict = None\n",
        "    fixed_positions_dict = None\n",
        "    pssm_dict = None\n",
        "    omit_AA_dict = None\n",
        "    bias_AA_dict = None\n",
        "    tied_positions_dict = None\n",
        "    bias_by_res_dict = None\n",
        "    bias_AAs_np = np.zeros(len(alphabet))\n",
        "\n",
        "\n",
        "    ###############################################################\n",
        "    pdb_dict_list = parse_PDB(pdb_path, input_chain_list=chain_list)\n",
        "    dataset_valid = StructureDatasetPDB(pdb_dict_list, truncate=None, max_length=max_length)\n",
        "\n",
        "    chain_id_dict = {}\n",
        "    chain_id_dict[pdb_dict_list[0]['name']]= (designed_chain_list, fixed_chain_list)\n",
        "\n",
        "    print(chain_id_dict)\n",
        "    for chain in chain_list:\n",
        "        print(chain)\n",
        "        l = len(pdb_dict_list[0][f\"seq_chain_{chain}\"])\n",
        "        print(f\"Length of chain {chain} is {l}\")\n",
        "\n",
        "    if homomer:\n",
        "        tied_positions_dict = make_tied_positions_for_homomers(pdb_dict_list)\n",
        "    else:\n",
        "        tied_positions_dict = None\n",
        "\n",
        "    results = []\n",
        "    with torch.no_grad():\n",
        "        print('Generating sequences...')\n",
        "        for ix, protein in enumerate(dataset_valid):\n",
        "            score_list = []\n",
        "            all_probs_list = []\n",
        "            all_log_probs_list = []\n",
        "            S_sample_list = []\n",
        "            batch_clones = [copy.deepcopy(protein) for i in range(BATCH_COPIES)]\n",
        "            X, S, mask, lengths, chain_M, chain_encoding_all, chain_list_list, visible_list_list, masked_list_list, masked_chain_length_list_list, chain_M_pos, omit_AA_mask, residue_idx, dihedral_mask, tied_pos_list_of_lists_list, pssm_coef, pssm_bias, pssm_log_odds_all, bias_by_res_all, tied_beta = tied_featurize(batch_clones, device, chain_id_dict, fixed_positions_dict, omit_AA_dict, tied_positions_dict, pssm_dict, bias_by_res_dict)\n",
        "            pssm_log_odds_mask = (pssm_log_odds_all > pssm_threshold).float() #1.0 for true, 0.0 for false\n",
        "            name_ = batch_clones[0]['name']\n",
        "\n",
        "            randn_1 = torch.randn(chain_M.shape, device=X.device)\n",
        "            log_probs = model(X, S, mask, chain_M*chain_M_pos, residue_idx, chain_encoding_all, randn_1)\n",
        "            mask_for_loss = mask*chain_M*chain_M_pos\n",
        "            scores = _scores(S, log_probs, mask_for_loss)\n",
        "            native_score = scores.cpu().data.numpy()\n",
        "\n",
        "            for temp in temperatures:\n",
        "                for j in range(NUM_BATCHES):\n",
        "                    randn_2 = torch.randn(chain_M.shape, device=X.device)\n",
        "                    if tied_positions_dict == None:\n",
        "                        sample_dict = model.sample(X, randn_2, S, chain_M, chain_encoding_all, residue_idx, mask=mask, temperature=temp, omit_AAs_np=omit_AAs_np, bias_AAs_np=bias_AAs_np, chain_M_pos=chain_M_pos, omit_AA_mask=omit_AA_mask, pssm_coef=pssm_coef, pssm_bias=pssm_bias, pssm_multi=pssm_multi, pssm_log_odds_flag=bool(pssm_log_odds_flag), pssm_log_odds_mask=pssm_log_odds_mask, pssm_bias_flag=bool(pssm_bias_flag), bias_by_res=bias_by_res_all)\n",
        "                        S_sample = sample_dict[\"S\"] \n",
        "                    else:\n",
        "                        sample_dict = model.tied_sample(X, randn_2, S, chain_M, chain_encoding_all, residue_idx, mask=mask, temperature=temp, omit_AAs_np=omit_AAs_np, bias_AAs_np=bias_AAs_np, chain_M_pos=chain_M_pos, omit_AA_mask=omit_AA_mask, pssm_coef=pssm_coef, pssm_bias=pssm_bias, pssm_multi=pssm_multi, pssm_log_odds_flag=bool(pssm_log_odds_flag), pssm_log_odds_mask=pssm_log_odds_mask, pssm_bias_flag=bool(pssm_bias_flag), tied_pos=tied_pos_list_of_lists_list[0], tied_beta=tied_beta, bias_by_res=bias_by_res_all)\n",
        "                    # Compute scores\n",
        "                        S_sample = sample_dict[\"S\"]\n",
        "                    log_probs = model(X, S_sample, mask, chain_M*chain_M_pos, residue_idx, chain_encoding_all, randn_2, use_input_decoding_order=True, decoding_order=sample_dict[\"decoding_order\"])\n",
        "                    mask_for_loss = mask*chain_M*chain_M_pos\n",
        "                    scores = _scores(S_sample, log_probs, mask_for_loss)\n",
        "                    scores = scores.cpu().data.numpy()\n",
        "                    all_probs_list.append(sample_dict[\"probs\"].cpu().data.numpy())\n",
        "                    all_log_probs_list.append(log_probs.cpu().data.numpy())\n",
        "                    S_sample_list.append(S_sample.cpu().data.numpy())\n",
        "                    for b_ix in range(BATCH_COPIES):\n",
        "                        masked_chain_length_list = masked_chain_length_list_list[b_ix]\n",
        "                        masked_list = masked_list_list[b_ix]\n",
        "                        seq_recovery_rate = torch.sum(torch.sum(torch.nn.functional.one_hot(S[b_ix], 21)*torch.nn.functional.one_hot(S_sample[b_ix], 21),axis=-1)*mask_for_loss[b_ix])/torch.sum(mask_for_loss[b_ix])\n",
        "                        seq = _S_to_seq(S_sample[b_ix], chain_M[b_ix])\n",
        "                        score = scores[b_ix]\n",
        "                        score_list.append(score)\n",
        "                        native_seq = _S_to_seq(S[b_ix], chain_M[b_ix])\n",
        "                        if b_ix == 0 and j==0 and temp==temperatures[0]:\n",
        "                            start = 0\n",
        "                            end = 0\n",
        "                            list_of_AAs = []\n",
        "                            for mask_l in masked_chain_length_list:\n",
        "                                end += mask_l\n",
        "                                list_of_AAs.append(native_seq[start:end])\n",
        "                                start = end\n",
        "                            native_seq = \"\".join(list(np.array(list_of_AAs)[np.argsort(masked_list)]))\n",
        "                            l0 = 0\n",
        "                            for mc_length in list(np.array(masked_chain_length_list)[np.argsort(masked_list)])[:-1]:\n",
        "                                l0 += mc_length\n",
        "                                native_seq = native_seq[:l0] + '/' + native_seq[l0:]\n",
        "                                l0 += 1\n",
        "                            sorted_masked_chain_letters = np.argsort(masked_list_list[0])\n",
        "                            print_masked_chains = [masked_list_list[0][i] for i in sorted_masked_chain_letters]\n",
        "                            sorted_visible_chain_letters = np.argsort(visible_list_list[0])\n",
        "                            print_visible_chains = [visible_list_list[0][i] for i in sorted_visible_chain_letters]\n",
        "                            native_score_print = np.format_float_positional(np.float32(native_score.mean()), unique=False, precision=4)\n",
        "                            line = '>{}, score={}, fixed_chains={}, designed_chains={}, model_name={}\\n{}\\n'.format(name_, native_score_print, print_visible_chains, print_masked_chains, model_name, native_seq)\n",
        "                            print(line.rstrip())\n",
        "                            results.append(line.rstrip())\n",
        "                        start = 0\n",
        "                        end = 0\n",
        "                        list_of_AAs = []\n",
        "                        for mask_l in masked_chain_length_list:\n",
        "                            end += mask_l\n",
        "                            list_of_AAs.append(seq[start:end])\n",
        "                            start = end\n",
        "\n",
        "                        seq = \"\".join(list(np.array(list_of_AAs)[np.argsort(masked_list)]))\n",
        "                        l0 = 0\n",
        "                        for mc_length in list(np.array(masked_chain_length_list)[np.argsort(masked_list)])[:-1]:\n",
        "                            l0 += mc_length\n",
        "                            seq = seq[:l0] + '/' + seq[l0:]\n",
        "                            l0 += 1\n",
        "                        score_print = np.format_float_positional(np.float32(score), unique=False, precision=4)\n",
        "                        seq_rec_print = np.format_float_positional(np.float32(seq_recovery_rate.detach().cpu().numpy()), unique=False, precision=4)\n",
        "                        line = 'sample={}, score={}, seq_recovery={}\\n{}\\n'.format(j,score_print,seq_rec_print,seq)\n",
        "                        print(line.rstrip())\n",
        "                        results.append(line.rstrip())\n",
        "\n",
        "\n",
        "    all_probs_concat = np.concatenate(all_probs_list)\n",
        "    all_log_probs_concat = np.concatenate(all_log_probs_list)\n",
        "    S_sample_concat = np.concatenate(S_sample_list)\n",
        "\n",
        "    pdb_path = Path(pdb_path)\n",
        "    with open(pdb_path.parent / (pdb_path.stem + \".txt\"), \"w\") as f:\n",
        "        f.write(\"\\n\".join(results))\n",
        "\n",
        "    return results\n",
        "\n",
        "\n",
        "from pathlib import Path\n",
        "results = []\n",
        "for pdb_path in Path(\"./pdb\").glob(\"*.pdb\"):\n",
        "    results += inference(str(pdb_path))\n",
        "\n",
        "with open(\"results.txt\", \"w\") as f:\n",
        "    f.write(\"\\n\".join(results))"
      ]
    }
  ],
  "metadata": {
    "colab": {
      "name": "quickdemo.ipynb",
      "provenance": []
    },
    "kernelspec": {
      "display_name": "Python 3.9.13 ('deep-cpi')",
      "language": "python",
      "name": "python3"
    },
    "language_info": {
      "codemirror_mode": {
        "name": "ipython",
        "version": 3
      },
      "file_extension": ".py",
      "mimetype": "text/x-python",
      "name": "python",
      "nbconvert_exporter": "python",
      "pygments_lexer": "ipython3",
      "version": "3.9.13"
    },
    "vscode": {
      "interpreter": {
        "hash": "4facb85c4eebbfbc3ba62e5f23998ca6a47c4bb655fa2a78aa3d557003bf95cd"
      }
    }
  },
  "nbformat": 4,
  "nbformat_minor": 0
}
